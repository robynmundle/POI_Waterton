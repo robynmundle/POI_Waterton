{
 "cells": [
  {
   "cell_type": "code",
   "execution_count": 2,
   "id": "educated-programming",
   "metadata": {},
   "outputs": [],
   "source": [
    "import pandas as pd\n",
    "from pandas.io.json import json_normalize\n",
    "import os\n",
    "import foursquare\n",
    "import requests as re\n",
    "from IPython.display import JSON # this makes a field expandable return structure of the json information\n",
    "import numpy as np"
   ]
  },
  {
   "cell_type": "markdown",
   "id": "congressional-rebecca",
   "metadata": {},
   "source": [
    "The main goal of the mini-project is to build the database of restaurants, bars and various points of interest (POIs) in the area of your choice and find out which API has better coverage in the selected area. The APIs have limited number of requests for free, so start with the smaller area. The project consists of following tasks:"
   ]
  },
  {
   "cell_type": "markdown",
   "id": "structured-pacific",
   "metadata": {},
   "source": [
    "- pull the data about various POIs in the area through API. (Search Yelp for companiees that are in the area using [these instructions](https://www.yelp.com/developers/documentation/v3/business_search)). \n",
    "    - If you run out of requests for any of the APIs, don't worry, it's ok to use only sample data you already have or the POIs from the Yelp API. It's approach and process that counts, not the actual number of places we were able to get.\n",
    "- create own SQLite database and store the data about the POIs. Think about what will be the best structure of the database. We've used and created sqlite3 databases before in the activity [**SQL in Python**](https://data.compass.lighthouselabs.ca/b9e08cd5-68c6-490c-a32b-a66f01bf53e1).\n",
    "- compare the results using SQL or Pandas (it's up to you:)) and see which API has a better coverage of the area.\n",
    "- choose the top 10 POIs based on the popularity (number of reviews or average rating) ([Yelp](https://www.yelp.com/developers/documentation/v3/business), [Foursquare](https://developer.foursquare.com/docs/api-reference/venues/details/)).\n",
    "- (Stretch) By implementing [travelling salesman problem (TSP)](https://en.wikipedia.org/wiki/Travelling_salesman_problem), how much time would it take to visit all of these places? ([Directions API](https://developers.google.com/maps/documentation/directions/start) from google will be helpful here). We will have to find travel time between all places (top 10). We can use [ortools](https://developers.google.com/optimization/routing/tsp) from Google to effectively implement TSP. These tools are very powerful and [easy to install](https://developers.google.com/optimization/install)."
   ]
  },
  {
   "cell_type": "markdown",
   "id": "liable-economy",
   "metadata": {},
   "source": [
    "# YELP /businesses/search"
   ]
  },
  {
   "cell_type": "markdown",
   "id": "received-spring",
   "metadata": {},
   "source": [
    "This endpoint returns up to 1000 businesses based on the provided search criteria. It has some basic information about the business. To get detailed information and reviews, please use the Business ID returned here and refer to [/businesses/{id}](https://www.yelp.com/developers/documentation/v3/business) and [/businesses/{id}/reviews](https://www.yelp.com/developers/documentation/v3/business_reviews) endpoints."
   ]
  },
  {
   "cell_type": "code",
   "execution_count": 28,
   "id": "horizontal-water",
   "metadata": {},
   "outputs": [],
   "source": [
    "yelp_id = os.environ['yelp_ID']\n",
    "yelp_key = os.environ['yelp_Key']\n",
    "\n",
    "location = 'Waterton Park'\n",
    "\n",
    "url = f'https://api.yelp.com/v3/businesses/search?location={location}&limit=50'\n",
    "headers = {'Authorization': 'Bearer %s' % yelp_key}\n",
    "\n",
    "# commented out to avoid running multiple requests\n",
    "# res = re.get(url, headers=headers)\n",
    "yelp_json = res.json()"
   ]
  },
  {
   "cell_type": "code",
   "execution_count": 28,
   "id": "focal-invalid",
   "metadata": {},
   "outputs": [
    {
     "data": {
      "text/plain": [
       "['Wieners of Waterton',\n",
       " 'Waffleton',\n",
       " 'Trappers Mountain Grill',\n",
       " \"Zum's Restaurant and Mercantile\",\n",
       " 'Lakeside Chophouse',\n",
       " 'Pearls Cafe',\n",
       " '49 Degrees North Pizza',\n",
       " 'Pizza of Waterton',\n",
       " 'The Taco Bar',\n",
       " 'Wildflower Ave Corner Coffee',\n",
       " 'Waterton Lakes National Park',\n",
       " 'Thirsty Bear Waterton - Kitchen & Bar',\n",
       " 'Red Rock Trattoria',\n",
       " 'Fireside Lounge & Wine Bar',\n",
       " \"Zum's Eatery In Waterton\",\n",
       " \"Vimy's Lounge & Grill\",\n",
       " 'The Big Scoop',\n",
       " 'Waterton Bagel & Coffee',\n",
       " 'Mountain Top Yogurt Shoppe',\n",
       " 'Waterton Lakes National Park Alberta',\n",
       " 'Bertha Lake Trail',\n",
       " 'BeaverTails',\n",
       " 'Glacier Bistro',\n",
       " 'Windsor Lounge',\n",
       " 'Akamina Parkway',\n",
       " 'Royal Stewart Dining Room',\n",
       " 'Subway']"
      ]
     },
     "execution_count": 28,
     "metadata": {},
     "output_type": "execute_result"
    }
   ],
   "source": [
    "name_businesses_yelp = []\n",
    "for i in yelp_json['businesses']:\n",
    "    name_businesses_yelp.append(i['name'])\n",
    "name_businesses_yelp"
   ]
  },
  {
   "cell_type": "code",
   "execution_count": 29,
   "id": "polar-mason",
   "metadata": {},
   "outputs": [
    {
     "data": {
      "application/json": {
       "businesses": [
        {
         "alias": "wieners-of-waterton-waterton-park",
         "categories": [
          {
           "alias": "hotdog",
           "title": "Hot Dogs"
          }
         ],
         "coordinates": {
          "latitude": 49.052073377549,
          "longitude": -113.907794952393
         },
         "display_phone": "+1 403-859-0007",
         "distance": 137.94012715255488,
         "id": "nGkAzQtKPKyN67cyso5wUw",
         "image_url": "https://s3-media4.fl.yelpcdn.com/bphoto/AWlAGVDG8jLN8kVttToTmw/o.jpg",
         "is_closed": false,
         "location": {
          "address1": "301 Windflower Avenue",
          "address2": null,
          "address3": "",
          "city": "Waterton Park",
          "country": "CA",
          "display_address": [
           "301 Windflower Avenue",
           "Waterton Park, AB T0K 2M0",
           "Canada"
          ],
          "state": "AB",
          "zip_code": "T0K 2M0"
         },
         "name": "Wieners of Waterton",
         "phone": "+14038590007",
         "price": "$",
         "rating": 4.5,
         "review_count": 74,
         "transactions": [],
         "url": "https://www.yelp.com/biz/wieners-of-waterton-waterton-park?adjust_creative=GU7aSkZCtuTOwcbwrjZ4gw&utm_campaign=yelp_api_v3&utm_medium=api_v3_business_search&utm_source=GU7aSkZCtuTOwcbwrjZ4gw"
        },
        {
         "alias": "waffleton-waterton",
         "categories": [
          {
           "alias": "coffee",
           "title": "Coffee & Tea"
          },
          {
           "alias": "icecream",
           "title": "Ice Cream & Frozen Yogurt"
          },
          {
           "alias": "bakeries",
           "title": "Bakeries"
          }
         ],
         "coordinates": {
          "latitude": 49.052043,
          "longitude": -113.907825
         },
         "display_phone": "+1 403-859-2131",
         "distance": 134.00053334369497,
         "id": "rJ6row-Kq57UcyOcCl-Qqg",
         "image_url": "https://s3-media3.fl.yelpcdn.com/bphoto/6Vp4XCCtrNUyPFqrXKJ1Rw/o.jpg",
         "is_closed": false,
         "location": {
          "address1": "301 Windflower Avenue",
          "address2": "",
          "address3": "",
          "city": "Waterton",
          "country": "CA",
          "display_address": [
           "301 Windflower Avenue",
           "Waterton, AB T0K 2M0",
           "Canada"
          ],
          "state": "AB",
          "zip_code": "T0K 2M0"
         },
         "name": "Waffleton",
         "phone": "+14038592131",
         "price": "$",
         "rating": 4.5,
         "review_count": 28,
         "transactions": [],
         "url": "https://www.yelp.com/biz/waffleton-waterton?adjust_creative=GU7aSkZCtuTOwcbwrjZ4gw&utm_campaign=yelp_api_v3&utm_medium=api_v3_business_search&utm_source=GU7aSkZCtuTOwcbwrjZ4gw"
        },
        {
         "alias": "trappers-mountain-grill-division-no-3",
         "categories": [
          {
           "alias": "tradamerican",
           "title": "American (Traditional)"
          },
          {
           "alias": "steak",
           "title": "Steakhouses"
          },
          {
           "alias": "burgers",
           "title": "Burgers"
          }
         ],
         "coordinates": {
          "latitude": 49.0520868193539,
          "longitude": -113.90700214174
         },
         "display_phone": "+1 403-859-2240",
         "distance": 168.92059209260103,
         "id": "lzCs5g98NnJtcD0AnWfRWg",
         "image_url": "https://s3-media2.fl.yelpcdn.com/bphoto/_olqVPJ7Zj0GIr509zpDTw/o.jpg",
         "is_closed": false,
         "location": {
          "address1": "Waterton Lakes National Park",
          "address2": "106 Waterton Avenue  Stuite A",
          "address3": "",
          "city": "Division No. 3",
          "country": "CA",
          "display_address": [
           "Waterton Lakes National Park",
           "106 Waterton Avenue  Stuite A",
           "Division No. 3, AB T0K 2M0",
           "Canada"
          ],
          "state": "AB",
          "zip_code": "T0K 2M0"
         },
         "name": "Trappers Mountain Grill",
         "phone": "+14038592240",
         "price": "$$",
         "rating": 3.5,
         "review_count": 42,
         "transactions": [],
         "url": "https://www.yelp.com/biz/trappers-mountain-grill-division-no-3?adjust_creative=GU7aSkZCtuTOwcbwrjZ4gw&utm_campaign=yelp_api_v3&utm_medium=api_v3_business_search&utm_source=GU7aSkZCtuTOwcbwrjZ4gw"
        },
        {
         "alias": "zums-restaurant-and-mercantile-waterton-park",
         "categories": [
          {
           "alias": "hotdogs",
           "title": "Fast Food"
          },
          {
           "alias": "pizza",
           "title": "Pizza"
          }
         ],
         "coordinates": {
          "latitude": 49.0479088,
          "longitude": -113.9082031
         },
         "display_phone": "+1 403-859-2388",
         "distance": 73.65775162923025,
         "id": "mnw-CowIWVDPeUddxLIxSg",
         "image_url": "https://s3-media1.fl.yelpcdn.com/bphoto/TxLrXLyQyzga2EsCKYsqmQ/o.jpg",
         "is_closed": false,
         "location": {
          "address1": "116 Waterton Ave",
          "address2": "",
          "address3": "",
          "city": "Waterton Park",
          "country": "CA",
          "display_address": [
           "116 Waterton Ave",
           "Waterton Park, AB T0K 2M0",
           "Canada"
          ],
          "state": "AB",
          "zip_code": "T0K 2M0"
         },
         "name": "Zum's Restaurant and Mercantile",
         "phone": "+14038592388",
         "price": "$$",
         "rating": 3.5,
         "review_count": 30,
         "transactions": [],
         "url": "https://www.yelp.com/biz/zums-restaurant-and-mercantile-waterton-park?adjust_creative=GU7aSkZCtuTOwcbwrjZ4gw&utm_campaign=yelp_api_v3&utm_medium=api_v3_business_search&utm_source=GU7aSkZCtuTOwcbwrjZ4gw"
        },
        {
         "alias": "lakeside-chophouse-waterton-park",
         "categories": [
          {
           "alias": "diners",
           "title": "Diners"
          },
          {
           "alias": "breakfast_brunch",
           "title": "Breakfast & Brunch"
          },
          {
           "alias": "lounges",
           "title": "Lounges"
          }
         ],
         "coordinates": {
          "latitude": 49.0520353417394,
          "longitude": -113.906484759012
         },
         "display_phone": "+1 403-859-2211",
         "distance": 191.38976287004266,
         "id": "WQogMCDdSssXE57qNvZODg",
         "image_url": "https://s3-media3.fl.yelpcdn.com/bphoto/cDgySBKs6J-7B0TyTlgV9g/o.jpg",
         "is_closed": false,
         "location": {
          "address1": "111 Waterton Avenue",
          "address2": "Ste 101",
          "address3": "",
          "city": "Waterton Park",
          "country": "CA",
          "display_address": [
           "111 Waterton Avenue",
           "Ste 101",
           "Waterton Park, AB T0K 2M0",
           "Canada"
          ],
          "state": "AB",
          "zip_code": "T0K 2M0"
         },
         "name": "Lakeside Chophouse",
         "phone": "+14038592211",
         "price": "$$$",
         "rating": 3,
         "review_count": 37,
         "transactions": [],
         "url": "https://www.yelp.com/biz/lakeside-chophouse-waterton-park?adjust_creative=GU7aSkZCtuTOwcbwrjZ4gw&utm_campaign=yelp_api_v3&utm_medium=api_v3_business_search&utm_source=GU7aSkZCtuTOwcbwrjZ4gw"
        },
        {
         "alias": "pearls-cafe-waterton-park",
         "categories": [
          {
           "alias": "cafes",
           "title": "Cafes"
          }
         ],
         "coordinates": {
          "latitude": 49.0512129088114,
          "longitude": -113.908552146033
         },
         "display_phone": "+1 403-859-2660",
         "distance": 33.26403951606354,
         "id": "avnM6BzAwpUU1OhWW2wasg",
         "image_url": "https://s3-media4.fl.yelpcdn.com/bphoto/O9FCTX_FFqOxF3hgqyCmbg/o.jpg",
         "is_closed": false,
         "location": {
          "address1": "305 Windflower Avenue",
          "address2": null,
          "address3": "",
          "city": "Waterton Park",
          "country": "CA",
          "display_address": [
           "305 Windflower Avenue",
           "Waterton Park, AB T0K 2M0",
           "Canada"
          ],
          "state": "AB",
          "zip_code": "T0K 2M0"
         },
         "name": "Pearls Cafe",
         "phone": "+14038592660",
         "price": "$$",
         "rating": 3.5,
         "review_count": 18,
         "transactions": [],
         "url": "https://www.yelp.com/biz/pearls-cafe-waterton-park?adjust_creative=GU7aSkZCtuTOwcbwrjZ4gw&utm_campaign=yelp_api_v3&utm_medium=api_v3_business_search&utm_source=GU7aSkZCtuTOwcbwrjZ4gw"
        },
        {
         "alias": "49-degrees-north-pizza-waterton-park",
         "categories": [
          {
           "alias": "pizza",
           "title": "Pizza"
          }
         ],
         "coordinates": {
          "latitude": 49.0518451322616,
          "longitude": -113.908286846133
         },
         "display_phone": "+1 403-859-3000",
         "distance": 104.13596492446759,
         "id": "YzBmc4OJVz-vWViXgqI08g",
         "image_url": "https://s3-media4.fl.yelpcdn.com/bphoto/7kczx1gkFwrFAasSltt_QA/o.jpg",
         "is_closed": false,
         "location": {
          "address1": "305 Windflower Avenue",
          "address2": "",
          "address3": null,
          "city": "Waterton Park",
          "country": "CA",
          "display_address": [
           "305 Windflower Avenue",
           "Waterton Park, AB T0K 2M0",
           "Canada"
          ],
          "state": "AB",
          "zip_code": "T0K 2M0"
         },
         "name": "49 Degrees North Pizza",
         "phone": "+14038593000",
         "rating": 4.5,
         "review_count": 11,
         "transactions": [],
         "url": "https://www.yelp.com/biz/49-degrees-north-pizza-waterton-park?adjust_creative=GU7aSkZCtuTOwcbwrjZ4gw&utm_campaign=yelp_api_v3&utm_medium=api_v3_business_search&utm_source=GU7aSkZCtuTOwcbwrjZ4gw"
        },
        {
         "alias": "pizza-of-waterton-waterton-park",
         "categories": [
          {
           "alias": "pizza",
           "title": "Pizza"
          }
         ],
         "coordinates": {
          "latitude": 49.0512691608552,
          "longitude": -113.908509230688
         },
         "display_phone": "+1 403-859-2660",
         "distance": 39.17105985661188,
         "id": "FJBrr95HUkKLsEpUc0AixQ",
         "image_url": "https://s3-media2.fl.yelpcdn.com/bphoto/3sve6q8HqOOp4QX0vqHd5w/o.jpg",
         "is_closed": false,
         "location": {
          "address1": "305 Windflower Ave",
          "address2": "",
          "address3": "",
          "city": "Waterton Park",
          "country": "CA",
          "display_address": [
           "305 Windflower Ave",
           "Waterton Park, AB T0K 2M0",
           "Canada"
          ],
          "state": "AB",
          "zip_code": "T0K 2M0"
         },
         "name": "Pizza of Waterton",
         "phone": "+14038592660",
         "price": "$$",
         "rating": 3.5,
         "review_count": 22,
         "transactions": [],
         "url": "https://www.yelp.com/biz/pizza-of-waterton-waterton-park?adjust_creative=GU7aSkZCtuTOwcbwrjZ4gw&utm_campaign=yelp_api_v3&utm_medium=api_v3_business_search&utm_source=GU7aSkZCtuTOwcbwrjZ4gw"
        },
        {
         "alias": "the-taco-bar-waterton-lakes-national-park",
         "categories": [
          {
           "alias": "mexican",
           "title": "Mexican"
          }
         ],
         "coordinates": {
          "latitude": 49.0513801574707,
          "longitude": -113.913963317871
         },
         "display_phone": "+1 403-915-2294",
         "distance": 42.59103482153592,
         "id": "NOPPTbOXkHh7zxis6cYPgg",
         "image_url": "https://s3-media3.fl.yelpcdn.com/bphoto/JI0Q5O3TX5mF931o1xgMvQ/o.jpg",
         "is_closed": false,
         "location": {
          "address1": "300 Windflower Avenue",
          "address2": "",
          "address3": "",
          "city": "Waterton Lakes National Park",
          "country": "CA",
          "display_address": [
           "300 Windflower Avenue",
           "Waterton Lakes National Park, AB T0K 2M0",
           "Canada"
          ],
          "state": "AB",
          "zip_code": "T0K 2M0"
         },
         "name": "The Taco Bar",
         "phone": "+14039152294",
         "price": "$",
         "rating": 3.5,
         "review_count": 20,
         "transactions": [],
         "url": "https://www.yelp.com/biz/the-taco-bar-waterton-lakes-national-park?adjust_creative=GU7aSkZCtuTOwcbwrjZ4gw&utm_campaign=yelp_api_v3&utm_medium=api_v3_business_search&utm_source=GU7aSkZCtuTOwcbwrjZ4gw"
        },
        {
         "alias": "wildflower-ave-corner-coffee-waterton",
         "categories": [
          {
           "alias": "coffee",
           "title": "Coffee & Tea"
          },
          {
           "alias": "breakfast_brunch",
           "title": "Breakfast & Brunch"
          }
         ],
         "coordinates": {
          "latitude": 49.0509983090691,
          "longitude": -113.908491299518
         },
         "display_phone": "+1 403-331-8194",
         "distance": 9.029673441260396,
         "id": "R5Ki1NqnWC3y3U2RsDNLyg",
         "image_url": "https://s3-media2.fl.yelpcdn.com/bphoto/WuFBTyeVEJHk5UY_xCCoMw/o.jpg",
         "is_closed": false,
         "location": {
          "address1": "309 Windflower Avenue",
          "address2": "",
          "address3": null,
          "city": "Waterton",
          "country": "CA",
          "display_address": [
           "309 Windflower Avenue",
           "Waterton, AB T0K 2M0",
           "Canada"
          ],
          "state": "AB",
          "zip_code": "T0K 2M0"
         },
         "name": "Wildflower Ave Corner Coffee",
         "phone": "+14033318194",
         "price": "$",
         "rating": 4.5,
         "review_count": 9,
         "transactions": [],
         "url": "https://www.yelp.com/biz/wildflower-ave-corner-coffee-waterton?adjust_creative=GU7aSkZCtuTOwcbwrjZ4gw&utm_campaign=yelp_api_v3&utm_medium=api_v3_business_search&utm_source=GU7aSkZCtuTOwcbwrjZ4gw"
        },
        {
         "alias": "waterton-lakes-national-park-waterton-park",
         "categories": [
          {
           "alias": "parks",
           "title": "Parks"
          }
         ],
         "coordinates": {
          "latitude": 49.082896,
          "longitude": -113.915587
         },
         "display_phone": "+1 403-859-5133",
         "distance": 3593.340016889959,
         "id": "vYVc3QhRcZfthy0A7yMaVA",
         "image_url": "https://s3-media4.fl.yelpcdn.com/bphoto/HVgcMzAuqbW_1h9ereU98Q/o.jpg",
         "is_closed": false,
         "location": {
          "address1": "Alberta 5",
          "address2": "",
          "address3": "",
          "city": "Waterton Park",
          "country": "CA",
          "display_address": [
           "Alberta 5",
           "Waterton Park, AB T0K 2M0",
           "Canada"
          ],
          "state": "AB",
          "zip_code": "T0K 2M0"
         },
         "name": "Waterton Lakes National Park",
         "phone": "+14038595133",
         "rating": 5,
         "review_count": 24,
         "transactions": [],
         "url": "https://www.yelp.com/biz/waterton-lakes-national-park-waterton-park?adjust_creative=GU7aSkZCtuTOwcbwrjZ4gw&utm_campaign=yelp_api_v3&utm_medium=api_v3_business_search&utm_source=GU7aSkZCtuTOwcbwrjZ4gw"
        },
        {
         "alias": "thirsty-bear-waterton-kitchen-and-bar-waterton-park",
         "categories": [
          {
           "alias": "pubs",
           "title": "Pubs"
          }
         ],
         "coordinates": {
          "latitude": 49.051569,
          "longitude": -113.906489
         },
         "display_phone": "+1 403-859-2211",
         "distance": 162.28583464241305,
         "id": "Poc-_pzn4IH2mrwV3v5ZWA",
         "image_url": "https://s3-media1.fl.yelpcdn.com/bphoto/lyABkdT-1ZwmYmt8x8gEwQ/o.jpg",
         "is_closed": false,
         "location": {
          "address1": "111 Waterton Ave",
          "address2": "",
          "address3": "",
          "city": "Waterton Park",
          "country": "CA",
          "display_address": [
           "111 Waterton Ave",
           "Waterton Park, AB T0K 2M0",
           "Canada"
          ],
          "state": "AB",
          "zip_code": "T0K 2M0"
         },
         "name": "Thirsty Bear Waterton - Kitchen & Bar",
         "phone": "+14038592211",
         "price": "$$",
         "rating": 3.5,
         "review_count": 16,
         "transactions": [],
         "url": "https://www.yelp.com/biz/thirsty-bear-waterton-kitchen-and-bar-waterton-park?adjust_creative=GU7aSkZCtuTOwcbwrjZ4gw&utm_campaign=yelp_api_v3&utm_medium=api_v3_business_search&utm_source=GU7aSkZCtuTOwcbwrjZ4gw"
        },
        {
         "alias": "red-rock-trattoria-waterton",
         "categories": [
          {
           "alias": "italian",
           "title": "Italian"
          }
         ],
         "coordinates": {
          "latitude": 49.0529615549458,
          "longitude": -113.909971984098
         },
         "display_phone": "+1 403-859-2004",
         "distance": 251.92007329908566,
         "id": "wq-AYDQtwKzkv34bfgm4zw",
         "image_url": "https://s3-media1.fl.yelpcdn.com/bphoto/8vS-c9FAbyd0l_lKg6Ujow/o.jpg",
         "is_closed": false,
         "location": {
          "address1": "107 Windflower Avenue",
          "address2": "Box 51",
          "address3": "",
          "city": "Waterton",
          "country": "CA",
          "display_address": [
           "107 Windflower Avenue",
           "Box 51",
           "Waterton, AB T0K 2M0",
           "Canada"
          ],
          "state": "AB",
          "zip_code": "T0K 2M0"
         },
         "name": "Red Rock Trattoria",
         "phone": "+14038592004",
         "rating": 4,
         "review_count": 15,
         "transactions": [],
         "url": "https://www.yelp.com/biz/red-rock-trattoria-waterton?adjust_creative=GU7aSkZCtuTOwcbwrjZ4gw&utm_campaign=yelp_api_v3&utm_medium=api_v3_business_search&utm_source=GU7aSkZCtuTOwcbwrjZ4gw"
        },
        {
         "alias": "fireside-lounge-and-wine-bar-waterton-park",
         "categories": [
          {
           "alias": "jazzandblues",
           "title": "Jazz & Blues"
          },
          {
           "alias": "lounges",
           "title": "Lounges"
          },
          {
           "alias": "tapasmallplates",
           "title": "Tapas/Small Plates"
          }
         ],
         "coordinates": {
          "latitude": 49.052269,
          "longitude": -113.906167
         },
         "display_phone": "+1 403-859-2211",
         "distance": 225.92134514472386,
         "id": "sBWHIK-GnppueEMVMQ-g-w",
         "image_url": "https://s3-media1.fl.yelpcdn.com/bphoto/cRd0Z5cTk1cpQepeYqHMIQ/o.jpg",
         "is_closed": false,
         "location": {
          "address1": "111 Waterton Avenue",
          "address2": "",
          "address3": "",
          "city": "Waterton Park",
          "country": "CA",
          "display_address": [
           "111 Waterton Avenue",
           "Waterton Park, AB T0K 2M0",
           "Canada"
          ],
          "state": "AB",
          "zip_code": "T0K 2M0"
         },
         "name": "Fireside Lounge & Wine Bar",
         "phone": "+14038592211",
         "price": "$$",
         "rating": 4,
         "review_count": 12,
         "transactions": [],
         "url": "https://www.yelp.com/biz/fireside-lounge-and-wine-bar-waterton-park?adjust_creative=GU7aSkZCtuTOwcbwrjZ4gw&utm_campaign=yelp_api_v3&utm_medium=api_v3_business_search&utm_source=GU7aSkZCtuTOwcbwrjZ4gw"
        },
        {
         "alias": "zums-eatery-in-waterton-waterton-3",
         "categories": [
          {
           "alias": "breakfast_brunch",
           "title": "Breakfast & Brunch"
          },
          {
           "alias": "diners",
           "title": "Diners"
          }
         ],
         "coordinates": {
          "latitude": 49.04829,
          "longitude": -113.90767
         },
         "display_phone": "+1 403-859-2388",
         "distance": 73.65775162923025,
         "id": "SfN1FBGMjgXAXa1jFzI3vA",
         "image_url": "https://s3-media3.fl.yelpcdn.com/bphoto/RRZ0G2xRMOKXBhPXiwciZw/o.jpg",
         "is_closed": false,
         "location": {
          "address1": "116 Waterton Ave",
          "address2": "",
          "address3": "",
          "city": "Waterton",
          "country": "CA",
          "display_address": [
           "116 Waterton Ave",
           "Waterton, AB T0K",
           "Canada"
          ],
          "state": "AB",
          "zip_code": "T0K"
         },
         "name": "Zum's Eatery In Waterton",
         "phone": "+14038592388",
         "rating": 4,
         "review_count": 6,
         "transactions": [],
         "url": "https://www.yelp.com/biz/zums-eatery-in-waterton-waterton-3?adjust_creative=GU7aSkZCtuTOwcbwrjZ4gw&utm_campaign=yelp_api_v3&utm_medium=api_v3_business_search&utm_source=GU7aSkZCtuTOwcbwrjZ4gw"
        },
        {
         "alias": "vimys-lounge-and-grill-waterton-park",
         "categories": [
          {
           "alias": "lounges",
           "title": "Lounges"
          },
          {
           "alias": "newcanadian",
           "title": "Canadian (New)"
          }
         ],
         "coordinates": {
          "latitude": 49.0522118,
          "longitude": -113.9101868
         },
         "display_phone": "+1 888-985-6343",
         "distance": 232.87924658038912,
         "id": "p7_4HfUpjvroSB-oApZV_g",
         "image_url": "https://s3-media4.fl.yelpcdn.com/bphoto/TaHzhPWcMb05u9eobrpkIQ/o.jpg",
         "is_closed": false,
         "location": {
          "address1": "101 Clematis Avenue",
          "address2": "",
          "address3": "",
          "city": "Waterton Park",
          "country": "CA",
          "display_address": [
           "101 Clematis Avenue",
           "Waterton Park, AB T0K 2M0",
           "Canada"
          ],
          "state": "AB",
          "zip_code": "T0K 2M0"
         },
         "name": "Vimy's Lounge & Grill",
         "phone": "+18889856343",
         "price": "$$",
         "rating": 3.5,
         "review_count": 8,
         "transactions": [],
         "url": "https://www.yelp.com/biz/vimys-lounge-and-grill-waterton-park?adjust_creative=GU7aSkZCtuTOwcbwrjZ4gw&utm_campaign=yelp_api_v3&utm_medium=api_v3_business_search&utm_source=GU7aSkZCtuTOwcbwrjZ4gw"
        },
        {
         "alias": "the-big-scoop-waterton",
         "categories": [
          {
           "alias": "icecream",
           "title": "Ice Cream & Frozen Yogurt"
          }
         ],
         "coordinates": {
          "latitude": 49.0512856361497,
          "longitude": -113.906993642449
         },
         "display_phone": "+1 403-859-2346",
         "distance": 115.91054063037122,
         "id": "V8R5cllWUAziKHQofDL3Aw",
         "image_url": "https://s3-media2.fl.yelpcdn.com/bphoto/z0H-r2SDsyxCBmp_O66Plw/o.jpg",
         "is_closed": false,
         "location": {
          "address1": "114 a Waterton Avenue",
          "address2": "",
          "address3": "",
          "city": "Waterton",
          "country": "CA",
          "display_address": [
           "114 a Waterton Avenue",
           "Waterton, AB T0K 2M0",
           "Canada"
          ],
          "state": "AB",
          "zip_code": "T0K 2M0"
         },
         "name": "The Big Scoop",
         "phone": "+14038592346",
         "price": "$",
         "rating": 3.5,
         "review_count": 4,
         "transactions": [],
         "url": "https://www.yelp.com/biz/the-big-scoop-waterton?adjust_creative=GU7aSkZCtuTOwcbwrjZ4gw&utm_campaign=yelp_api_v3&utm_medium=api_v3_business_search&utm_source=GU7aSkZCtuTOwcbwrjZ4gw"
        },
        {
         "alias": "waterton-bagel-and-coffee-waterton-park",
         "categories": [
          {
           "alias": "coffee",
           "title": "Coffee & Tea"
          }
         ],
         "coordinates": {
          "latitude": 49.0511504830906,
          "longitude": -113.908205954458
         },
         "display_phone": "+1 403-859-2466",
         "distance": 32.79500063652357,
         "id": "cZkjtc5fSbsRy0hKuNdvDQ",
         "image_url": "https://s3-media3.fl.yelpcdn.com/bphoto/PXEMFhfHlM_6GTdBWi8gCg/o.jpg",
         "is_closed": false,
         "location": {
          "address1": "Waterton Lake National Park",
          "address2": "",
          "address3": "",
          "city": "Waterton Park",
          "country": "CA",
          "display_address": [
           "Waterton Lake National Park",
           "Waterton Park, AB T0K 2M0",
           "Canada"
          ],
          "state": "AB",
          "zip_code": "T0K 2M0"
         },
         "name": "Waterton Bagel & Coffee",
         "phone": "+14038592466",
         "price": "$$$",
         "rating": 3.5,
         "review_count": 3,
         "transactions": [],
         "url": "https://www.yelp.com/biz/waterton-bagel-and-coffee-waterton-park?adjust_creative=GU7aSkZCtuTOwcbwrjZ4gw&utm_campaign=yelp_api_v3&utm_medium=api_v3_business_search&utm_source=GU7aSkZCtuTOwcbwrjZ4gw"
        },
        {
         "alias": "mountain-top-yogurt-shoppe-waterton-park",
         "categories": [
          {
           "alias": "icecream",
           "title": "Ice Cream & Frozen Yogurt"
          }
         ],
         "coordinates": {
          "latitude": 49.052187,
          "longitude": -113.907922
         },
         "display_phone": "",
         "distance": 146.95013714638003,
         "id": "goOg_Vq7KZBrwzjCr5-baw",
         "image_url": "",
         "is_closed": false,
         "location": {
          "address1": "Wind Flower Ave",
          "address2": "",
          "address3": "",
          "city": "Waterton Park",
          "country": "CA",
          "display_address": [
           "Wind Flower Ave",
           "Waterton Park, AB T0K 2M0",
           "Canada"
          ],
          "state": "AB",
          "zip_code": "T0K 2M0"
         },
         "name": "Mountain Top Yogurt Shoppe",
         "phone": "",
         "price": "$",
         "rating": 5,
         "review_count": 1,
         "transactions": [],
         "url": "https://www.yelp.com/biz/mountain-top-yogurt-shoppe-waterton-park?adjust_creative=GU7aSkZCtuTOwcbwrjZ4gw&utm_campaign=yelp_api_v3&utm_medium=api_v3_business_search&utm_source=GU7aSkZCtuTOwcbwrjZ4gw"
        },
        {
         "alias": "waterton-lakes-national-park-alberta-waterton",
         "categories": [
          {
           "alias": "parks",
           "title": "Parks"
          }
         ],
         "coordinates": {
          "latitude": 49.04829,
          "longitude": -113.90767
         },
         "display_phone": "+1 403-859-2211",
         "distance": 280.48169061329213,
         "id": "K-9E4Do4zrm86g6GXnr3tg",
         "image_url": "https://s3-media2.fl.yelpcdn.com/bphoto/_iLDrmi5pp_gYf8G7LRkPQ/o.jpg",
         "is_closed": false,
         "location": {
          "address1": "111 Waterton Avenue",
          "address2": "",
          "address3": null,
          "city": "Waterton",
          "country": "CA",
          "display_address": [
           "111 Waterton Avenue",
           "Waterton, AB T0K 2M0",
           "Canada"
          ],
          "state": "AB",
          "zip_code": "T0K 2M0"
         },
         "name": "Waterton Lakes National Park Alberta",
         "phone": "+14038592211",
         "rating": 5,
         "review_count": 1,
         "transactions": [],
         "url": "https://www.yelp.com/biz/waterton-lakes-national-park-alberta-waterton?adjust_creative=GU7aSkZCtuTOwcbwrjZ4gw&utm_campaign=yelp_api_v3&utm_medium=api_v3_business_search&utm_source=GU7aSkZCtuTOwcbwrjZ4gw"
        },
        {
         "alias": "bertha-lake-trail-waterton-park",
         "categories": [
          {
           "alias": "hiking",
           "title": "Hiking"
          }
         ],
         "coordinates": {
          "latitude": 49.1131286621094,
          "longitude": -113.841102600098
         },
         "display_phone": "+1 403-859-5133",
         "distance": 569.7914668613485,
         "id": "hbeNGtnCLtMxYhmbOlJ8BQ",
         "image_url": "https://s3-media1.fl.yelpcdn.com/bphoto/W86d8IMA9S0VJuK6O_Z5CA/o.jpg",
         "is_closed": false,
         "location": {
          "address1": "AB-5",
          "address2": "",
          "address3": null,
          "city": "Waterton Park",
          "country": "CA",
          "display_address": [
           "AB-5",
           "Waterton Park, AB T0K 2M0",
           "Canada"
          ],
          "state": "AB",
          "zip_code": "T0K 2M0"
         },
         "name": "Bertha Lake Trail",
         "phone": "+14038595133",
         "rating": 5,
         "review_count": 1,
         "transactions": [],
         "url": "https://www.yelp.com/biz/bertha-lake-trail-waterton-park?adjust_creative=GU7aSkZCtuTOwcbwrjZ4gw&utm_campaign=yelp_api_v3&utm_medium=api_v3_business_search&utm_source=GU7aSkZCtuTOwcbwrjZ4gw"
        },
        {
         "alias": "beavertails-waterton-park",
         "categories": [
          {
           "alias": "desserts",
           "title": "Desserts"
          },
          {
           "alias": "juicebars",
           "title": "Juice Bars & Smoothies"
          },
          {
           "alias": "poutineries",
           "title": "Poutineries"
          }
         ],
         "coordinates": {
          "latitude": 49.0517788786997,
          "longitude": -113.906848548357
         },
         "display_phone": "+1 403-331-9714",
         "distance": 73.65775162923025,
         "id": "WJGe--rDWDmjazQNcVKxgw",
         "image_url": "https://s3-media3.fl.yelpcdn.com/bphoto/FYKOUqt49Zexd9ncQ03d4Q/o.jpg",
         "is_closed": false,
         "location": {
          "address1": "116 Waterton Ave",
          "address2": null,
          "address3": null,
          "city": "Waterton Park",
          "country": "CA",
          "display_address": [
           "116 Waterton Ave",
           "Waterton Park, AB T0K 2M0",
           "Canada"
          ],
          "state": "AB",
          "zip_code": "T0K 2M0"
         },
         "name": "BeaverTails",
         "phone": "+14033319714",
         "rating": 4,
         "review_count": 1,
         "transactions": [],
         "url": "https://www.yelp.com/biz/beavertails-waterton-park?adjust_creative=GU7aSkZCtuTOwcbwrjZ4gw&utm_campaign=yelp_api_v3&utm_medium=api_v3_business_search&utm_source=GU7aSkZCtuTOwcbwrjZ4gw"
        },
        {
         "alias": "glacier-bistro-waterton-park",
         "categories": [
          {
           "alias": "pizza",
           "title": "Pizza"
          },
          {
           "alias": "coffee",
           "title": "Coffee & Tea"
          },
          {
           "alias": "sandwiches",
           "title": "Sandwiches"
          }
         ],
         "coordinates": {
          "latitude": 49.0479088,
          "longitude": -113.9082031
         },
         "display_phone": "+1 403-859-2211",
         "distance": 208.00716967035532,
         "id": "m7mRFhSmbttz9jWNQ0VM0Q",
         "image_url": "https://s3-media3.fl.yelpcdn.com/bphoto/-2qHPJZxLbZjV3GsB_z6mw/o.jpg",
         "is_closed": false,
         "location": {
          "address1": "111 Waterton Avenue",
          "address2": "",
          "address3": "",
          "city": "Waterton Park",
          "country": "CA",
          "display_address": [
           "111 Waterton Avenue",
           "Waterton Park, AB T0K 2M0",
           "Canada"
          ],
          "state": "AB",
          "zip_code": "T0K 2M0"
         },
         "name": "Glacier Bistro",
         "phone": "+14038592211",
         "rating": 2.5,
         "review_count": 3,
         "transactions": [],
         "url": "https://www.yelp.com/biz/glacier-bistro-waterton-park?adjust_creative=GU7aSkZCtuTOwcbwrjZ4gw&utm_campaign=yelp_api_v3&utm_medium=api_v3_business_search&utm_source=GU7aSkZCtuTOwcbwrjZ4gw"
        },
        {
         "alias": "windsor-lounge-waterton-park",
         "categories": [
          {
           "alias": "lounges",
           "title": "Lounges"
          }
         ],
         "coordinates": {
          "latitude": 49.058400130065,
          "longitude": -113.903971179179
         },
         "display_phone": "",
         "distance": 894.6105497372914,
         "id": "HvfMPiE1QELFUhrJjSHd1w",
         "image_url": "https://s3-media2.fl.yelpcdn.com/bphoto/bH6v-YJMsq3jYXcTatU9Jw/o.jpg",
         "is_closed": false,
         "location": {
          "address1": "AB-5",
          "address2": "",
          "address3": null,
          "city": "Waterton Park",
          "country": "CA",
          "display_address": [
           "AB-5",
           "Waterton Park, AB T0K 2M0",
           "Canada"
          ],
          "state": "AB",
          "zip_code": "T0K 2M0"
         },
         "name": "Windsor Lounge",
         "phone": "",
         "rating": 4,
         "review_count": 1,
         "transactions": [],
         "url": "https://www.yelp.com/biz/windsor-lounge-waterton-park?adjust_creative=GU7aSkZCtuTOwcbwrjZ4gw&utm_campaign=yelp_api_v3&utm_medium=api_v3_business_search&utm_source=GU7aSkZCtuTOwcbwrjZ4gw"
        },
        {
         "alias": "akamina-parkway-waterton-park",
         "categories": [
          {
           "alias": "hiking",
           "title": "Hiking"
          }
         ],
         "coordinates": {
          "latitude": 49.1131286621094,
          "longitude": -113.841102600098
         },
         "display_phone": "",
         "distance": 7.594716753800924,
         "id": "2c7W9EV-4KDhMHIQVyxAMw",
         "image_url": "https://s3-media4.fl.yelpcdn.com/bphoto/5wDMx1ECdAJL4QguzfOD-A/o.jpg",
         "is_closed": false,
         "location": {
          "address1": "Improvement District No. 4",
          "address2": "",
          "address3": null,
          "city": "Waterton Park",
          "country": "CA",
          "display_address": [
           "Improvement District No. 4",
           "Waterton Park, AB T0K 2M0",
           "Canada"
          ],
          "state": "AB",
          "zip_code": "T0K 2M0"
         },
         "name": "Akamina Parkway",
         "phone": "",
         "rating": 2,
         "review_count": 1,
         "transactions": [],
         "url": "https://www.yelp.com/biz/akamina-parkway-waterton-park?adjust_creative=GU7aSkZCtuTOwcbwrjZ4gw&utm_campaign=yelp_api_v3&utm_medium=api_v3_business_search&utm_source=GU7aSkZCtuTOwcbwrjZ4gw"
        },
        {
         "alias": "royal-stewart-dining-room-waterton-park",
         "categories": [
          {
           "alias": "diners",
           "title": "Diners"
          }
         ],
         "coordinates": {
          "latitude": 49.0584618042212,
          "longitude": -113.904184712392
         },
         "display_phone": "",
         "distance": 895.4332059328269,
         "id": "Dm2l1Yxduz214ol7RXAUGA",
         "image_url": "https://s3-media3.fl.yelpcdn.com/bphoto/dQsTt5WGLnRxkBJMdaO8xA/o.jpg",
         "is_closed": false,
         "location": {
          "address1": "Alberta 5",
          "address2": "",
          "address3": "Prince Of Wales Hotel",
          "city": "Waterton Park",
          "country": "CA",
          "display_address": [
           "Alberta 5",
           "Prince Of Wales Hotel",
           "Waterton Park, AB T0K 2M0",
           "Canada"
          ],
          "state": "AB",
          "zip_code": "T0K 2M0"
         },
         "name": "Royal Stewart Dining Room",
         "phone": "",
         "rating": 2,
         "review_count": 1,
         "transactions": [],
         "url": "https://www.yelp.com/biz/royal-stewart-dining-room-waterton-park?adjust_creative=GU7aSkZCtuTOwcbwrjZ4gw&utm_campaign=yelp_api_v3&utm_medium=api_v3_business_search&utm_source=GU7aSkZCtuTOwcbwrjZ4gw"
        },
        {
         "alias": "subway-waterton-park",
         "categories": [
          {
           "alias": "hotdogs",
           "title": "Fast Food"
          },
          {
           "alias": "sandwiches",
           "title": "Sandwiches"
          }
         ],
         "coordinates": {
          "latitude": 49.0491905212402,
          "longitude": -113.915664672852
         },
         "display_phone": "+1 403-859-2121",
         "distance": 130.21788121967816,
         "id": "g6UjEM5nf8siS3zAofJ1DQ",
         "image_url": "https://s3-media4.fl.yelpcdn.com/bphoto/QJ0sdh-WmAjdD7PbQ_ToNw/o.jpg",
         "is_closed": false,
         "location": {
          "address1": "307 Windflower Ave",
          "address2": null,
          "address3": null,
          "city": "Waterton Park",
          "country": "CA",
          "display_address": [
           "307 Windflower Ave",
           "Waterton Park, AB T0K 2M0",
           "Canada"
          ],
          "state": "AB",
          "zip_code": "T0K 2M0"
         },
         "name": "Subway",
         "phone": "+14038592121",
         "rating": 1,
         "review_count": 1,
         "transactions": [],
         "url": "https://www.yelp.com/biz/subway-waterton-park?adjust_creative=GU7aSkZCtuTOwcbwrjZ4gw&utm_campaign=yelp_api_v3&utm_medium=api_v3_business_search&utm_source=GU7aSkZCtuTOwcbwrjZ4gw"
        }
       ],
       "region": {
        "center": {
         "latitude": 49.05091735248173,
         "longitude": -113.90848159790039
        }
       },
       "total": 27
      },
      "text/plain": [
       "<IPython.core.display.JSON object>"
      ]
     },
     "execution_count": 29,
     "metadata": {
      "application/json": {
       "expanded": false,
       "root": "root"
      }
     },
     "output_type": "execute_result"
    }
   ],
   "source": [
    "JSON(yelp_json)"
   ]
  },
  {
   "cell_type": "code",
   "execution_count": 53,
   "id": "coastal-screening",
   "metadata": {},
   "outputs": [],
   "source": [
    "# attempting to create a yelp sqlite database\n",
    "import sqlite3\n",
    "from sqlite3 import Error\n",
    "\n",
    "def create_connection(path):\n",
    "    connection = None\n",
    "    try:\n",
    "        connection = sqlite3.connect(path)\n",
    "        print(\"Connection to SQLite DB successful\")\n",
    "    except Error as e:\n",
    "        print(f\"The error '{e}' occurred\")\n",
    "\n",
    "    return connection"
   ]
  },
  {
   "cell_type": "code",
   "execution_count": 54,
   "id": "worldwide-marker",
   "metadata": {},
   "outputs": [
    {
     "name": "stdout",
     "output_type": "stream",
     "text": [
      "Connection to SQLite DB successful\n"
     ]
    }
   ],
   "source": [
    "def execute_query(connection, query):\n",
    "    cursor = connection.cursor()\n",
    "    try:\n",
    "        cursor.execute(query)\n",
    "        connection.commit()\n",
    "        print(\"Query executed successfully\")\n",
    "    except Error as e:\n",
    "        print(f\"The error '{e}' occurred\")\n",
    "\n",
    "connection = create_connection(\"yelp.sqlite\")"
   ]
  },
  {
   "cell_type": "code",
   "execution_count": 26,
   "id": "cooperative-species",
   "metadata": {},
   "outputs": [
    {
     "name": "stdout",
     "output_type": "stream",
     "text": [
      "Query executed successfully\n"
     ]
    }
   ],
   "source": [
    "#create_business_table = \"\"\"\n",
    "#CREATE TABLE IF NOT EXISTS businesses (\n",
    "#  id INTEGER PRIMARY KEY AUTOINCREMENT,\n",
    "#  name TEXT NOT NULL,\n",
    "#  business_id INTEGER,\n",
    "#  review_count INTEGER,\n",
    "#  rating INTEGER\n",
    "#  latitude INTEGER\n",
    "#  longitude INTEGER\n",
    "#);\n",
    "#\"\"\"\n",
    "\n",
    "#execute_query(connection, create_business_table)  "
   ]
  },
  {
   "cell_type": "code",
   "execution_count": 45,
   "id": "announced-invalid",
   "metadata": {},
   "outputs": [],
   "source": [
    "# grab the information I want into a list of lists, with first index to be column headers later\n",
    "def yelp_business_details(data):\n",
    "    yelp_data = [['name','business_id','rating','review_count','latitude','longitude']]\n",
    "    for i in data['businesses']:\n",
    "        yelp_data.append([\n",
    "            i['name'],\n",
    "            i['id'],\n",
    "            i['rating'],\n",
    "            i['review_count'],\n",
    "            i['coordinates']['latitude'],\n",
    "            i['coordinates']['longitude']\n",
    "        ])\n",
    "    return yelp_data"
   ]
  },
  {
   "cell_type": "code",
   "execution_count": 64,
   "id": "innocent-veteran",
   "metadata": {},
   "outputs": [
    {
     "data": {
      "text/html": [
       "<div>\n",
       "<style scoped>\n",
       "    .dataframe tbody tr th:only-of-type {\n",
       "        vertical-align: middle;\n",
       "    }\n",
       "\n",
       "    .dataframe tbody tr th {\n",
       "        vertical-align: top;\n",
       "    }\n",
       "\n",
       "    .dataframe thead th {\n",
       "        text-align: right;\n",
       "    }\n",
       "</style>\n",
       "<table border=\"1\" class=\"dataframe\">\n",
       "  <thead>\n",
       "    <tr style=\"text-align: right;\">\n",
       "      <th></th>\n",
       "      <th>name</th>\n",
       "      <th>business_id</th>\n",
       "      <th>rating</th>\n",
       "      <th>review_count</th>\n",
       "      <th>latitude</th>\n",
       "      <th>longitude</th>\n",
       "    </tr>\n",
       "  </thead>\n",
       "  <tbody>\n",
       "    <tr>\n",
       "      <th>11</th>\n",
       "      <td>Waterton Lakes National Park</td>\n",
       "      <td>vYVc3QhRcZfthy0A7yMaVA</td>\n",
       "      <td>5.0</td>\n",
       "      <td>24</td>\n",
       "      <td>49.082896</td>\n",
       "      <td>-113.915587</td>\n",
       "    </tr>\n",
       "    <tr>\n",
       "      <th>1</th>\n",
       "      <td>Wieners of Waterton</td>\n",
       "      <td>nGkAzQtKPKyN67cyso5wUw</td>\n",
       "      <td>4.5</td>\n",
       "      <td>74</td>\n",
       "      <td>49.052073</td>\n",
       "      <td>-113.907795</td>\n",
       "    </tr>\n",
       "    <tr>\n",
       "      <th>2</th>\n",
       "      <td>Waffleton</td>\n",
       "      <td>rJ6row-Kq57UcyOcCl-Qqg</td>\n",
       "      <td>4.5</td>\n",
       "      <td>28</td>\n",
       "      <td>49.052043</td>\n",
       "      <td>-113.907825</td>\n",
       "    </tr>\n",
       "    <tr>\n",
       "      <th>7</th>\n",
       "      <td>49 Degrees North Pizza</td>\n",
       "      <td>YzBmc4OJVz-vWViXgqI08g</td>\n",
       "      <td>4.5</td>\n",
       "      <td>11</td>\n",
       "      <td>49.051845</td>\n",
       "      <td>-113.908287</td>\n",
       "    </tr>\n",
       "    <tr>\n",
       "      <th>10</th>\n",
       "      <td>Wildflower Ave Corner Coffee</td>\n",
       "      <td>R5Ki1NqnWC3y3U2RsDNLyg</td>\n",
       "      <td>4.5</td>\n",
       "      <td>9</td>\n",
       "      <td>49.050998</td>\n",
       "      <td>-113.908491</td>\n",
       "    </tr>\n",
       "    <tr>\n",
       "      <th>13</th>\n",
       "      <td>Red Rock Trattoria</td>\n",
       "      <td>wq-AYDQtwKzkv34bfgm4zw</td>\n",
       "      <td>4.0</td>\n",
       "      <td>15</td>\n",
       "      <td>49.052962</td>\n",
       "      <td>-113.909972</td>\n",
       "    </tr>\n",
       "    <tr>\n",
       "      <th>14</th>\n",
       "      <td>Fireside Lounge &amp; Wine Bar</td>\n",
       "      <td>sBWHIK-GnppueEMVMQ-g-w</td>\n",
       "      <td>4.0</td>\n",
       "      <td>12</td>\n",
       "      <td>49.052269</td>\n",
       "      <td>-113.906167</td>\n",
       "    </tr>\n",
       "    <tr>\n",
       "      <th>15</th>\n",
       "      <td>Zum's Eatery In Waterton</td>\n",
       "      <td>SfN1FBGMjgXAXa1jFzI3vA</td>\n",
       "      <td>4.0</td>\n",
       "      <td>6</td>\n",
       "      <td>49.04829</td>\n",
       "      <td>-113.90767</td>\n",
       "    </tr>\n",
       "    <tr>\n",
       "      <th>3</th>\n",
       "      <td>Trappers Mountain Grill</td>\n",
       "      <td>lzCs5g98NnJtcD0AnWfRWg</td>\n",
       "      <td>3.5</td>\n",
       "      <td>42</td>\n",
       "      <td>49.052087</td>\n",
       "      <td>-113.907002</td>\n",
       "    </tr>\n",
       "    <tr>\n",
       "      <th>4</th>\n",
       "      <td>Zum's Restaurant and Mercantile</td>\n",
       "      <td>mnw-CowIWVDPeUddxLIxSg</td>\n",
       "      <td>3.5</td>\n",
       "      <td>30</td>\n",
       "      <td>49.047909</td>\n",
       "      <td>-113.908203</td>\n",
       "    </tr>\n",
       "  </tbody>\n",
       "</table>\n",
       "</div>"
      ],
      "text/plain": [
       "0                              name             business_id rating  \\\n",
       "11     Waterton Lakes National Park  vYVc3QhRcZfthy0A7yMaVA    5.0   \n",
       "1               Wieners of Waterton  nGkAzQtKPKyN67cyso5wUw    4.5   \n",
       "2                         Waffleton  rJ6row-Kq57UcyOcCl-Qqg    4.5   \n",
       "7            49 Degrees North Pizza  YzBmc4OJVz-vWViXgqI08g    4.5   \n",
       "10     Wildflower Ave Corner Coffee  R5Ki1NqnWC3y3U2RsDNLyg    4.5   \n",
       "13               Red Rock Trattoria  wq-AYDQtwKzkv34bfgm4zw    4.0   \n",
       "14       Fireside Lounge & Wine Bar  sBWHIK-GnppueEMVMQ-g-w    4.0   \n",
       "15         Zum's Eatery In Waterton  SfN1FBGMjgXAXa1jFzI3vA    4.0   \n",
       "3           Trappers Mountain Grill  lzCs5g98NnJtcD0AnWfRWg    3.5   \n",
       "4   Zum's Restaurant and Mercantile  mnw-CowIWVDPeUddxLIxSg    3.5   \n",
       "\n",
       "0  review_count   latitude   longitude  \n",
       "11           24  49.082896 -113.915587  \n",
       "1            74  49.052073 -113.907795  \n",
       "2            28  49.052043 -113.907825  \n",
       "7            11  49.051845 -113.908287  \n",
       "10            9  49.050998 -113.908491  \n",
       "13           15  49.052962 -113.909972  \n",
       "14           12  49.052269 -113.906167  \n",
       "15            6   49.04829  -113.90767  \n",
       "3            42  49.052087 -113.907002  \n",
       "4            30  49.047909 -113.908203  "
      ]
     },
     "execution_count": 64,
     "metadata": {},
     "output_type": "execute_result"
    }
   ],
   "source": [
    "yelp_df = pd.DataFrame(yelp_business_details(yelp_json))\n",
    "yelp_df.columns = yelp_df.iloc[0]\n",
    "yelp_df = yelp_df[1:]\n",
    "\n",
    "more_1_review = yelp_df['review_count'] > 1\n",
    "yelp_df[more_1_review].sort_values(by=['rating','review_count'], ascending=False).head(10)"
   ]
  },
  {
   "cell_type": "code",
   "execution_count": 19,
   "id": "delayed-angle",
   "metadata": {},
   "outputs": [],
   "source": [
    "yelp_ll=[\n",
    "    ['49.082896,-113.915587'],\n",
    "    ['49.052073%2C-113.907795'],\n",
    "    ['49.052043%2C-113.907825'],\n",
    "    ['49.051845%2C-113.908287'],\n",
    "    ['49.050998%2C-113.908491'],\n",
    "    ['49.052962%2C-113.909972'],\n",
    "    ['49.052269%2C-113.906167'],\n",
    "    ['49.04829%2C-113.90767'],\n",
    "    ['49.052087%2C-113.907002'],\n",
    "    ['49.047909,-113.908203']]"
   ]
  },
  {
   "cell_type": "code",
   "execution_count": 55,
   "id": "cultural-closure",
   "metadata": {},
   "outputs": [],
   "source": [
    "# push df to sqlite database, making a table called 'businesses' in the process\n",
    "# yelp_df.to_sql('businesses', connection) # commented out to avoid pushing again"
   ]
  },
  {
   "cell_type": "markdown",
   "id": "polish-amount",
   "metadata": {},
   "source": [
    "# Foursquare"
   ]
  },
  {
   "cell_type": "markdown",
   "id": "strategic-satisfaction",
   "metadata": {},
   "source": [
    "### venue/search"
   ]
  },
  {
   "cell_type": "code",
   "execution_count": 6,
   "id": "differential-smart",
   "metadata": {},
   "outputs": [],
   "source": [
    "foursquare_id = os.environ['FOURSQUARE_CLIENT_ID']\n",
    "foursquare_key = os.environ['FOURSQUARE_CLIENT_SECRET']\n",
    "\n",
    "#url = 'https://api.foursquare.com/v2/venues/search'\n",
    "params = dict(\n",
    "client_id = foursquare_id,\n",
    "client_secret = foursquare_key,\n",
    "v='20180323',\n",
    "near='Waterton Park, AB',\n",
    "limit=50\n",
    ")\n",
    "# commented out to avoid running multiple requests\n",
    "#res = re.get(url=url, params=params)\n",
    "foursq_json = res.json()"
   ]
  },
  {
   "cell_type": "code",
   "execution_count": 58,
   "id": "hawaiian-midnight",
   "metadata": {},
   "outputs": [
    {
     "data": {
      "application/json": {
       "meta": {
        "code": 200,
        "requestId": "604a8416baafb10c7102ca61"
       },
       "response": {
        "confident": false,
        "geocode": {
         "feature": {
          "cc": "CA",
          "displayName": "Waterton Park, AB, Canada",
          "geometry": {
           "bounds": {
            "ne": {
             "lat": 49.132813,
             "lng": -113.840431
            },
            "sw": {
             "lat": 48.998802,
             "lng": -114.000748
            }
           },
           "center": {
            "lat": 49.04995,
            "lng": -113.91864
           }
          },
          "highlightedName": "<b>Waterton Park</b>, <b>AB</b>, Canada",
          "id": "geonameid:6176887",
          "longId": "72057594044104823",
          "matchedName": "Waterton Park, AB, Canada",
          "name": "Waterton Park",
          "woeType": 7
         },
         "parents": [],
         "what": "",
         "where": "waterton park ab"
        },
        "venues": [
         {
          "beenHere": {
           "count": 0,
           "lastCheckinExpiredAt": 0,
           "marked": false,
           "unconfirmedCount": 0
          },
          "categories": [
           {
            "icon": {
             "prefix": "https://ss3.4sqi.net/img/categories_v2/parks_outdoors/ski_lodge_",
             "suffix": ".png"
            },
            "id": "4bf58dd8d48988d1eb941735",
            "name": "Ski Lodge",
            "pluralName": "Ski Lodges",
            "primary": true,
            "shortName": "Lodge"
           }
          ],
          "contact": {},
          "hasPerk": false,
          "hereNow": {
           "count": 0,
           "groups": [],
           "summary": "Nobody here"
          },
          "id": "5d1ea01d1feae30023e1e384",
          "location": {
           "cc": "CA",
           "city": "Waterton Park",
           "country": "Canada",
           "formattedAddress": [
            "Waterton Park AB T0K 2M0",
            "Canada"
           ],
           "labeledLatLngs": [
            {
             "label": "display",
             "lat": 49.050064,
             "lng": -113.91653
            }
           ],
           "lat": 49.050064,
           "lng": -113.91653,
           "postalCode": "T0K 2M0",
           "state": "AB"
          },
          "name": "Northland Lodge",
          "referralId": "v-1615496214",
          "stats": {
           "checkinsCount": 0,
           "tipCount": 0,
           "usersCount": 0,
           "visitsCount": 0
          },
          "venueChains": [],
          "verified": false
         },
         {
          "beenHere": {
           "count": 0,
           "lastCheckinExpiredAt": 0,
           "marked": false,
           "unconfirmedCount": 0
          },
          "categories": [
           {
            "icon": {
             "prefix": "https://ss3.4sqi.net/img/categories_v2/parks_outdoors/sceniclookout_",
             "suffix": ".png"
            },
            "id": "4bf58dd8d48988d165941735",
            "name": "Scenic Lookout",
            "pluralName": "Scenic Lookouts",
            "primary": true,
            "shortName": "Scenic Lookout"
           }
          ],
          "contact": {},
          "hasPerk": false,
          "hereNow": {
           "count": 0,
           "groups": [],
           "summary": "Nobody here"
          },
          "id": "4e5975dc18a8c204750cd4bf",
          "location": {
           "cc": "CA",
           "city": "Waterton Park",
           "country": "Canada",
           "formattedAddress": [
            "Waterton Park AB",
            "Canada"
           ],
           "labeledLatLngs": [
            {
             "label": "display",
             "lat": 49.051340829924605,
             "lng": -113.9160397415404
            }
           ],
           "lat": 49.051340829924605,
           "lng": -113.9160397415404,
           "state": "AB"
          },
          "name": "Cameron Falls",
          "referralId": "v-1615496214",
          "stats": {
           "checkinsCount": 0,
           "tipCount": 0,
           "usersCount": 0,
           "visitsCount": 0
          },
          "venueChains": [],
          "verified": false
         },
         {
          "beenHere": {
           "count": 0,
           "lastCheckinExpiredAt": 0,
           "marked": false,
           "unconfirmedCount": 0
          },
          "categories": [
           {
            "icon": {
             "prefix": "https://ss3.4sqi.net/img/categories_v2/parks_outdoors/outdoors_",
             "suffix": ".png"
            },
            "id": "4bf58dd8d48988d162941735",
            "name": "Other Great Outdoors",
            "pluralName": "Other Great Outdoors",
            "primary": true,
            "shortName": "Other Outdoors"
           }
          ],
          "contact": {},
          "hasPerk": false,
          "hereNow": {
           "count": 0,
           "groups": [],
           "summary": "Nobody here"
          },
          "id": "4e3d79e07d8b0e961069ce63",
          "location": {
           "cc": "CA",
           "city": "Waterton",
           "country": "Canada",
           "formattedAddress": [
            "Waterton AB",
            "Canada"
           ],
           "labeledLatLngs": [
            {
             "label": "display",
             "lat": 49.05214241377369,
             "lng": -113.90808152342375
            }
           ],
           "lat": 49.05214241377369,
           "lng": -113.90808152342375,
           "state": "AB"
          },
          "name": "Waterton, Alberta",
          "referralId": "v-1615496214",
          "stats": {
           "checkinsCount": 0,
           "tipCount": 0,
           "usersCount": 0,
           "visitsCount": 0
          },
          "venueChains": [],
          "verified": false
         },
         {
          "beenHere": {
           "count": 0,
           "lastCheckinExpiredAt": 0,
           "marked": false,
           "unconfirmedCount": 0
          },
          "categories": [
           {
            "icon": {
             "prefix": "https://ss3.4sqi.net/img/categories_v2/parks_outdoors/hikingtrail_",
             "suffix": ".png"
            },
            "id": "4bf58dd8d48988d159941735",
            "name": "Trail",
            "pluralName": "Trails",
            "primary": true,
            "shortName": "Trail"
           }
          ],
          "contact": {},
          "hasPerk": false,
          "hereNow": {
           "count": 0,
           "groups": [],
           "summary": "Nobody here"
          },
          "id": "503127fce4b08362164cc687",
          "location": {
           "cc": "CA",
           "city": "Waterton",
           "country": "Canada",
           "formattedAddress": [
            "Waterton AB",
            "Canada"
           ],
           "labeledLatLngs": [
            {
             "label": "display",
             "lat": 49.045309697785044,
             "lng": -113.91698320006687
            }
           ],
           "lat": 49.045309697785044,
           "lng": -113.91698320006687,
           "state": "AB"
          },
          "name": "Bertha Trailhead",
          "referralId": "v-1615496214",
          "stats": {
           "checkinsCount": 0,
           "tipCount": 0,
           "usersCount": 0,
           "visitsCount": 0
          },
          "venueChains": [],
          "verified": false
         },
         {
          "beenHere": {
           "count": 0,
           "lastCheckinExpiredAt": 0,
           "marked": false,
           "unconfirmedCount": 0
          },
          "categories": [
           {
            "icon": {
             "prefix": "https://ss3.4sqi.net/img/categories_v2/parks_outdoors/outdoors_",
             "suffix": ".png"
            },
            "id": "4bf58dd8d48988d162941735",
            "name": "Other Great Outdoors",
            "pluralName": "Other Great Outdoors",
            "primary": true,
            "shortName": "Other Outdoors"
           }
          ],
          "contact": {},
          "hasPerk": false,
          "hereNow": {
           "count": 0,
           "groups": [],
           "summary": "Nobody here"
          },
          "id": "4e87b3ff722e45a6b8a2f19c",
          "location": {
           "cc": "CA",
           "city": "Waterton Park",
           "country": "Canada",
           "formattedAddress": [
            "Waterton Park AB",
            "Canada"
           ],
           "labeledLatLngs": [
            {
             "label": "display",
             "lat": 49.05278027180712,
             "lng": -113.91299328897817
            }
           ],
           "lat": 49.05278027180712,
           "lng": -113.91299328897817,
           "state": "AB"
          },
          "name": "Red Rock Canyon",
          "referralId": "v-1615496214",
          "stats": {
           "checkinsCount": 0,
           "tipCount": 0,
           "usersCount": 0,
           "visitsCount": 0
          },
          "venueChains": [],
          "verified": false
         },
         {
          "beenHere": {
           "count": 0,
           "lastCheckinExpiredAt": 0,
           "marked": false,
           "unconfirmedCount": 0
          },
          "categories": [
           {
            "icon": {
             "prefix": "https://ss3.4sqi.net/img/categories_v2/food/default_",
             "suffix": ".png"
            },
            "id": "4bf58dd8d48988d14e941735",
            "name": "American Restaurant",
            "pluralName": "American Restaurants",
            "primary": true,
            "shortName": "American"
           }
          ],
          "contact": {},
          "hasPerk": false,
          "hereNow": {
           "count": 0,
           "groups": [],
           "summary": "Nobody here"
          },
          "id": "4c7d28479221236a4f4f7e3d",
          "location": {
           "cc": "CA",
           "city": "waterton",
           "country": "Canada",
           "formattedAddress": [
            "waterton AB",
            "Canada"
           ],
           "labeledLatLngs": [
            {
             "label": "display",
             "lat": 49.04929322706642,
             "lng": -113.90738904697935
            }
           ],
           "lat": 49.04929322706642,
           "lng": -113.90738904697935,
           "state": "AB"
          },
          "name": "Zums Eatery",
          "referralId": "v-1615496214",
          "stats": {
           "checkinsCount": 0,
           "tipCount": 0,
           "usersCount": 0,
           "visitsCount": 0
          },
          "venueChains": [],
          "verified": false
         },
         {
          "beenHere": {
           "count": 0,
           "lastCheckinExpiredAt": 0,
           "marked": false,
           "unconfirmedCount": 0
          },
          "categories": [
           {
            "icon": {
             "prefix": "https://ss3.4sqi.net/img/categories_v2/travel/resort_",
             "suffix": ".png"
            },
            "id": "4bf58dd8d48988d12f951735",
            "name": "Resort",
            "pluralName": "Resorts",
            "primary": true,
            "shortName": "Resort"
           }
          ],
          "contact": {},
          "hasPerk": false,
          "hereNow": {
           "count": 0,
           "groups": [],
           "summary": "Nobody here"
          },
          "id": "561bdb5a498e1bc38eadc1aa",
          "location": {
           "address": "111 Waterton Ave - Box # 38",
           "cc": "CA",
           "city": "Waterton Park",
           "country": "Canada",
           "formattedAddress": [
            "111 Waterton Ave - Box # 38",
            "Waterton Park AB T0K 2M0",
            "Canada"
           ],
           "labeledLatLngs": [
            {
             "label": "display",
             "lat": 49.052576,
             "lng": -113.906041
            }
           ],
           "lat": 49.052576,
           "lng": -113.906041,
           "postalCode": "T0K 2M0",
           "state": "AB"
          },
          "name": "Bayshore Inn Resort & Spa",
          "referralId": "v-1615496214",
          "stats": {
           "checkinsCount": 0,
           "tipCount": 0,
           "usersCount": 0,
           "visitsCount": 0
          },
          "venueChains": [],
          "verified": false
         },
         {
          "beenHere": {
           "count": 0,
           "lastCheckinExpiredAt": 0,
           "marked": false,
           "unconfirmedCount": 0
          },
          "categories": [
           {
            "icon": {
             "prefix": "https://ss3.4sqi.net/img/categories_v2/food/default_",
             "suffix": ".png"
            },
            "id": "4bf58dd8d48988d14e941735",
            "name": "American Restaurant",
            "pluralName": "American Restaurants",
            "primary": true,
            "shortName": "American"
           }
          ],
          "contact": {},
          "hasPerk": false,
          "hereNow": {
           "count": 0,
           "groups": [],
           "summary": "Nobody here"
          },
          "id": "5d1192878132b900231e8d08",
          "location": {
           "address": "Waterton Lakes National Park, 111 Waterton Ave",
           "cc": "CA",
           "city": "Waterton Park",
           "country": "Canada",
           "formattedAddress": [
            "Waterton Lakes National Park, 111 Waterton Ave",
            "Waterton Park AB T0K 2M0",
            "Canada"
           ],
           "labeledLatLngs": [
            {
             "label": "display",
             "lat": 49.0526836,
             "lng": -113.9062574
            }
           ],
           "lat": 49.0526836,
           "lng": -113.9062574,
           "postalCode": "T0K 2M0",
           "state": "AB"
          },
          "name": "Thirsty Bear Waterton - Kitchen & Bar",
          "referralId": "v-1615496214",
          "stats": {
           "checkinsCount": 0,
           "tipCount": 0,
           "usersCount": 0,
           "visitsCount": 0
          },
          "venueChains": [],
          "verified": false
         },
         {
          "beenHere": {
           "count": 0,
           "lastCheckinExpiredAt": 0,
           "marked": false,
           "unconfirmedCount": 0
          },
          "categories": [
           {
            "icon": {
             "prefix": "https://ss3.4sqi.net/img/categories_v2/food/deli_",
             "suffix": ".png"
            },
            "id": "4bf58dd8d48988d1c5941735",
            "name": "Sandwich Place",
            "pluralName": "Sandwich Places",
            "primary": true,
            "shortName": "Sandwiches"
           }
          ],
          "contact": {},
          "hasPerk": false,
          "hereNow": {
           "count": 0,
           "groups": [],
           "summary": "Nobody here"
          },
          "id": "5006fe5ce4b07575b865ff81",
          "location": {
           "cc": "CA",
           "city": "Waterton Park",
           "country": "Canada",
           "formattedAddress": [
            "Waterton Park AB",
            "Canada"
           ],
           "labeledLatLngs": [
            {
             "label": "display",
             "lat": 49.0520484263999,
             "lng": -113.90823543534783
            }
           ],
           "lat": 49.0520484263999,
           "lng": -113.90823543534783,
           "state": "AB"
          },
          "name": "Subway",
          "referralId": "v-1615496214",
          "stats": {
           "checkinsCount": 0,
           "tipCount": 0,
           "usersCount": 0,
           "visitsCount": 0
          },
          "venueChains": [],
          "verified": false
         },
         {
          "beenHere": {
           "count": 0,
           "lastCheckinExpiredAt": 0,
           "marked": false,
           "unconfirmedCount": 0
          },
          "categories": [
           {
            "icon": {
             "prefix": "https://ss3.4sqi.net/img/categories_v2/building/religious_church_",
             "suffix": ".png"
            },
            "id": "4bf58dd8d48988d132941735",
            "name": "Church",
            "pluralName": "Churches",
            "primary": true,
            "shortName": "Church"
           }
          ],
          "contact": {},
          "hasPerk": false,
          "hereNow": {
           "count": 0,
           "groups": [],
           "summary": "Nobody here"
          },
          "id": "4d9b8460c175dcb3a583d07b",
          "location": {
           "address": "102 CLEMATIS AVE",
           "cc": "CA",
           "city": "Waterton Park",
           "country": "Canada",
           "crossStreet": "near Windflower Ave",
           "formattedAddress": [
            "102 CLEMATIS AVE (near Windflower Ave)",
            "Waterton Park AB T0K 2M0",
            "Canada"
           ],
           "labeledLatLngs": [
            {
             "label": "display",
             "lat": 49.0520171264152,
             "lng": -113.91041278839111
            }
           ],
           "lat": 49.0520171264152,
           "lng": -113.91041278839111,
           "postalCode": "T0K 2M0",
           "state": "AB"
          },
          "name": "The Church of Jesus Christ of Latter-day Saints",
          "referralId": "v-1615496214",
          "stats": {
           "checkinsCount": 0,
           "tipCount": 0,
           "usersCount": 0,
           "visitsCount": 0
          },
          "venueChains": [],
          "verified": false
         },
         {
          "beenHere": {
           "count": 0,
           "lastCheckinExpiredAt": 0,
           "marked": false,
           "unconfirmedCount": 0
          },
          "categories": [
           {
            "icon": {
             "prefix": "https://ss3.4sqi.net/img/categories_v2/building/religious_church_",
             "suffix": ".png"
            },
            "id": "4bf58dd8d48988d132941735",
            "name": "Church",
            "pluralName": "Churches",
            "primary": true,
            "shortName": "Church"
           }
          ],
          "contact": {},
          "hasPerk": false,
          "hereNow": {
           "count": 0,
           "groups": [],
           "summary": "Nobody here"
          },
          "id": "4f731f847bebc1de47d22d93",
          "location": {
           "address": "102 CLEMATIS AVE",
           "cc": "CA",
           "city": "Waterton Park",
           "country": "Canada",
           "formattedAddress": [
            "102 CLEMATIS AVE",
            "Waterton Park AB T0K 2M0",
            "Canada"
           ],
           "labeledLatLngs": [
            {
             "label": "display",
             "lat": 49.099464087238495,
             "lng": -113.90718729608393
            }
           ],
           "lat": 49.099464087238495,
           "lng": -113.90718729608393,
           "postalCode": "T0K 2M0",
           "state": "AB"
          },
          "name": "The Church of Jesus Christ of Latter-day Saints",
          "referralId": "v-1615496214",
          "stats": {
           "checkinsCount": 0,
           "tipCount": 0,
           "usersCount": 0,
           "visitsCount": 0
          },
          "venueChains": [],
          "verified": true
         },
         {
          "beenHere": {
           "count": 0,
           "lastCheckinExpiredAt": 0,
           "marked": false,
           "unconfirmedCount": 0
          },
          "categories": [
           {
            "icon": {
             "prefix": "https://ss3.4sqi.net/img/categories_v2/food/default_",
             "suffix": ".png"
            },
            "id": "4bf58dd8d48988d14e941735",
            "name": "American Restaurant",
            "pluralName": "American Restaurants",
            "primary": true,
            "shortName": "American"
           }
          ],
          "contact": {},
          "hasPerk": false,
          "hereNow": {
           "count": 0,
           "groups": [],
           "summary": "Nobody here"
          },
          "id": "5a043bfc0d8a0f6af800247a",
          "location": {
           "address": "111 Waterton Ave, Suite 101 – Box # 38",
           "cc": "CA",
           "city": "Calgary",
           "country": "Canada",
           "formattedAddress": [
            "111 Waterton Ave, Suite 101 – Box # 38",
            "Calgary AB T2E 6T1",
            "Canada"
           ],
           "labeledLatLngs": [
            {
             "label": "display",
             "lat": 49.05177805838652,
             "lng": -113.90960276126862
            }
           ],
           "lat": 49.05177805838652,
           "lng": -113.90960276126862,
           "postalCode": "T2E 6T1",
           "state": "AB"
          },
          "name": "Lakeside Chophouse",
          "referralId": "v-1615496214",
          "stats": {
           "checkinsCount": 0,
           "tipCount": 0,
           "usersCount": 0,
           "visitsCount": 0
          },
          "venueChains": [],
          "verified": false
         },
         {
          "beenHere": {
           "count": 0,
           "lastCheckinExpiredAt": 0,
           "marked": false,
           "unconfirmedCount": 0
          },
          "categories": [
           {
            "icon": {
             "prefix": "https://ss3.4sqi.net/img/categories_v2/parks_outdoors/campground_",
             "suffix": ".png"
            },
            "id": "4bf58dd8d48988d1e4941735",
            "name": "Campground",
            "pluralName": "Campgrounds",
            "primary": true,
            "shortName": "Campground"
           }
          ],
          "contact": {},
          "hasPerk": false,
          "hereNow": {
           "count": 0,
           "groups": [],
           "summary": "Nobody here"
          },
          "id": "51cc942f498efbe4dcce8729",
          "location": {
           "address": "Waterton Lakes National Park",
           "cc": "CA",
           "city": "Waterton Park",
           "country": "Canada",
           "formattedAddress": [
            "Waterton Lakes National Park",
            "Waterton Park AB T0K 2M0",
            "Canada"
           ],
           "labeledLatLngs": [
            {
             "label": "display",
             "lat": 49.098646,
             "lng": -113.953532
            }
           ],
           "lat": 49.098646,
           "lng": -113.953532,
           "postalCode": "T0K 2M0",
           "state": "AB"
          },
          "name": "Crandell Mountain Campground",
          "referralId": "v-1615496214",
          "stats": {
           "checkinsCount": 0,
           "tipCount": 0,
           "usersCount": 0,
           "visitsCount": 0
          },
          "venueChains": [],
          "verified": false
         },
         {
          "beenHere": {
           "count": 0,
           "lastCheckinExpiredAt": 0,
           "marked": false,
           "unconfirmedCount": 0
          },
          "categories": [
           {
            "icon": {
             "prefix": "https://ss3.4sqi.net/img/categories_v2/shops/food_grocery_",
             "suffix": ".png"
            },
            "id": "4bf58dd8d48988d118951735",
            "name": "Grocery Store",
            "pluralName": "Grocery Stores",
            "primary": true,
            "shortName": "Grocery Store"
           }
          ],
          "contact": {},
          "hasPerk": false,
          "hereNow": {
           "count": 0,
           "groups": [],
           "summary": "Nobody here"
          },
          "id": "57a4b765498e9c810398818f",
          "location": {
           "address": "307 Windflower Ave",
           "cc": "CA",
           "city": "Waterton",
           "country": "Canada",
           "formattedAddress": [
            "307 Windflower Ave",
            "Waterton AB T0K 2M0",
            "Canada"
           ],
           "labeledLatLngs": [
            {
             "label": "display",
             "lat": 49.051643,
             "lng": -113.90683
            }
           ],
           "lat": 49.051643,
           "lng": -113.90683,
           "postalCode": "T0K 2M0",
           "state": "AB"
          },
          "name": "Rocky Mountain General Store",
          "referralId": "v-1615496214",
          "stats": {
           "checkinsCount": 0,
           "tipCount": 0,
           "usersCount": 0,
           "visitsCount": 0
          },
          "venueChains": [],
          "verified": false
         },
         {
          "beenHere": {
           "count": 0,
           "lastCheckinExpiredAt": 0,
           "marked": false,
           "unconfirmedCount": 0
          },
          "categories": [
           {
            "icon": {
             "prefix": "https://ss3.4sqi.net/img/categories_v2/food/default_",
             "suffix": ".png"
            },
            "id": "4bf58dd8d48988d1c4941735",
            "name": "Restaurant",
            "pluralName": "Restaurants",
            "primary": true,
            "shortName": "Restaurant"
           }
          ],
          "contact": {},
          "hasPerk": false,
          "hereNow": {
           "count": 0,
           "groups": [],
           "summary": "Nobody here"
          },
          "id": "51a96a0ec640178c2c50d075",
          "location": {
           "address": "111 Waterton Ave.",
           "cc": "CA",
           "city": "Waterton Park",
           "country": "Canada",
           "crossStreet": "(Adjacent To Bayshore Inn Resort & Spa)",
           "formattedAddress": [
            "111 Waterton Ave. ((Adjacent To Bayshore Inn Resort & Spa))",
            "Waterton Park AB T0K 2M0",
            "Canada"
           ],
           "labeledLatLngs": [
            {
             "label": "display",
             "lat": 49.049271,
             "lng": -113.907125
            }
           ],
           "lat": 49.049271,
           "lng": -113.907125,
           "postalCode": "T0K 2M0",
           "state": "AB"
          },
          "name": "Lakeside Chophouse - Bayshore Inn",
          "referralId": "v-1615496214",
          "stats": {
           "checkinsCount": 0,
           "tipCount": 0,
           "usersCount": 0,
           "visitsCount": 0
          },
          "venueChains": [],
          "verified": false
         },
         {
          "beenHere": {
           "count": 0,
           "lastCheckinExpiredAt": 0,
           "marked": false,
           "unconfirmedCount": 0
          },
          "categories": [
           {
            "icon": {
             "prefix": "https://ss3.4sqi.net/img/categories_v2/food/default_",
             "suffix": ".png"
            },
            "id": "4bf58dd8d48988d14e941735",
            "name": "American Restaurant",
            "pluralName": "American Restaurants",
            "primary": true,
            "shortName": "American"
           }
          ],
          "contact": {},
          "hasPerk": false,
          "hereNow": {
           "count": 0,
           "groups": [],
           "summary": "Nobody here"
          },
          "id": "5d0acc85e7e5fc002382b8b0",
          "location": {
           "address": "107 Windflower Ave - Box # 51",
           "cc": "CA",
           "city": "Waterton Park",
           "country": "Canada",
           "formattedAddress": [
            "107 Windflower Ave - Box # 51",
            "Waterton Park AB T0K 2M0",
            "Canada"
           ],
           "labeledLatLngs": [
            {
             "label": "display",
             "lat": 49.052952,
             "lng": -113.909707
            }
           ],
           "lat": 49.052952,
           "lng": -113.909707,
           "postalCode": "T0K 2M0",
           "state": "AB"
          },
          "name": "Red Rock Trattoria Waterton",
          "referralId": "v-1615496214",
          "stats": {
           "checkinsCount": 0,
           "tipCount": 0,
           "usersCount": 0,
           "visitsCount": 0
          },
          "venueChains": [],
          "verified": false
         },
         {
          "beenHere": {
           "count": 0,
           "lastCheckinExpiredAt": 0,
           "marked": false,
           "unconfirmedCount": 0
          },
          "categories": [],
          "contact": {},
          "hasPerk": false,
          "hereNow": {
           "count": 0,
           "groups": [],
           "summary": "Nobody here"
          },
          "id": "4df29642fa76abc3d86a0310",
          "location": {
           "cc": "CA",
           "city": "Waterton Park",
           "country": "Canada",
           "formattedAddress": [
            "Waterton Park AB",
            "Canada"
           ],
           "labeledLatLngs": [
            {
             "label": "display",
             "lat": 49.05341499593911,
             "lng": -113.90814761154765
            }
           ],
           "lat": 49.05341499593911,
           "lng": -113.90814761154765,
           "state": "AB"
          },
          "name": "Tamarack Outdoor Outfitters",
          "referralId": "v-1615496214",
          "stats": {
           "checkinsCount": 0,
           "tipCount": 0,
           "usersCount": 0,
           "visitsCount": 0
          },
          "venueChains": [],
          "verified": false
         },
         {
          "beenHere": {
           "count": 0,
           "lastCheckinExpiredAt": 0,
           "marked": false,
           "unconfirmedCount": 0
          },
          "categories": [],
          "contact": {},
          "hasPerk": false,
          "hereNow": {
           "count": 0,
           "groups": [],
           "summary": "Nobody here"
          },
          "id": "4e4acfc2d22d876aed1ec250",
          "location": {
           "cc": "CA",
           "city": "Waterton",
           "country": "Canada",
           "formattedAddress": [
            "Waterton AB T0K 1N0",
            "Canada"
           ],
           "labeledLatLngs": [
            {
             "label": "display",
             "lat": 49.0528,
             "lng": -113.90928
            }
           ],
           "lat": 49.0528,
           "lng": -113.90928,
           "postalCode": "T0K 1N0",
           "state": "AB"
          },
          "name": "Village Gift Shop",
          "referralId": "v-1615496214",
          "stats": {
           "checkinsCount": 0,
           "tipCount": 0,
           "usersCount": 0,
           "visitsCount": 0
          },
          "venueChains": [],
          "verified": false
         },
         {
          "beenHere": {
           "count": 0,
           "lastCheckinExpiredAt": 0,
           "marked": false,
           "unconfirmedCount": 0
          },
          "categories": [
           {
            "icon": {
             "prefix": "https://ss3.4sqi.net/img/categories_v2/parks_outdoors/harbor_",
             "suffix": ".png"
            },
            "id": "4bf58dd8d48988d1e0941735",
            "name": "Harbor / Marina",
            "pluralName": "Harbors / Marinas",
            "primary": true,
            "shortName": "Harbor / Marina"
           }
          ],
          "contact": {},
          "hasPerk": false,
          "hereNow": {
           "count": 0,
           "groups": [],
           "summary": "Nobody here"
          },
          "id": "59e74edf95a7222daba891cf",
          "location": {
           "cc": "CA",
           "city": "Waterton",
           "country": "Canada",
           "formattedAddress": [
            "Waterton AB T0K 2M0",
            "Canada"
           ],
           "labeledLatLngs": [
            {
             "label": "display",
             "lat": 49.052258,
             "lng": -113.905495
            }
           ],
           "lat": 49.052258,
           "lng": -113.905495,
           "postalCode": "T0K 2M0",
           "state": "AB"
          },
          "name": "Bayshore Docks",
          "referralId": "v-1615496214",
          "stats": {
           "checkinsCount": 0,
           "tipCount": 0,
           "usersCount": 0,
           "visitsCount": 0
          },
          "venueChains": [],
          "verified": false
         },
         {
          "beenHere": {
           "count": 0,
           "lastCheckinExpiredAt": 0,
           "marked": false,
           "unconfirmedCount": 0
          },
          "categories": [
           {
            "icon": {
             "prefix": "https://ss3.4sqi.net/img/categories_v2/parks_outdoors/hikingtrail_",
             "suffix": ".png"
            },
            "id": "4bf58dd8d48988d159941735",
            "name": "Trail",
            "pluralName": "Trails",
            "primary": true,
            "shortName": "Trail"
           }
          ],
          "contact": {},
          "hasPerk": false,
          "hereNow": {
           "count": 0,
           "groups": [],
           "summary": "Nobody here"
          },
          "id": "520a8e1b498e62ca3523019b",
          "location": {
           "cc": "CA",
           "country": "Canada",
           "formattedAddress": [
            "Canada"
           ],
           "labeledLatLngs": [
            {
             "label": "display",
             "lat": 49.051323168841286,
             "lng": -113.88176344494849
            }
           ],
           "lat": 49.051323168841286,
           "lng": -113.88176344494849
          },
          "name": "Red Rock Canyon",
          "referralId": "v-1615496214",
          "stats": {
           "checkinsCount": 0,
           "tipCount": 0,
           "usersCount": 0,
           "visitsCount": 0
          },
          "venueChains": [],
          "verified": false
         },
         {
          "beenHere": {
           "count": 0,
           "lastCheckinExpiredAt": 0,
           "marked": false,
           "unconfirmedCount": 0
          },
          "categories": [
           {
            "icon": {
             "prefix": "https://ss3.4sqi.net/img/categories_v2/building/postoffice_",
             "suffix": ".png"
            },
            "id": "4bf58dd8d48988d172941735",
            "name": "Post Office",
            "pluralName": "Post Offices",
            "primary": true,
            "shortName": "Post Office"
           }
          ],
          "contact": {},
          "hasPerk": false,
          "hereNow": {
           "count": 0,
           "groups": [],
           "summary": "Nobody here"
          },
          "id": "51cdbae3498ec97839bdbd7f",
          "location": {
           "address": "102A Windflower Ave.",
           "cc": "CA",
           "city": "Waterton Park",
           "country": "Canada",
           "crossStreet": "Fountain Ave",
           "formattedAddress": [
            "102A Windflower Ave. (Fountain Ave)",
            "Waterton Park AB T0K 2M0",
            "Canada"
           ],
           "labeledLatLngs": [
            {
             "label": "display",
             "lat": 49.071304672952905,
             "lng": -113.88651514984949
            }
           ],
           "lat": 49.071304672952905,
           "lng": -113.88651514984949,
           "postalCode": "T0K 2M0",
           "state": "AB"
          },
          "name": "Canada Post",
          "referralId": "v-1615496214",
          "stats": {
           "checkinsCount": 0,
           "tipCount": 0,
           "usersCount": 0,
           "visitsCount": 0
          },
          "venueChains": [],
          "verified": false
         },
         {
          "beenHere": {
           "count": 0,
           "lastCheckinExpiredAt": 0,
           "marked": false,
           "unconfirmedCount": 0
          },
          "categories": [
           {
            "icon": {
             "prefix": "https://ss3.4sqi.net/img/categories_v2/shops/giftshop_",
             "suffix": ".png"
            },
            "id": "4bf58dd8d48988d128951735",
            "name": "Gift Shop",
            "pluralName": "Gift Shops",
            "primary": true,
            "shortName": "Gift Shop"
           }
          ],
          "contact": {},
          "hasPerk": false,
          "hereNow": {
           "count": 0,
           "groups": [],
           "summary": "Nobody here"
          },
          "id": "5ac2d3580e5da83bde8714a0",
          "location": {
           "cc": "CA",
           "city": "Waterton",
           "country": "Canada",
           "formattedAddress": [
            "Waterton AB T0K 2M0",
            "Canada"
           ],
           "labeledLatLngs": [
            {
             "label": "display",
             "lat": 49.05172,
             "lng": -113.909996
            }
           ],
           "lat": 49.05172,
           "lng": -113.909996,
           "postalCode": "T0K 2M0",
           "state": "AB"
          },
          "name": "The Gift Shop",
          "referralId": "v-1615496214",
          "stats": {
           "checkinsCount": 0,
           "tipCount": 0,
           "usersCount": 0,
           "visitsCount": 0
          },
          "venueChains": [],
          "verified": false
         },
         {
          "beenHere": {
           "count": 0,
           "lastCheckinExpiredAt": 0,
           "marked": false,
           "unconfirmedCount": 0
          },
          "categories": [
           {
            "icon": {
             "prefix": "https://ss3.4sqi.net/img/categories_v2/shops/giftshop_",
             "suffix": ".png"
            },
            "id": "4bf58dd8d48988d128951735",
            "name": "Gift Shop",
            "pluralName": "Gift Shops",
            "primary": true,
            "shortName": "Gift Shop"
           }
          ],
          "contact": {},
          "hasPerk": false,
          "hereNow": {
           "count": 0,
           "groups": [],
           "summary": "Nobody here"
          },
          "id": "520ed27011d21699d856c88b",
          "location": {
           "cc": "CA",
           "city": "Waterton Park",
           "country": "Canada",
           "formattedAddress": [
            "Waterton Park AB",
            "Canada"
           ],
           "labeledLatLngs": [
            {
             "label": "display",
             "lat": 49.05360790513897,
             "lng": -113.90905604960417
            }
           ],
           "lat": 49.05360790513897,
           "lng": -113.90905604960417,
           "state": "AB"
          },
          "name": "Evergreen Gifts",
          "referralId": "v-1615496214",
          "stats": {
           "checkinsCount": 0,
           "tipCount": 0,
           "usersCount": 0,
           "visitsCount": 0
          },
          "venueChains": [],
          "verified": false
         },
         {
          "beenHere": {
           "count": 0,
           "lastCheckinExpiredAt": 0,
           "marked": false,
           "unconfirmedCount": 0
          },
          "categories": [
           {
            "icon": {
             "prefix": "https://ss3.4sqi.net/img/categories_v2/shops/giftshop_",
             "suffix": ".png"
            },
            "id": "4bf58dd8d48988d128951735",
            "name": "Gift Shop",
            "pluralName": "Gift Shops",
            "primary": true,
            "shortName": "Gift Shop"
           }
          ],
          "contact": {},
          "hasPerk": false,
          "hereNow": {
           "count": 0,
           "groups": [],
           "summary": "Nobody here"
          },
          "id": "579e641f498e051393bb981c",
          "location": {
           "cc": "CA",
           "city": "Waterton",
           "country": "Canada",
           "formattedAddress": [
            "Waterton",
            "Canada"
           ],
           "labeledLatLngs": [
            {
             "label": "display",
             "lat": 49.050797,
             "lng": -113.90837
            }
           ],
           "lat": 49.050797,
           "lng": -113.90837
          },
          "name": "My Sister's Room",
          "referralId": "v-1615496214",
          "stats": {
           "checkinsCount": 0,
           "tipCount": 0,
           "usersCount": 0,
           "visitsCount": 0
          },
          "venueChains": [],
          "verified": false
         },
         {
          "beenHere": {
           "count": 0,
           "lastCheckinExpiredAt": 0,
           "marked": false,
           "unconfirmedCount": 0
          },
          "categories": [
           {
            "icon": {
             "prefix": "https://ss3.4sqi.net/img/categories_v2/shops/salon_barber_",
             "suffix": ".png"
            },
            "id": "54541900498ea6ccd0202697",
            "name": "Health & Beauty Service",
            "pluralName": "Health & Beauty Services",
            "primary": true,
            "shortName": "Health & Beauty"
           }
          ],
          "contact": {},
          "hasPerk": false,
          "hereNow": {
           "count": 0,
           "groups": [],
           "summary": "Nobody here"
          },
          "id": "5d0c5a38a121dc002609f1b1",
          "location": {
           "address": "111 Waterton Ave #103",
           "cc": "CA",
           "city": "Waterton Park",
           "country": "Canada",
           "formattedAddress": [
            "111 Waterton Ave #103",
            "Waterton Park AB T0K 2M0",
            "Canada"
           ],
           "labeledLatLngs": [
            {
             "label": "display",
             "lat": 49.0526836,
             "lng": -113.9062574
            }
           ],
           "lat": 49.0526836,
           "lng": -113.9062574,
           "postalCode": "T0K 2M0",
           "state": "AB"
          },
          "name": "Serenity Spa",
          "referralId": "v-1615496214",
          "stats": {
           "checkinsCount": 0,
           "tipCount": 0,
           "usersCount": 0,
           "visitsCount": 0
          },
          "venueChains": [],
          "verified": false
         },
         {
          "beenHere": {
           "count": 0,
           "lastCheckinExpiredAt": 0,
           "marked": false,
           "unconfirmedCount": 0
          },
          "categories": [
           {
            "icon": {
             "prefix": "https://ss3.4sqi.net/img/categories_v2/travel/hotel_",
             "suffix": ".png"
            },
            "id": "4bf58dd8d48988d1fa931735",
            "name": "Hotel",
            "pluralName": "Hotels",
            "primary": true,
            "shortName": "Hotel"
           }
          ],
          "contact": {},
          "hasPerk": false,
          "hereNow": {
           "count": 0,
           "groups": [],
           "summary": "Nobody here"
          },
          "id": "5c6032a59fca56002cf90662",
          "location": {
           "address": "PO Box 38, 111 Waterton Ave",
           "cc": "CA",
           "city": "Waterton Park",
           "country": "Canada",
           "formattedAddress": [
            "PO Box 38, 111 Waterton Ave",
            "Waterton Park AB T0K 2M0",
            "Canada"
           ],
           "labeledLatLngs": [
            {
             "label": "display",
             "lat": 49.07993798570057,
             "lng": -113.87582302093506
            }
           ],
           "lat": 49.07993798570057,
           "lng": -113.87582302093506,
           "postalCode": "T0K 2M0",
           "state": "AB"
          },
          "name": "Waterton Lakes National Park Alberta",
          "referralId": "v-1615496214",
          "stats": {
           "checkinsCount": 0,
           "tipCount": 0,
           "usersCount": 0,
           "visitsCount": 0
          },
          "venueChains": [],
          "verified": false
         },
         {
          "beenHere": {
           "count": 0,
           "lastCheckinExpiredAt": 0,
           "marked": false,
           "unconfirmedCount": 0
          },
          "categories": [
           {
            "icon": {
             "prefix": "https://ss3.4sqi.net/img/categories_v2/shops/giftshop_",
             "suffix": ".png"
            },
            "id": "4bf58dd8d48988d128951735",
            "name": "Gift Shop",
            "pluralName": "Gift Shops",
            "primary": true,
            "shortName": "Gift Shop"
           }
          ],
          "contact": {},
          "hasPerk": false,
          "hereNow": {
           "count": 0,
           "groups": [],
           "summary": "Nobody here"
          },
          "id": "518e97ae498e4ddbcae212a4",
          "location": {
           "cc": "CA",
           "country": "Canada",
           "formattedAddress": [
            "Canada"
           ],
           "labeledLatLngs": [
            {
             "label": "display",
             "lat": 49.051441761633676,
             "lng": -113.90588187018709
            }
           ],
           "lat": 49.051441761633676,
           "lng": -113.90588187018709
          },
          "name": "Akamina Gifts",
          "referralId": "v-1615496214",
          "stats": {
           "checkinsCount": 0,
           "tipCount": 0,
           "usersCount": 0,
           "visitsCount": 0
          },
          "venueChains": [],
          "verified": false
         },
         {
          "beenHere": {
           "count": 0,
           "lastCheckinExpiredAt": 0,
           "marked": false,
           "unconfirmedCount": 0
          },
          "categories": [
           {
            "icon": {
             "prefix": "https://ss3.4sqi.net/img/categories_v2/parks_outdoors/golfcourse_",
             "suffix": ".png"
            },
            "id": "4bf58dd8d48988d1e6941735",
            "name": "Golf Course",
            "pluralName": "Golf Courses",
            "primary": true,
            "shortName": "Golf Course"
           }
          ],
          "contact": {},
          "hasPerk": false,
          "hereNow": {
           "count": 0,
           "groups": [],
           "summary": "Nobody here"
          },
          "id": "502feba9e4b0eed9c3cd36d6",
          "location": {
           "cc": "CA",
           "country": "Canada",
           "formattedAddress": [
            "Canada"
           ],
           "labeledLatLngs": [
            {
             "label": "display",
             "lat": 49.075061161171625,
             "lng": -113.88618723583754
            }
           ],
           "lat": 49.075061161171625,
           "lng": -113.88618723583754
          },
          "name": "Waterton Lakes Golf Course",
          "referralId": "v-1615496214",
          "stats": {
           "checkinsCount": 0,
           "tipCount": 0,
           "usersCount": 0,
           "visitsCount": 0
          },
          "venueChains": [],
          "verified": false
         },
         {
          "beenHere": {
           "count": 0,
           "lastCheckinExpiredAt": 0,
           "marked": false,
           "unconfirmedCount": 0
          },
          "categories": [
           {
            "icon": {
             "prefix": "https://ss3.4sqi.net/img/categories_v2/parks_outdoors/playground_",
             "suffix": ".png"
            },
            "id": "4bf58dd8d48988d1e7941735",
            "name": "Playground",
            "pluralName": "Playgrounds",
            "primary": true,
            "shortName": "Playground"
           }
          ],
          "contact": {},
          "hasPerk": false,
          "hereNow": {
           "count": 0,
           "groups": [],
           "summary": "Nobody here"
          },
          "id": "51fdab1a498e2dbf11d2182b",
          "location": {
           "cc": "CA",
           "country": "Canada",
           "formattedAddress": [
            "Canada"
           ],
           "labeledLatLngs": [
            {
             "label": "display",
             "lat": 49.05128397845582,
             "lng": -113.90882163162233
            }
           ],
           "lat": 49.05128397845582,
           "lng": -113.90882163162233
          },
          "name": "Playground",
          "referralId": "v-1615496214",
          "stats": {
           "checkinsCount": 0,
           "tipCount": 0,
           "usersCount": 0,
           "visitsCount": 0
          },
          "venueChains": [],
          "verified": false
         },
         {
          "beenHere": {
           "count": 0,
           "lastCheckinExpiredAt": 0,
           "marked": false,
           "unconfirmedCount": 0
          },
          "categories": [
           {
            "icon": {
             "prefix": "https://ss3.4sqi.net/img/categories_v2/building/default_",
             "suffix": ".png"
            },
            "id": "4bf58dd8d48988d130941735",
            "name": "Building",
            "pluralName": "Buildings",
            "primary": true,
            "shortName": "Building"
           }
          ],
          "contact": {},
          "hasPerk": false,
          "hereNow": {
           "count": 0,
           "groups": [],
           "summary": "Nobody here"
          },
          "id": "59d67faf2a7ab669b2e3c84d",
          "location": {
           "address": "101 1/2 clematis ave",
           "cc": "CA",
           "city": "Waterton",
           "country": "Canada",
           "formattedAddress": [
            "101 1/2 clematis ave",
            "Waterton AB T0K 2M0",
            "Canada"
           ],
           "labeledLatLngs": [
            {
             "label": "display",
             "lat": 49.051365,
             "lng": -113.90961
            }
           ],
           "lat": 49.051365,
           "lng": -113.90961,
           "postalCode": "T0K 2M0",
           "state": "AB"
          },
          "name": "Daves Apartment",
          "referralId": "v-1615496214",
          "stats": {
           "checkinsCount": 0,
           "tipCount": 0,
           "usersCount": 0,
           "visitsCount": 0
          },
          "venueChains": [],
          "verified": false
         },
         {
          "beenHere": {
           "count": 0,
           "lastCheckinExpiredAt": 0,
           "marked": false,
           "unconfirmedCount": 0
          },
          "categories": [
           {
            "icon": {
             "prefix": "https://ss3.4sqi.net/img/categories_v2/parks_outdoors/harbor_",
             "suffix": ".png"
            },
            "id": "4bf58dd8d48988d1e0941735",
            "name": "Harbor / Marina",
            "pluralName": "Harbors / Marinas",
            "primary": true,
            "shortName": "Harbor / Marina"
           }
          ],
          "contact": {},
          "hasPerk": false,
          "hereNow": {
           "count": 0,
           "groups": [],
           "summary": "Nobody here"
          },
          "id": "59e74ea4002f4c707b245c3a",
          "location": {
           "cc": "CA",
           "city": "Waterton",
           "country": "Canada",
           "formattedAddress": [
            "Waterton AB T0K 2M0",
            "Canada"
           ],
           "labeledLatLngs": [
            {
             "label": "display",
             "lat": 49.05588,
             "lng": -113.90993
            }
           ],
           "lat": 49.05588,
           "lng": -113.90993,
           "postalCode": "T0K 2M0",
           "state": "AB"
          },
          "name": "Paddle Shop",
          "referralId": "v-1615496214",
          "stats": {
           "checkinsCount": 0,
           "tipCount": 0,
           "usersCount": 0,
           "visitsCount": 0
          },
          "venueChains": [],
          "verified": false
         },
         {
          "beenHere": {
           "count": 0,
           "lastCheckinExpiredAt": 0,
           "marked": false,
           "unconfirmedCount": 0
          },
          "categories": [
           {
            "icon": {
             "prefix": "https://ss3.4sqi.net/img/categories_v2/parks_outdoors/campground_",
             "suffix": ".png"
            },
            "id": "4bf58dd8d48988d1e4941735",
            "name": "Campground",
            "pluralName": "Campgrounds",
            "primary": true,
            "shortName": "Campground"
           }
          ],
          "contact": {},
          "hasPerk": false,
          "hereNow": {
           "count": 0,
           "groups": [],
           "summary": "Nobody here"
          },
          "id": "51fdabec498ebbf7396cfdee",
          "location": {
           "cc": "CA",
           "country": "Canada",
           "formattedAddress": [
            "Canada"
           ],
           "labeledLatLngs": [
            {
             "label": "display",
             "lat": 49.04856331931721,
             "lng": -113.91058096419563
            }
           ],
           "lat": 49.04856331931721,
           "lng": -113.91058096419563
          },
          "name": "Waterton Townsite Camping",
          "referralId": "v-1615496214",
          "stats": {
           "checkinsCount": 0,
           "tipCount": 0,
           "usersCount": 0,
           "visitsCount": 0
          },
          "venueChains": [],
          "verified": false
         },
         {
          "beenHere": {
           "count": 0,
           "lastCheckinExpiredAt": 0,
           "marked": false,
           "unconfirmedCount": 0
          },
          "categories": [],
          "contact": {},
          "hasPerk": false,
          "hereNow": {
           "count": 0,
           "groups": [],
           "summary": "Nobody here"
          },
          "id": "4e3ef7a8aeb73139a18dcc1e",
          "location": {
           "cc": "CA",
           "city": "Waterton",
           "country": "Canada",
           "formattedAddress": [
            "Waterton AB",
            "Canada"
           ],
           "labeledLatLngs": [
            {
             "label": "display",
             "lat": 49.05347820644127,
             "lng": -113.91039774588089
            }
           ],
           "lat": 49.05347820644127,
           "lng": -113.91039774588089,
           "state": "AB"
          },
          "name": "Crandel lake",
          "referralId": "v-1615496214",
          "stats": {
           "checkinsCount": 0,
           "tipCount": 0,
           "usersCount": 0,
           "visitsCount": 0
          },
          "venueChains": [],
          "verified": false
         },
         {
          "beenHere": {
           "count": 0,
           "lastCheckinExpiredAt": 0,
           "marked": false,
           "unconfirmedCount": 0
          },
          "categories": [],
          "contact": {},
          "hasPerk": false,
          "hereNow": {
           "count": 0,
           "groups": [],
           "summary": "Nobody here"
          },
          "id": "4e3d83ea62e19d61096f58d3",
          "location": {
           "cc": "CA",
           "city": "Waterton",
           "country": "Canada",
           "formattedAddress": [
            "Waterton AB",
            "Canada"
           ],
           "labeledLatLngs": [
            {
             "label": "display",
             "lat": 49.047305225101894,
             "lng": -113.91112205169571
            }
           ],
           "lat": 49.047305225101894,
           "lng": -113.91112205169571,
           "state": "AB"
          },
          "name": "Waterton camp site \"J14\"",
          "referralId": "v-1615496214",
          "stats": {
           "checkinsCount": 0,
           "tipCount": 0,
           "usersCount": 0,
           "visitsCount": 0
          },
          "venueChains": [],
          "verified": false
         },
         {
          "beenHere": {
           "count": 0,
           "lastCheckinExpiredAt": 0,
           "marked": false,
           "unconfirmedCount": 0
          },
          "categories": [],
          "contact": {},
          "hasPerk": false,
          "hereNow": {
           "count": 0,
           "groups": [],
           "summary": "Nobody here"
          },
          "id": "4e4ae2ea1838fe3c8180aebc",
          "location": {
           "cc": "CA",
           "city": "Waterton Park",
           "country": "Canada",
           "formattedAddress": [
            "Waterton Park AB T0K 1N0",
            "Canada"
           ],
           "labeledLatLngs": [
            {
             "label": "display",
             "lat": 49.05347583643675,
             "lng": -113.90863152552015
            }
           ],
           "lat": 49.05347583643675,
           "lng": -113.90863152552015,
           "postalCode": "T0K 1N0",
           "state": "AB"
          },
          "name": "Waterton Lake Marina",
          "referralId": "v-1615496214",
          "stats": {
           "checkinsCount": 0,
           "tipCount": 0,
           "usersCount": 0,
           "visitsCount": 0
          },
          "venueChains": [],
          "verified": false
         },
         {
          "beenHere": {
           "count": 0,
           "lastCheckinExpiredAt": 0,
           "marked": false,
           "unconfirmedCount": 0
          },
          "categories": [],
          "contact": {},
          "hasPerk": false,
          "hereNow": {
           "count": 0,
           "groups": [],
           "summary": "Nobody here"
          },
          "id": "4e4c0dc91f6e2a789a8fc47b",
          "location": {
           "cc": "CA",
           "city": "Waterton Lakes National Park",
           "country": "Canada",
           "formattedAddress": [
            "Waterton Lakes National Park",
            "Canada"
           ],
           "labeledLatLngs": [
            {
             "label": "display",
             "lat": 49.05060411817702,
             "lng": -113.9114842230586
            }
           ],
           "lat": 49.05060411817702,
           "lng": -113.9114842230586
          },
          "name": "Alpine Stables",
          "referralId": "v-1615496214",
          "stats": {
           "checkinsCount": 0,
           "tipCount": 0,
           "usersCount": 0,
           "visitsCount": 0
          },
          "venueChains": [],
          "verified": false
         },
         {
          "beenHere": {
           "count": 0,
           "lastCheckinExpiredAt": 0,
           "marked": false,
           "unconfirmedCount": 0
          },
          "categories": [],
          "contact": {},
          "hasPerk": false,
          "hereNow": {
           "count": 0,
           "groups": [],
           "summary": "Nobody here"
          },
          "id": "4e3f0721b61cb577be8cf2c9",
          "location": {
           "cc": "CA",
           "city": "Waterton",
           "country": "Canada",
           "formattedAddress": [
            "Waterton AB",
            "Canada"
           ],
           "labeledLatLngs": [
            {
             "label": "display",
             "lat": 49.05426,
             "lng": -113.91047
            }
           ],
           "lat": 49.05426,
           "lng": -113.91047,
           "state": "AB"
          },
          "name": "canyon church camp",
          "referralId": "v-1615496214",
          "stats": {
           "checkinsCount": 0,
           "tipCount": 0,
           "usersCount": 0,
           "visitsCount": 0
          },
          "venueChains": [],
          "verified": false
         },
         {
          "beenHere": {
           "count": 0,
           "lastCheckinExpiredAt": 0,
           "marked": false,
           "unconfirmedCount": 0
          },
          "categories": [],
          "contact": {},
          "hasPerk": false,
          "hereNow": {
           "count": 0,
           "groups": [],
           "summary": "Nobody here"
          },
          "id": "4e3daf792271d21e86fa0b97",
          "location": {
           "cc": "CA",
           "city": "Waterton",
           "country": "Canada",
           "formattedAddress": [
            "Waterton AB",
            "Canada"
           ],
           "labeledLatLngs": [
            {
             "label": "display",
             "lat": 49.05426,
             "lng": -113.91047
            }
           ],
           "lat": 49.05426,
           "lng": -113.91047,
           "state": "AB"
          },
          "name": "Waterton Candy Store",
          "referralId": "v-1615496214",
          "stats": {
           "checkinsCount": 0,
           "tipCount": 0,
           "usersCount": 0,
           "visitsCount": 0
          },
          "venueChains": [],
          "verified": false
         },
         {
          "beenHere": {
           "count": 0,
           "lastCheckinExpiredAt": 0,
           "marked": false,
           "unconfirmedCount": 0
          },
          "categories": [
           {
            "icon": {
             "prefix": "https://ss3.4sqi.net/img/categories_v2/parks_outdoors/hikingtrail_",
             "suffix": ".png"
            },
            "id": "52e81612bcbc57f1066b7a21",
            "name": "National Park",
            "pluralName": "National Parks",
            "primary": true,
            "shortName": "National Park"
           }
          ],
          "contact": {},
          "hasPerk": false,
          "hereNow": {
           "count": 0,
           "groups": [],
           "summary": "Nobody here"
          },
          "id": "59eb95f60a464d0d41add017",
          "location": {
           "cc": "CA",
           "country": "Canada",
           "formattedAddress": [
            "AB T0K",
            "Canada"
           ],
           "labeledLatLngs": [
            {
             "label": "display",
             "lat": 49.08021,
             "lng": -113.850936
            }
           ],
           "lat": 49.08021,
           "lng": -113.850936,
           "postalCode": "T0K",
           "state": "Alberta"
          },
          "name": "Hay Barn",
          "referralId": "v-1615496214",
          "stats": {
           "checkinsCount": 0,
           "tipCount": 0,
           "usersCount": 0,
           "visitsCount": 0
          },
          "venueChains": [],
          "verified": false
         },
         {
          "beenHere": {
           "count": 0,
           "lastCheckinExpiredAt": 0,
           "marked": false,
           "unconfirmedCount": 0
          },
          "categories": [
           {
            "icon": {
             "prefix": "https://ss3.4sqi.net/img/categories_v2/parks_outdoors/campground_",
             "suffix": ".png"
            },
            "id": "4bf58dd8d48988d1e4941735",
            "name": "Campground",
            "pluralName": "Campgrounds",
            "primary": true,
            "shortName": "Campground"
           }
          ],
          "contact": {},
          "hasPerk": false,
          "hereNow": {
           "count": 0,
           "groups": [],
           "summary": "Nobody here"
          },
          "id": "53eecaf7498e9da930549230",
          "location": {
           "cc": "CA",
           "country": "Canada",
           "formattedAddress": [
            "Canada"
           ],
           "labeledLatLngs": [
            {
             "label": "display",
             "lat": 49.048436,
             "lng": -113.910492
            }
           ],
           "lat": 49.048436,
           "lng": -113.910492
          },
          "name": "waterton campsite c",
          "referralId": "v-1615496214",
          "stats": {
           "checkinsCount": 0,
           "tipCount": 0,
           "usersCount": 0,
           "visitsCount": 0
          },
          "venueChains": [],
          "verified": false
         },
         {
          "beenHere": {
           "count": 0,
           "lastCheckinExpiredAt": 0,
           "marked": false,
           "unconfirmedCount": 0
          },
          "categories": [
           {
            "icon": {
             "prefix": "https://ss3.4sqi.net/img/categories_v2/building/gym_",
             "suffix": ".png"
            },
            "id": "4bf58dd8d48988d175941735",
            "name": "Gym / Fitness Center",
            "pluralName": "Gyms or Fitness Centers",
            "primary": true,
            "shortName": "Gym / Fitness"
           }
          ],
          "contact": {},
          "hasPerk": false,
          "hereNow": {
           "count": 0,
           "groups": [],
           "summary": "Nobody here"
          },
          "id": "5ac2fb591cf2e16c92547739",
          "location": {
           "cc": "CA",
           "city": "Waterton",
           "country": "Canada",
           "formattedAddress": [
            "Waterton AB T0K 2M0",
            "Canada"
           ],
           "labeledLatLngs": [
            {
             "label": "display",
             "lat": 49.051308,
             "lng": -113.91021
            }
           ],
           "lat": 49.051308,
           "lng": -113.91021,
           "postalCode": "T0K 2M0",
           "state": "AB"
          },
          "name": "Gym (Fitness Centre)",
          "referralId": "v-1615496214",
          "stats": {
           "checkinsCount": 0,
           "tipCount": 0,
           "usersCount": 0,
           "visitsCount": 0
          },
          "venueChains": [],
          "verified": false
         },
         {
          "beenHere": {
           "count": 0,
           "lastCheckinExpiredAt": 0,
           "marked": false,
           "unconfirmedCount": 0
          },
          "categories": [
           {
            "icon": {
             "prefix": "https://ss3.4sqi.net/img/categories_v2/arts_entertainment/historicsite_",
             "suffix": ".png"
            },
            "id": "4deefb944765f83613cdba6e",
            "name": "Historic Site",
            "pluralName": "Historic Sites",
            "primary": true,
            "shortName": "Historic Site"
           }
          ],
          "contact": {},
          "hasPerk": false,
          "hereNow": {
           "count": 0,
           "groups": [],
           "summary": "Nobody here"
          },
          "id": "579e6499498ebfdb3d189c14",
          "location": {
           "cc": "CA",
           "country": "Canada",
           "formattedAddress": [
            "Canada"
           ],
           "labeledLatLngs": [
            {
             "label": "display",
             "lat": 49.051277,
             "lng": -113.90697
            }
           ],
           "lat": 49.051277,
           "lng": -113.90697
          },
          "name": "Waterton Heritage Centre",
          "referralId": "v-1615496214",
          "stats": {
           "checkinsCount": 0,
           "tipCount": 0,
           "usersCount": 0,
           "visitsCount": 0
          },
          "venueChains": [],
          "verified": false
         },
         {
          "beenHere": {
           "count": 0,
           "lastCheckinExpiredAt": 0,
           "marked": false,
           "unconfirmedCount": 0
          },
          "categories": [
           {
            "icon": {
             "prefix": "https://ss3.4sqi.net/img/categories_v2/food/mexican_",
             "suffix": ".png"
            },
            "id": "4bf58dd8d48988d1c1941735",
            "name": "Mexican Restaurant",
            "pluralName": "Mexican Restaurants",
            "primary": true,
            "shortName": "Mexican"
           }
          ],
          "contact": {},
          "hasPerk": false,
          "hereNow": {
           "count": 0,
           "groups": [],
           "summary": "Nobody here"
          },
          "id": "504a5918e4b084386a608aa7",
          "location": {
           "address": "310 Windflower Ave",
           "cc": "CA",
           "city": "Waterton Park",
           "country": "Canada",
           "formattedAddress": [
            "310 Windflower Ave",
            "Waterton Park AB T0K 2M0",
            "Canada"
           ],
           "labeledLatLngs": [
            {
             "label": "display",
             "lat": 49.05105540007544,
             "lng": -113.90986180475304
            }
           ],
           "lat": 49.05105540007544,
           "lng": -113.90986180475304,
           "postalCode": "T0K 2M0",
           "state": "AB"
          },
          "name": "The Taco bar",
          "referralId": "v-1615496214",
          "stats": {
           "checkinsCount": 0,
           "tipCount": 0,
           "usersCount": 0,
           "visitsCount": 0
          },
          "venueChains": [],
          "verified": false
         },
         {
          "beenHere": {
           "count": 0,
           "lastCheckinExpiredAt": 0,
           "marked": false,
           "unconfirmedCount": 0
          },
          "categories": [
           {
            "icon": {
             "prefix": "https://ss3.4sqi.net/img/categories_v2/parks_outdoors/pool_",
             "suffix": ".png"
            },
            "id": "4bf58dd8d48988d15e941735",
            "name": "Pool",
            "pluralName": "Pools",
            "primary": true,
            "shortName": "Pool"
           }
          ],
          "contact": {},
          "hasPerk": false,
          "hereNow": {
           "count": 0,
           "groups": [],
           "summary": "Nobody here"
          },
          "id": "5ac2fb0967f62b75c4fa280c",
          "location": {
           "cc": "CA",
           "city": "Waterton",
           "country": "Canada",
           "formattedAddress": [
            "Waterton AB T0K 2M0",
            "Canada"
           ],
           "labeledLatLngs": [
            {
             "label": "display",
             "lat": 49.051426,
             "lng": -113.910034
            }
           ],
           "lat": 49.051426,
           "lng": -113.910034,
           "postalCode": "T0K 2M0",
           "state": "AB"
          },
          "name": "Pool",
          "referralId": "v-1615496214",
          "stats": {
           "checkinsCount": 0,
           "tipCount": 0,
           "usersCount": 0,
           "visitsCount": 0
          },
          "venueChains": [],
          "verified": false
         },
         {
          "beenHere": {
           "count": 0,
           "lastCheckinExpiredAt": 0,
           "marked": false,
           "unconfirmedCount": 0
          },
          "categories": [
           {
            "icon": {
             "prefix": "https://ss3.4sqi.net/img/categories_v2/food/coffeeshop_",
             "suffix": ".png"
            },
            "id": "4bf58dd8d48988d1e0931735",
            "name": "Coffee Shop",
            "pluralName": "Coffee Shops",
            "primary": true,
            "shortName": "Coffee Shop"
           }
          ],
          "contact": {},
          "hasPerk": false,
          "hereNow": {
           "count": 0,
           "groups": [],
           "summary": "Nobody here"
          },
          "id": "4c067a9b517d0f47ef05f615",
          "location": {
           "cc": "CA",
           "country": "Canada",
           "formattedAddress": [
            "Canada"
           ],
           "labeledLatLngs": [
            {
             "label": "display",
             "lat": 49.05206211010543,
             "lng": -113.90801645709416
            }
           ],
           "lat": 49.05206211010543,
           "lng": -113.90801645709416
          },
          "name": "Waterton Bagel & Coffee Co.",
          "referralId": "v-1615496214",
          "stats": {
           "checkinsCount": 0,
           "tipCount": 0,
           "usersCount": 0,
           "visitsCount": 0
          },
          "venueChains": [],
          "verified": false
         },
         {
          "beenHere": {
           "count": 0,
           "lastCheckinExpiredAt": 0,
           "marked": false,
           "unconfirmedCount": 0
          },
          "categories": [
           {
            "icon": {
             "prefix": "https://ss3.4sqi.net/img/categories_v2/building/gym_",
             "suffix": ".png"
            },
            "id": "4bf58dd8d48988d175941735",
            "name": "Gym / Fitness Center",
            "pluralName": "Gyms or Fitness Centers",
            "primary": true,
            "shortName": "Gym / Fitness"
           }
          ],
          "contact": {},
          "hasPerk": false,
          "hereNow": {
           "count": 0,
           "groups": [],
           "summary": "Nobody here"
          },
          "id": "5ac2f60bee628b7cf8e733fe",
          "location": {
           "cc": "CA",
           "city": "Waterton",
           "country": "Canada",
           "formattedAddress": [
            "Waterton AB T0K 2M0",
            "Canada"
           ],
           "labeledLatLngs": [
            {
             "label": "display",
             "lat": 49.051178,
             "lng": -113.910194
            }
           ],
           "lat": 49.051178,
           "lng": -113.910194,
           "postalCode": "T0K 2M0",
           "state": "AB"
          },
          "name": "Waterton Health Club & Recreation Centre",
          "referralId": "v-1615496214",
          "stats": {
           "checkinsCount": 0,
           "tipCount": 0,
           "usersCount": 0,
           "visitsCount": 0
          },
          "venueChains": [],
          "verified": false
         },
         {
          "beenHere": {
           "count": 0,
           "lastCheckinExpiredAt": 0,
           "marked": false,
           "unconfirmedCount": 0
          },
          "categories": [
           {
            "icon": {
             "prefix": "https://ss3.4sqi.net/img/categories_v2/arts_entertainment/movietheater_",
             "suffix": ".png"
            },
            "id": "4bf58dd8d48988d17f941735",
            "name": "Movie Theater",
            "pluralName": "Movie Theaters",
            "primary": true,
            "shortName": "Movie Theater"
           }
          ],
          "contact": {},
          "hasPerk": false,
          "hereNow": {
           "count": 0,
           "groups": [],
           "summary": "Nobody here"
          },
          "id": "4c070c210ed3c9285e0f797d",
          "location": {
           "cc": "CA",
           "country": "Canada",
           "formattedAddress": [
            "Canada"
           ],
           "labeledLatLngs": [
            {
             "label": "display",
             "lat": 49.05116357401885,
             "lng": -113.90825956305073
            }
           ],
           "lat": 49.05116357401885,
           "lng": -113.90825956305073
          },
          "name": "Waterton Lake Opera House",
          "referralId": "v-1615496214",
          "stats": {
           "checkinsCount": 0,
           "tipCount": 0,
           "usersCount": 0,
           "visitsCount": 0
          },
          "venueChains": [],
          "verified": false
         },
         {
          "beenHere": {
           "count": 0,
           "lastCheckinExpiredAt": 0,
           "marked": false,
           "unconfirmedCount": 0
          },
          "categories": [
           {
            "icon": {
             "prefix": "https://ss3.4sqi.net/img/categories_v2/nightlife/pub_",
             "suffix": ".png"
            },
            "id": "4bf58dd8d48988d116941735",
            "name": "Bar",
            "pluralName": "Bars",
            "primary": true,
            "shortName": "Bar"
           }
          ],
          "contact": {},
          "hasPerk": false,
          "hereNow": {
           "count": 0,
           "groups": [],
           "summary": "Nobody here"
          },
          "id": "4c2d0147e307d13ad6140dda",
          "location": {
           "cc": "CA",
           "city": "Waterton Park",
           "country": "Canada",
           "formattedAddress": [
            "Waterton Park AB",
            "Canada"
           ],
           "labeledLatLngs": [
            {
             "label": "display",
             "lat": 49.051992,
             "lng": -113.906556
            }
           ],
           "lat": 49.051992,
           "lng": -113.906556,
           "state": "AB"
          },
          "name": "Fireside Lounge",
          "referralId": "v-1615496214",
          "stats": {
           "checkinsCount": 0,
           "tipCount": 0,
           "usersCount": 0,
           "visitsCount": 0
          },
          "venueChains": [],
          "verified": false
         },
         {
          "beenHere": {
           "count": 0,
           "lastCheckinExpiredAt": 0,
           "marked": false,
           "unconfirmedCount": 0
          },
          "categories": [
           {
            "icon": {
             "prefix": "https://ss3.4sqi.net/img/categories_v2/food/coffeeshop_",
             "suffix": ".png"
            },
            "id": "4bf58dd8d48988d1e0931735",
            "name": "Coffee Shop",
            "pluralName": "Coffee Shops",
            "primary": true,
            "shortName": "Coffee Shop"
           }
          ],
          "contact": {},
          "hasPerk": false,
          "hereNow": {
           "count": 0,
           "groups": [],
           "summary": "Nobody here"
          },
          "id": "5d20b69db990ec00239e0cbc",
          "location": {
           "cc": "CA",
           "country": "Canada",
           "formattedAddress": [
            "AB T0K 2M0",
            "Canada"
           ],
           "labeledLatLngs": [
            {
             "label": "display",
             "lat": 49.051943,
             "lng": -113.90669
            }
           ],
           "lat": 49.051943,
           "lng": -113.90669,
           "postalCode": "T0K 2M0",
           "state": "Alberta"
          },
          "name": "Starbucks",
          "referralId": "v-1615496214",
          "stats": {
           "checkinsCount": 0,
           "tipCount": 0,
           "usersCount": 0,
           "visitsCount": 0
          },
          "venueChains": [],
          "verified": false
         },
         {
          "beenHere": {
           "count": 0,
           "lastCheckinExpiredAt": 0,
           "marked": false,
           "unconfirmedCount": 0
          },
          "categories": [
           {
            "icon": {
             "prefix": "https://ss3.4sqi.net/img/categories_v2/shops/conveniencestore_",
             "suffix": ".png"
            },
            "id": "4d954b0ea243a5684a65b473",
            "name": "Convenience Store",
            "pluralName": "Convenience Stores",
            "primary": true,
            "shortName": "Convenience Store"
           }
          ],
          "contact": {},
          "hasPerk": false,
          "hereNow": {
           "count": 0,
           "groups": [],
           "summary": "Nobody here"
          },
          "id": "4e4b35eb1838fe3c818569ed",
          "location": {
           "cc": "CA",
           "city": "Waterton Park",
           "country": "Canada",
           "formattedAddress": [
            "Waterton Park AB",
            "Canada"
           ],
           "labeledLatLngs": [
            {
             "label": "display",
             "lat": 49.0524876992757,
             "lng": -113.90732867438419
            }
           ],
           "lat": 49.0524876992757,
           "lng": -113.90732867438419,
           "state": "AB"
          },
          "name": "Pats",
          "referralId": "v-1615496214",
          "stats": {
           "checkinsCount": 0,
           "tipCount": 0,
           "usersCount": 0,
           "visitsCount": 0
          },
          "venueChains": [],
          "verified": false
         }
        ]
       }
      },
      "text/plain": [
       "<IPython.core.display.JSON object>"
      ]
     },
     "execution_count": 58,
     "metadata": {
      "application/json": {
       "expanded": false,
       "root": "root"
      }
     },
     "output_type": "execute_result"
    }
   ],
   "source": [
    "JSON(foursq_json)"
   ]
  },
  {
   "cell_type": "code",
   "execution_count": 7,
   "id": "elect-rolling",
   "metadata": {},
   "outputs": [],
   "source": [
    "# grab the information I want into a list of lists, with first index to be column headers later\n",
    "def fsq_business_details(data):\n",
    "    foursq_search = [['name','business_id','latitude','longitude']]\n",
    "    for i in data['response']['venues']:\n",
    "        foursq_search.append([\n",
    "            i['name'],\n",
    "            i['id'],\n",
    "            i['location']['lat'],\n",
    "            i['location']['lng']\n",
    "        ])\n",
    "    return foursq_search"
   ]
  },
  {
   "cell_type": "code",
   "execution_count": 8,
   "id": "utility-aspect",
   "metadata": {},
   "outputs": [
    {
     "data": {
      "text/html": [
       "<div>\n",
       "<style scoped>\n",
       "    .dataframe tbody tr th:only-of-type {\n",
       "        vertical-align: middle;\n",
       "    }\n",
       "\n",
       "    .dataframe tbody tr th {\n",
       "        vertical-align: top;\n",
       "    }\n",
       "\n",
       "    .dataframe thead th {\n",
       "        text-align: right;\n",
       "    }\n",
       "</style>\n",
       "<table border=\"1\" class=\"dataframe\">\n",
       "  <thead>\n",
       "    <tr style=\"text-align: right;\">\n",
       "      <th></th>\n",
       "      <th>name</th>\n",
       "      <th>business_id</th>\n",
       "      <th>latitude</th>\n",
       "      <th>longitude</th>\n",
       "      <th>ll</th>\n",
       "      <th>rating</th>\n",
       "    </tr>\n",
       "  </thead>\n",
       "  <tbody>\n",
       "    <tr>\n",
       "      <th>1</th>\n",
       "      <td>Northland Lodge</td>\n",
       "      <td>5d1ea01d1feae30023e1e384</td>\n",
       "      <td>49.050064</td>\n",
       "      <td>-113.91653</td>\n",
       "      <td>49.050064,-113.91653</td>\n",
       "      <td>NaN</td>\n",
       "    </tr>\n",
       "    <tr>\n",
       "      <th>2</th>\n",
       "      <td>Cameron Falls</td>\n",
       "      <td>4e5975dc18a8c204750cd4bf</td>\n",
       "      <td>49.051341</td>\n",
       "      <td>-113.91604</td>\n",
       "      <td>49.051340829924605,-113.9160397415404</td>\n",
       "      <td>NaN</td>\n",
       "    </tr>\n",
       "    <tr>\n",
       "      <th>3</th>\n",
       "      <td>Waterton, Alberta</td>\n",
       "      <td>4e3d79e07d8b0e961069ce63</td>\n",
       "      <td>49.052142</td>\n",
       "      <td>-113.908082</td>\n",
       "      <td>49.05214241377369,-113.90808152342375</td>\n",
       "      <td>NaN</td>\n",
       "    </tr>\n",
       "    <tr>\n",
       "      <th>4</th>\n",
       "      <td>Bertha Trailhead</td>\n",
       "      <td>503127fce4b08362164cc687</td>\n",
       "      <td>49.04531</td>\n",
       "      <td>-113.916983</td>\n",
       "      <td>49.045309697785044,-113.91698320006687</td>\n",
       "      <td>NaN</td>\n",
       "    </tr>\n",
       "    <tr>\n",
       "      <th>5</th>\n",
       "      <td>Zums Eatery</td>\n",
       "      <td>4c7d28479221236a4f4f7e3d</td>\n",
       "      <td>49.049293</td>\n",
       "      <td>-113.907389</td>\n",
       "      <td>49.04929322706642,-113.90738904697935</td>\n",
       "      <td>NaN</td>\n",
       "    </tr>\n",
       "  </tbody>\n",
       "</table>\n",
       "</div>"
      ],
      "text/plain": [
       "0               name               business_id   latitude   longitude  \\\n",
       "1    Northland Lodge  5d1ea01d1feae30023e1e384  49.050064  -113.91653   \n",
       "2      Cameron Falls  4e5975dc18a8c204750cd4bf  49.051341  -113.91604   \n",
       "3  Waterton, Alberta  4e3d79e07d8b0e961069ce63  49.052142 -113.908082   \n",
       "4   Bertha Trailhead  503127fce4b08362164cc687   49.04531 -113.916983   \n",
       "5        Zums Eatery  4c7d28479221236a4f4f7e3d  49.049293 -113.907389   \n",
       "\n",
       "0                                      ll  rating  \n",
       "1                    49.050064,-113.91653     NaN  \n",
       "2   49.051340829924605,-113.9160397415404     NaN  \n",
       "3   49.05214241377369,-113.90808152342375     NaN  \n",
       "4  49.045309697785044,-113.91698320006687     NaN  \n",
       "5   49.04929322706642,-113.90738904697935     NaN  "
      ]
     },
     "execution_count": 8,
     "metadata": {},
     "output_type": "execute_result"
    }
   ],
   "source": [
    "fsq_search_df = pd.DataFrame(fsq_business_details(foursq_json))\n",
    "fsq_search_df.columns = fsq_search_df.iloc[0]\n",
    "fsq_search_df = fsq_search_df[1:]\n",
    "# make a ll column which we can pull with the business id to run the for loop\n",
    "fsq_search_df['ll'] = fsq_search_df['latitude'].astype(str) + ',' + fsq_search_df['longitude'].astype(str)\n",
    "fsq_search_df['rating'] = np.nan # throwing in an empty rating column to sub in later\n",
    "fsq_search_df.head()"
   ]
  },
  {
   "cell_type": "code",
   "execution_count": 67,
   "id": "christian-journalism",
   "metadata": {},
   "outputs": [
    {
     "name": "stdout",
     "output_type": "stream",
     "text": [
      "Connection to SQLite DB successful\n"
     ]
    }
   ],
   "source": [
    "# create the foursq search business list database\n",
    "connection = create_connection(\"foursq_search.sqlite\")\n",
    "# push df to sqlite database, making a table called 'businesses' in the process\n",
    "# fsq_search_df.to_sql('businesses', connection) # comment out to avoid pushing again"
   ]
  },
  {
   "cell_type": "markdown",
   "id": "accepted-space",
   "metadata": {},
   "source": [
    "### venue/explore"
   ]
  },
  {
   "cell_type": "code",
   "execution_count": 73,
   "id": "forced-premium",
   "metadata": {},
   "outputs": [
    {
     "data": {
      "application/json": {
       "meta": {
        "code": 200,
        "requestId": "604a8d6087abb81d40d647f3"
       },
       "response": {
        "geocode": {
         "cc": "CA",
         "center": {
          "lat": 49.04995,
          "lng": -113.91864
         },
         "displayString": "Waterton Park, AB, Canada",
         "geometry": {
          "bounds": {
           "ne": {
            "lat": 49.132813,
            "lng": -113.840431
           },
           "sw": {
            "lat": 48.998802,
            "lng": -114.000748
           }
          }
         },
         "longId": "72057594044104823",
         "what": "",
         "where": "waterton park ab"
        },
        "groups": [
         {
          "items": [
           {
            "reasons": {
             "count": 0,
             "items": [
              {
               "reasonName": "globalInteractionReason",
               "summary": "This spot is popular",
               "type": "general"
              }
             ]
            },
            "referralId": "e-0-4c4600b3dd35be9a888edcd8-0",
            "venue": {
             "beenHere": {
              "count": 0,
              "lastCheckinExpiredAt": 0,
              "marked": false,
              "unconfirmedCount": 0
             },
             "categories": [
              {
               "icon": {
                "prefix": "https://ss3.4sqi.net/img/categories_v2/parks_outdoors/park_",
                "suffix": ".png"
               },
               "id": "4bf58dd8d48988d163941735",
               "name": "Park",
               "pluralName": "Parks",
               "primary": true,
               "shortName": "Park"
              }
             ],
             "contact": {},
             "hereNow": {
              "count": 0,
              "groups": [],
              "summary": "Nobody here"
             },
             "id": "4c4600b3dd35be9a888edcd8",
             "location": {
              "address": "AB-5",
              "cc": "CA",
              "city": "Waterton Park",
              "country": "Canada",
              "formattedAddress": [
               "AB-5",
               "Waterton Park AB T0K 2M0",
               "Canada"
              ],
              "labeledLatLngs": [
               {
                "label": "display",
                "lat": 49.052595120014175,
                "lng": -113.90730311169038
               }
              ],
              "lat": 49.052595120014175,
              "lng": -113.90730311169038,
              "postalCode": "T0K 2M0",
              "state": "AB"
             },
             "name": "Waterton Lakes National Park",
             "photos": {
              "count": 0,
              "groups": []
             },
             "stats": {
              "checkinsCount": 0,
              "tipCount": 0,
              "usersCount": 0,
              "visitsCount": 0
             },
             "verified": false
            }
           },
           {
            "reasons": {
             "count": 0,
             "items": [
              {
               "reasonName": "globalInteractionReason",
               "summary": "This spot is popular",
               "type": "general"
              }
             ]
            },
            "referralId": "e-0-4c929f27418ea1cd3e8ca685-1",
            "venue": {
             "beenHere": {
              "count": 0,
              "lastCheckinExpiredAt": 0,
              "marked": false,
              "unconfirmedCount": 0
             },
             "categories": [
              {
               "icon": {
                "prefix": "https://ss3.4sqi.net/img/categories_v2/food/fastfood_",
                "suffix": ".png"
               },
               "id": "4bf58dd8d48988d16e941735",
               "name": "Fast Food Restaurant",
               "pluralName": "Fast Food Restaurants",
               "primary": true,
               "shortName": "Fast Food"
              }
             ],
             "contact": {},
             "hereNow": {
              "count": 0,
              "groups": [],
              "summary": "Nobody here"
             },
             "id": "4c929f27418ea1cd3e8ca685",
             "location": {
              "address": "301 Wind Flower Ave",
              "cc": "CA",
              "city": "Improvement District No. 4",
              "country": "Canada",
              "formattedAddress": [
               "301 Wind Flower Ave",
               "Improvement District No. 4 AB T0K 2M0",
               "Canada"
              ],
              "labeledLatLngs": [
               {
                "label": "display",
                "lat": 49.05209231850583,
                "lng": -113.90791448646839
               }
              ],
              "lat": 49.05209231850583,
              "lng": -113.90791448646839,
              "postalCode": "T0K 2M0",
              "state": "AB"
             },
             "name": "Wieners Of Waterton",
             "photos": {
              "count": 0,
              "groups": []
             },
             "stats": {
              "checkinsCount": 0,
              "tipCount": 0,
              "usersCount": 0,
              "visitsCount": 0
             },
             "verified": true
            }
           },
           {
            "reasons": {
             "count": 0,
             "items": [
              {
               "reasonName": "globalInteractionReason",
               "summary": "This spot is popular",
               "type": "general"
              }
             ]
            },
            "referralId": "e-0-4c2ceb6c2219c92840e5a648-2",
            "venue": {
             "beenHere": {
              "count": 0,
              "lastCheckinExpiredAt": 0,
              "marked": false,
              "unconfirmedCount": 0
             },
             "categories": [
              {
               "icon": {
                "prefix": "https://ss3.4sqi.net/img/categories_v2/travel/hotel_",
                "suffix": ".png"
               },
               "id": "4bf58dd8d48988d1fa931735",
               "name": "Hotel",
               "pluralName": "Hotels",
               "primary": true,
               "shortName": "Hotel"
              }
             ],
             "contact": {},
             "hereNow": {
              "count": 0,
              "groups": [],
              "summary": "Nobody here"
             },
             "id": "4c2ceb6c2219c92840e5a648",
             "location": {
              "cc": "CA",
              "city": "Waterton Park",
              "country": "Canada",
              "formattedAddress": [
               "Waterton Park AB",
               "Canada"
              ],
              "labeledLatLngs": [
               {
                "label": "display",
                "lat": 49.058294929906424,
                "lng": -113.90391754319757
               }
              ],
              "lat": 49.058294929906424,
              "lng": -113.90391754319757,
              "state": "AB"
             },
             "name": "Prince Of Wales Hotel",
             "photos": {
              "count": 0,
              "groups": []
             },
             "stats": {
              "checkinsCount": 0,
              "tipCount": 0,
              "usersCount": 0,
              "visitsCount": 0
             },
             "verified": false
            }
           },
           {
            "reasons": {
             "count": 0,
             "items": [
              {
               "reasonName": "globalInteractionReason",
               "summary": "This spot is popular",
               "type": "general"
              }
             ]
            },
            "referralId": "e-0-4bc9fc90a276eee173386202-3",
            "venue": {
             "beenHere": {
              "count": 0,
              "lastCheckinExpiredAt": 0,
              "marked": false,
              "unconfirmedCount": 0
             },
             "categories": [
              {
               "icon": {
                "prefix": "https://ss3.4sqi.net/img/categories_v2/travel/hotel_",
                "suffix": ".png"
               },
               "id": "5bae9231bedf3950379f89cb",
               "name": "Inn",
               "pluralName": "Inns",
               "primary": true,
               "shortName": "Inn"
              }
             ],
             "contact": {},
             "hereNow": {
              "count": 0,
              "groups": [],
              "summary": "Nobody here"
             },
             "id": "4bc9fc90a276eee173386202",
             "location": {
              "address": "111 Waterton Ave",
              "cc": "CA",
              "city": "Waterton Park",
              "country": "Canada",
              "formattedAddress": [
               "111 Waterton Ave",
               "Waterton Park AB T0K 2M0",
               "Canada"
              ],
              "labeledLatLngs": [
               {
                "label": "display",
                "lat": 49.05241049451198,
                "lng": -113.90644507395069
               }
              ],
              "lat": 49.05241049451198,
              "lng": -113.90644507395069,
              "postalCode": "T0K 2M0",
              "state": "AB"
             },
             "name": "Bayshore Inn",
             "photos": {
              "count": 0,
              "groups": []
             },
             "stats": {
              "checkinsCount": 0,
              "tipCount": 0,
              "usersCount": 0,
              "visitsCount": 0
             },
             "verified": false
            }
           },
           {
            "reasons": {
             "count": 0,
             "items": [
              {
               "reasonName": "globalInteractionReason",
               "summary": "This spot is popular",
               "type": "general"
              }
             ]
            },
            "referralId": "e-0-4e092b05d4c03ae0b9d47bf2-4",
            "venue": {
             "beenHere": {
              "count": 0,
              "lastCheckinExpiredAt": 0,
              "marked": false,
              "unconfirmedCount": 0
             },
             "categories": [
              {
               "icon": {
                "prefix": "https://ss3.4sqi.net/img/categories_v2/food/default_",
                "suffix": ".png"
               },
               "id": "4bf58dd8d48988d1c4941735",
               "name": "Restaurant",
               "pluralName": "Restaurants",
               "primary": true,
               "shortName": "Restaurant"
              }
             ],
             "contact": {},
             "hereNow": {
              "count": 0,
              "groups": [],
              "summary": "Nobody here"
             },
             "id": "4e092b05d4c03ae0b9d47bf2",
             "location": {
              "cc": "CA",
              "city": "Waterton Park",
              "country": "Canada",
              "formattedAddress": [
               "Waterton Park AB",
               "Canada"
              ],
              "labeledLatLngs": [
               {
                "label": "display",
                "lat": 49.052099837192216,
                "lng": -113.90709653694292
               }
              ],
              "lat": 49.052099837192216,
              "lng": -113.90709653694292,
              "state": "AB"
             },
             "name": "Trappers Mountain Grill",
             "photos": {
              "count": 0,
              "groups": []
             },
             "stats": {
              "checkinsCount": 0,
              "tipCount": 0,
              "usersCount": 0,
              "visitsCount": 0
             },
             "verified": false
            }
           },
           {
            "reasons": {
             "count": 0,
             "items": [
              {
               "reasonName": "globalInteractionReason",
               "summary": "This spot is popular",
               "type": "general"
              }
             ]
            },
            "referralId": "e-0-4e5975dc18a8c204750cd4bf-5",
            "venue": {
             "beenHere": {
              "count": 0,
              "lastCheckinExpiredAt": 0,
              "marked": false,
              "unconfirmedCount": 0
             },
             "categories": [
              {
               "icon": {
                "prefix": "https://ss3.4sqi.net/img/categories_v2/parks_outdoors/sceniclookout_",
                "suffix": ".png"
               },
               "id": "4bf58dd8d48988d165941735",
               "name": "Scenic Lookout",
               "pluralName": "Scenic Lookouts",
               "primary": true,
               "shortName": "Scenic Lookout"
              }
             ],
             "contact": {},
             "hereNow": {
              "count": 0,
              "groups": [],
              "summary": "Nobody here"
             },
             "id": "4e5975dc18a8c204750cd4bf",
             "location": {
              "cc": "CA",
              "city": "Waterton Park",
              "country": "Canada",
              "formattedAddress": [
               "Waterton Park AB",
               "Canada"
              ],
              "labeledLatLngs": [
               {
                "label": "display",
                "lat": 49.051340829924605,
                "lng": -113.9160397415404
               }
              ],
              "lat": 49.051340829924605,
              "lng": -113.9160397415404,
              "state": "AB"
             },
             "name": "Cameron Falls",
             "photos": {
              "count": 0,
              "groups": []
             },
             "stats": {
              "checkinsCount": 0,
              "tipCount": 0,
              "usersCount": 0,
              "visitsCount": 0
             },
             "verified": false
            }
           },
           {
            "reasons": {
             "count": 0,
             "items": [
              {
               "reasonName": "globalInteractionReason",
               "summary": "This spot is popular",
               "type": "general"
              }
             ]
            },
            "referralId": "e-0-4e4444f8aeb7d02fd0e915b0-6",
            "venue": {
             "beenHere": {
              "count": 0,
              "lastCheckinExpiredAt": 0,
              "marked": false,
              "unconfirmedCount": 0
             },
             "categories": [
              {
               "icon": {
                "prefix": "https://ss3.4sqi.net/img/categories_v2/travel/hotel_",
                "suffix": ".png"
               },
               "id": "4bf58dd8d48988d1fa931735",
               "name": "Hotel",
               "pluralName": "Hotels",
               "primary": true,
               "shortName": "Hotel"
              }
             ],
             "contact": {},
             "hereNow": {
              "count": 0,
              "groups": [],
              "summary": "Nobody here"
             },
             "id": "4e4444f8aeb7d02fd0e915b0",
             "location": {
              "address": "P.O. Box 51 - 107 Windflower Ave",
              "cc": "CA",
              "city": "Waterton Park",
              "country": "Canada",
              "formattedAddress": [
               "P.O. Box 51 - 107 Windflower Ave",
               "Waterton Park AB T0K 2M0",
               "Canada"
              ],
              "labeledLatLngs": [
               {
                "label": "display",
                "lat": 49.05305654087697,
                "lng": -113.9099450531108
               }
              ],
              "lat": 49.05305654087697,
              "lng": -113.9099450531108,
              "postalCode": "T0K 2M0",
              "state": "AB"
             },
             "name": "Waterton Glacier Suites",
             "photos": {
              "count": 0,
              "groups": []
             },
             "stats": {
              "checkinsCount": 0,
              "tipCount": 0,
              "usersCount": 0,
              "visitsCount": 0
             },
             "verified": false
            }
           },
           {
            "reasons": {
             "count": 0,
             "items": [
              {
               "reasonName": "globalInteractionReason",
               "summary": "This spot is popular",
               "type": "general"
              }
             ]
            },
            "referralId": "e-0-520a8e1b498e62ca3523019b-7",
            "venue": {
             "beenHere": {
              "count": 0,
              "lastCheckinExpiredAt": 0,
              "marked": false,
              "unconfirmedCount": 0
             },
             "categories": [
              {
               "icon": {
                "prefix": "https://ss3.4sqi.net/img/categories_v2/parks_outdoors/hikingtrail_",
                "suffix": ".png"
               },
               "id": "4bf58dd8d48988d159941735",
               "name": "Trail",
               "pluralName": "Trails",
               "primary": true,
               "shortName": "Trail"
              }
             ],
             "contact": {},
             "hereNow": {
              "count": 0,
              "groups": [],
              "summary": "Nobody here"
             },
             "id": "520a8e1b498e62ca3523019b",
             "location": {
              "cc": "CA",
              "country": "Canada",
              "formattedAddress": [
               "Canada"
              ],
              "labeledLatLngs": [
               {
                "label": "display",
                "lat": 49.051323168841286,
                "lng": -113.88176344494849
               }
              ],
              "lat": 49.051323168841286,
              "lng": -113.88176344494849
             },
             "name": "Red Rock Canyon",
             "photos": {
              "count": 0,
              "groups": []
             },
             "stats": {
              "checkinsCount": 0,
              "tipCount": 0,
              "usersCount": 0,
              "visitsCount": 0
             },
             "verified": false
            }
           },
           {
            "reasons": {
             "count": 0,
             "items": [
              {
               "reasonName": "globalInteractionReason",
               "summary": "This spot is popular",
               "type": "general"
              }
             ]
            },
            "referralId": "e-0-4bc8eaf9762beee13eb23d38-8",
            "venue": {
             "beenHere": {
              "count": 0,
              "lastCheckinExpiredAt": 0,
              "marked": false,
              "unconfirmedCount": 0
             },
             "categories": [
              {
               "icon": {
                "prefix": "https://ss3.4sqi.net/img/categories_v2/travel/resort_",
                "suffix": ".png"
               },
               "id": "4bf58dd8d48988d12f951735",
               "name": "Resort",
               "pluralName": "Resorts",
               "primary": true,
               "shortName": "Resort"
              }
             ],
             "contact": {},
             "hereNow": {
              "count": 0,
              "groups": [],
              "summary": "Nobody here"
             },
             "id": "4bc8eaf9762beee13eb23d38",
             "location": {
              "address": "101 Clematis Ave.",
              "cc": "CA",
              "city": "Waterton Park",
              "country": "Canada",
              "formattedAddress": [
               "101 Clematis Ave.",
               "Waterton Park AB T0K 2M0",
               "Canada"
              ],
              "labeledLatLngs": [
               {
                "label": "display",
                "lat": 49.05161636,
                "lng": -113.90928
               }
              ],
              "lat": 49.05161636,
              "lng": -113.90928,
              "postalCode": "T0K 2M0",
              "state": "AB"
             },
             "name": "Waterton Lakes Lodge",
             "photos": {
              "count": 0,
              "groups": []
             },
             "stats": {
              "checkinsCount": 0,
              "tipCount": 0,
              "usersCount": 0,
              "visitsCount": 0
             },
             "venuePage": {
              "id": "33272560"
             },
             "verified": true
            }
           },
           {
            "reasons": {
             "count": 0,
             "items": [
              {
               "reasonName": "globalInteractionReason",
               "summary": "This spot is popular",
               "type": "general"
              }
             ]
            },
            "referralId": "e-0-4c07e7ea7e3fc928a174ef82-9",
            "venue": {
             "beenHere": {
              "count": 0,
              "lastCheckinExpiredAt": 0,
              "marked": false,
              "unconfirmedCount": 0
             },
             "categories": [
              {
               "icon": {
                "prefix": "https://ss3.4sqi.net/img/categories_v2/food/pizza_",
                "suffix": ".png"
               },
               "id": "4bf58dd8d48988d1ca941735",
               "name": "Pizza Place",
               "pluralName": "Pizza Places",
               "primary": true,
               "shortName": "Pizza"
              }
             ],
             "contact": {},
             "hereNow": {
              "count": 0,
              "groups": [],
              "summary": "Nobody here"
             },
             "id": "4c07e7ea7e3fc928a174ef82",
             "location": {
              "cc": "CA",
              "city": "Waterton Park",
              "country": "Canada",
              "formattedAddress": [
               "Waterton Park AB",
               "Canada"
              ],
              "labeledLatLngs": [
               {
                "label": "display",
                "lat": 49.051699593336814,
                "lng": -113.90852902804002
               }
              ],
              "lat": 49.051699593336814,
              "lng": -113.90852902804002,
              "state": "AB"
             },
             "name": "Pizza of Waterton",
             "photos": {
              "count": 0,
              "groups": []
             },
             "stats": {
              "checkinsCount": 0,
              "tipCount": 0,
              "usersCount": 0,
              "visitsCount": 0
             },
             "verified": false
            }
           },
           {
            "reasons": {
             "count": 0,
             "items": [
              {
               "reasonName": "globalInteractionReason",
               "summary": "This spot is popular",
               "type": "general"
              }
             ]
            },
            "referralId": "e-0-4c360fc23849c9282661bbb1-10",
            "venue": {
             "beenHere": {
              "count": 0,
              "lastCheckinExpiredAt": 0,
              "marked": false,
              "unconfirmedCount": 0
             },
             "categories": [
              {
               "icon": {
                "prefix": "https://ss3.4sqi.net/img/categories_v2/food/coffeeshop_",
                "suffix": ".png"
               },
               "id": "4bf58dd8d48988d1e0931735",
               "name": "Coffee Shop",
               "pluralName": "Coffee Shops",
               "primary": true,
               "shortName": "Coffee Shop"
              }
             ],
             "contact": {},
             "hereNow": {
              "count": 0,
              "groups": [],
              "summary": "Nobody here"
             },
             "id": "4c360fc23849c9282661bbb1",
             "location": {
              "address": "305 Windflower Ave",
              "cc": "CA",
              "city": "Waterton",
              "country": "Canada",
              "formattedAddress": [
               "305 Windflower Ave",
               "Waterton AB T0K 2M0",
               "Canada"
              ],
              "labeledLatLngs": [
               {
                "label": "display",
                "lat": 49.051602272337895,
                "lng": -113.90812754631042
               }
              ],
              "lat": 49.051602272337895,
              "lng": -113.90812754631042,
              "postalCode": "T0K 2M0",
              "state": "AB"
             },
             "name": "Pearl's Cafe",
             "photos": {
              "count": 0,
              "groups": []
             },
             "stats": {
              "checkinsCount": 0,
              "tipCount": 0,
              "usersCount": 0,
              "visitsCount": 0
             },
             "venuePage": {
              "id": "33272548"
             },
             "verified": true
            }
           },
           {
            "reasons": {
             "count": 0,
             "items": [
              {
               "reasonName": "globalInteractionReason",
               "summary": "This spot is popular",
               "type": "general"
              }
             ]
            },
            "referralId": "e-0-4e45c9d881dc766f3e3b71f1-11",
            "venue": {
             "beenHere": {
              "count": 0,
              "lastCheckinExpiredAt": 0,
              "marked": false,
              "unconfirmedCount": 0
             },
             "categories": [
              {
               "icon": {
                "prefix": "https://ss3.4sqi.net/img/categories_v2/travel/hotel_bar_",
                "suffix": ".png"
               },
               "id": "4bf58dd8d48988d1d5941735",
               "name": "Hotel Bar",
               "pluralName": "Hotel Bars",
               "primary": true,
               "shortName": "Hotel Bar"
              }
             ],
             "contact": {},
             "hereNow": {
              "count": 0,
              "groups": [],
              "summary": "Nobody here"
             },
             "id": "4e45c9d881dc766f3e3b71f1",
             "location": {
              "address": "111 Windflower Ave",
              "cc": "CA",
              "city": "Waterton",
              "country": "Canada",
              "formattedAddress": [
               "111 Windflower Ave",
               "Waterton AB T0K 2M0",
               "Canada"
              ],
              "labeledLatLngs": [
               {
                "label": "display",
                "lat": 49.05276244877268,
                "lng": -113.9092218875885
               }
              ],
              "lat": 49.05276244877268,
              "lng": -113.9092218875885,
              "postalCode": "T0K 2M0",
              "state": "AB"
             },
             "name": "Aspen Village Inn",
             "photos": {
              "count": 0,
              "groups": []
             },
             "stats": {
              "checkinsCount": 0,
              "tipCount": 0,
              "usersCount": 0,
              "visitsCount": 0
             },
             "venuePage": {
              "id": "33272532"
             },
             "verified": true
            }
           },
           {
            "reasons": {
             "count": 0,
             "items": [
              {
               "reasonName": "globalInteractionReason",
               "summary": "This spot is popular",
               "type": "general"
              }
             ]
            },
            "referralId": "e-0-4e3acf98a809ec5544401d51-12",
            "venue": {
             "beenHere": {
              "count": 0,
              "lastCheckinExpiredAt": 0,
              "marked": false,
              "unconfirmedCount": 0
             },
             "categories": [
              {
               "icon": {
                "prefix": "https://ss3.4sqi.net/img/categories_v2/parks_outdoors/park_",
                "suffix": ".png"
               },
               "id": "4bf58dd8d48988d163941735",
               "name": "Park",
               "pluralName": "Parks",
               "primary": true,
               "shortName": "Park"
              }
             ],
             "contact": {},
             "hereNow": {
              "count": 0,
              "groups": [],
              "summary": "Nobody here"
             },
             "id": "4e3acf98a809ec5544401d51",
             "location": {
              "cc": "CA",
              "city": "Waterton Park",
              "country": "Canada",
              "formattedAddress": [
               "Waterton Park AB",
               "Canada"
              ],
              "labeledLatLngs": [
               {
                "label": "display",
                "lat": 49.109612437464854,
                "lng": -113.84886220483217
               }
              ],
              "lat": 49.109612437464854,
              "lng": -113.84886220483217,
              "state": "AB"
             },
             "name": "Waterton Lakes National Park Entrance Gate",
             "photos": {
              "count": 0,
              "groups": []
             },
             "stats": {
              "checkinsCount": 0,
              "tipCount": 0,
              "usersCount": 0,
              "visitsCount": 0
             },
             "verified": false
            }
           },
           {
            "reasons": {
             "count": 0,
             "items": [
              {
               "reasonName": "globalInteractionReason",
               "summary": "This spot is popular",
               "type": "general"
              }
             ]
            },
            "referralId": "e-0-4e45c88a81dc766f3e3b714a-13",
            "venue": {
             "beenHere": {
              "count": 0,
              "lastCheckinExpiredAt": 0,
              "marked": false,
              "unconfirmedCount": 0
             },
             "categories": [
              {
               "icon": {
                "prefix": "https://ss3.4sqi.net/img/categories_v2/travel/hotel_",
                "suffix": ".png"
               },
               "id": "4bf58dd8d48988d1fa931735",
               "name": "Hotel",
               "pluralName": "Hotels",
               "primary": true,
               "shortName": "Hotel"
              }
             ],
             "contact": {},
             "hereNow": {
              "count": 0,
              "groups": [],
              "summary": "Nobody here"
             },
             "id": "4e45c88a81dc766f3e3b714a",
             "location": {
              "address": "102 Mountview Road",
              "cc": "CA",
              "city": "Waterton",
              "country": "Canada",
              "formattedAddress": [
               "102 Mountview Road",
               "Waterton AB T0K 2M0",
               "Canada"
              ],
              "labeledLatLngs": [
               {
                "label": "display",
                "lat": 49.05533583441074,
                "lng": -113.91142129898071
               }
              ],
              "lat": 49.05533583441074,
              "lng": -113.91142129898071,
              "postalCode": "T0K 2M0",
              "state": "AB"
             },
             "name": "Crandell Mountain Lodge",
             "photos": {
              "count": 0,
              "groups": []
             },
             "stats": {
              "checkinsCount": 0,
              "tipCount": 0,
              "usersCount": 0,
              "visitsCount": 0
             },
             "venuePage": {
              "id": "33272535"
             },
             "verified": true
            }
           },
           {
            "reasons": {
             "count": 0,
             "items": [
              {
               "reasonName": "globalInteractionReason",
               "summary": "This spot is popular",
               "type": "general"
              }
             ]
            },
            "referralId": "e-0-4e3312d9b61cd25ad4a4d506-14",
            "venue": {
             "beenHere": {
              "count": 0,
              "lastCheckinExpiredAt": 0,
              "marked": false,
              "unconfirmedCount": 0
             },
             "categories": [
              {
               "icon": {
                "prefix": "https://ss3.4sqi.net/img/categories_v2/parks_outdoors/harbor_",
                "suffix": ".png"
               },
               "id": "4bf58dd8d48988d1e0941735",
               "name": "Harbor / Marina",
               "pluralName": "Harbors / Marinas",
               "primary": true,
               "shortName": "Harbor / Marina"
              }
             ],
             "contact": {},
             "hereNow": {
              "count": 0,
              "groups": [],
              "summary": "Nobody here"
             },
             "id": "4e3312d9b61cd25ad4a4d506",
             "location": {
              "cc": "CA",
              "city": "Waterton Park",
              "country": "Canada",
              "formattedAddress": [
               "Waterton Park AB",
               "Canada"
              ],
              "labeledLatLngs": [
               {
                "label": "display",
                "lat": 49.053833,
                "lng": -113.907308
               }
              ],
              "lat": 49.053833,
              "lng": -113.907308,
              "state": "AB"
             },
             "name": "Waterton Shoreline Cruise Company",
             "photos": {
              "count": 0,
              "groups": []
             },
             "stats": {
              "checkinsCount": 0,
              "tipCount": 0,
              "usersCount": 0,
              "visitsCount": 0
             },
             "verified": false
            }
           },
           {
            "flags": {
             "outsideRadius": true
            },
            "reasons": {
             "count": 0,
             "items": [
              {
               "reasonName": "globalInteractionReason",
               "summary": "This spot is popular",
               "type": "general"
              }
             ]
            },
            "referralId": "e-0-4e274d85b0fba988bb60934d-15",
            "venue": {
             "beenHere": {
              "count": 0,
              "lastCheckinExpiredAt": 0,
              "marked": false,
              "unconfirmedCount": 0
             },
             "categories": [
              {
               "icon": {
                "prefix": "https://ss3.4sqi.net/img/categories_v2/parks_outdoors/hikingtrail_",
                "suffix": ".png"
               },
               "id": "4bf58dd8d48988d159941735",
               "name": "Trail",
               "pluralName": "Trails",
               "primary": true,
               "shortName": "Trail"
              }
             ],
             "contact": {},
             "hereNow": {
              "count": 0,
              "groups": [],
              "summary": "Nobody here"
             },
             "id": "4e274d85b0fba988bb60934d",
             "location": {
              "cc": "CA",
              "city": "Waterton Park",
              "country": "Canada",
              "formattedAddress": [
               "Waterton Park AB",
               "Canada"
              ],
              "labeledLatLngs": [
               {
                "label": "display",
                "lat": 49.126438362357696,
                "lng": -113.8618085666935
               }
              ],
              "lat": 49.126438362357696,
              "lng": -113.8618085666935,
              "state": "AB"
             },
             "name": "Bison Paddock",
             "photos": {
              "count": 0,
              "groups": []
             },
             "stats": {
              "checkinsCount": 0,
              "tipCount": 0,
              "usersCount": 0,
              "visitsCount": 0
             },
             "verified": false
            }
           },
           {
            "reasons": {
             "count": 0,
             "items": [
              {
               "reasonName": "globalInteractionReason",
               "summary": "This spot is popular",
               "type": "general"
              }
             ]
            },
            "referralId": "e-0-57a53e06498e5d0ba06b76fe-16",
            "venue": {
             "beenHere": {
              "count": 0,
              "lastCheckinExpiredAt": 0,
              "marked": false,
              "unconfirmedCount": 0
             },
             "categories": [
              {
               "icon": {
                "prefix": "https://ss3.4sqi.net/img/categories_v2/food/steakhouse_",
                "suffix": ".png"
               },
               "id": "4bf58dd8d48988d1cc941735",
               "name": "Steakhouse",
               "pluralName": "Steakhouses",
               "primary": true,
               "shortName": "Steakhouse"
              }
             ],
             "contact": {},
             "hereNow": {
              "count": 0,
              "groups": [],
              "summary": "Nobody here"
             },
             "id": "57a53e06498e5d0ba06b76fe",
             "location": {
              "cc": "CA",
              "country": "Canada",
              "formattedAddress": [
               "Canada"
              ],
              "labeledLatLngs": [
               {
                "label": "display",
                "lat": 49.051944,
                "lng": -113.906532
               }
              ],
              "lat": 49.051944,
              "lng": -113.906532
             },
             "name": "Fireside Chophouse",
             "photos": {
              "count": 0,
              "groups": []
             },
             "stats": {
              "checkinsCount": 0,
              "tipCount": 0,
              "usersCount": 0,
              "visitsCount": 0
             },
             "verified": false
            }
           },
           {
            "reasons": {
             "count": 0,
             "items": [
              {
               "reasonName": "globalInteractionReason",
               "summary": "This spot is popular",
               "type": "general"
              }
             ]
            },
            "referralId": "e-0-4e5982d2fa76d2b00c0f5257-17",
            "venue": {
             "beenHere": {
              "count": 0,
              "lastCheckinExpiredAt": 0,
              "marked": false,
              "unconfirmedCount": 0
             },
             "categories": [
              {
               "icon": {
                "prefix": "https://ss3.4sqi.net/img/categories_v2/parks_outdoors/sceniclookout_",
                "suffix": ".png"
               },
               "id": "4bf58dd8d48988d165941735",
               "name": "Scenic Lookout",
               "pluralName": "Scenic Lookouts",
               "primary": true,
               "shortName": "Scenic Lookout"
              }
             ],
             "contact": {},
             "hereNow": {
              "count": 0,
              "groups": [],
              "summary": "Nobody here"
             },
             "id": "4e5982d2fa76d2b00c0f5257",
             "location": {
              "cc": "CA",
              "city": "Waterton Park",
              "country": "Canada",
              "formattedAddress": [
               "Waterton Park AB",
               "Canada"
              ],
              "labeledLatLngs": [
               {
                "label": "display",
                "lat": 49.053233849038584,
                "lng": -113.9093789739894
               }
              ],
              "lat": 49.053233849038584,
              "lng": -113.9093789739894,
              "state": "AB"
             },
             "name": "Prince of Wales Hotel Scenic View",
             "photos": {
              "count": 0,
              "groups": []
             },
             "stats": {
              "checkinsCount": 0,
              "tipCount": 0,
              "usersCount": 0,
              "visitsCount": 0
             },
             "verified": false
            }
           },
           {
            "reasons": {
             "count": 0,
             "items": [
              {
               "reasonName": "globalInteractionReason",
               "summary": "This spot is popular",
               "type": "general"
              }
             ]
            },
            "referralId": "e-0-4e87b20dbe7bcd2a2aaf356f-18",
            "venue": {
             "beenHere": {
              "count": 0,
              "lastCheckinExpiredAt": 0,
              "marked": false,
              "unconfirmedCount": 0
             },
             "categories": [
              {
               "icon": {
                "prefix": "https://ss3.4sqi.net/img/categories_v2/food/diner_",
                "suffix": ".png"
               },
               "id": "4bf58dd8d48988d147941735",
               "name": "Diner",
               "pluralName": "Diners",
               "primary": true,
               "shortName": "Diner"
              }
             ],
             "contact": {},
             "hereNow": {
              "count": 0,
              "groups": [],
              "summary": "Nobody here"
             },
             "id": "4e87b20dbe7bcd2a2aaf356f",
             "location": {
              "cc": "CA",
              "city": "Waterton Park",
              "country": "Canada",
              "formattedAddress": [
               "Waterton Park AB",
               "Canada"
              ],
              "labeledLatLngs": [
               {
                "label": "display",
                "lat": 49.051311,
                "lng": -113.907239
               }
              ],
              "lat": 49.051311,
              "lng": -113.907239,
              "state": "AB"
             },
             "name": "Zum's Eatery",
             "photos": {
              "count": 0,
              "groups": []
             },
             "stats": {
              "checkinsCount": 0,
              "tipCount": 0,
              "usersCount": 0,
              "visitsCount": 0
             },
             "verified": false
            }
           },
           {
            "reasons": {
             "count": 0,
             "items": [
              {
               "reasonName": "globalInteractionReason",
               "summary": "This spot is popular",
               "type": "general"
              }
             ]
            },
            "referralId": "e-0-4c0836c2d1329c744ee1fc07-19",
            "venue": {
             "beenHere": {
              "count": 0,
              "lastCheckinExpiredAt": 0,
              "marked": false,
              "unconfirmedCount": 0
             },
             "categories": [
              {
               "icon": {
                "prefix": "https://ss3.4sqi.net/img/categories_v2/nightlife/pub_",
                "suffix": ".png"
               },
               "id": "4bf58dd8d48988d116941735",
               "name": "Bar",
               "pluralName": "Bars",
               "primary": true,
               "shortName": "Bar"
              }
             ],
             "contact": {},
             "hereNow": {
              "count": 0,
              "groups": [],
              "summary": "Nobody here"
             },
             "id": "4c0836c2d1329c744ee1fc07",
             "location": {
              "address": "Bayshore Inn",
              "cc": "CA",
              "city": "Waterton Lakes National Park",
              "country": "Canada",
              "formattedAddress": [
               "Bayshore Inn",
               "Waterton Lakes National Park AB T0K 2M0",
               "Canada"
              ],
              "labeledLatLngs": [
               {
                "label": "display",
                "lat": 49.05153583384309,
                "lng": -113.90654998565267
               }
              ],
              "lat": 49.05153583384309,
              "lng": -113.90654998565267,
              "postalCode": "T0K 2M0",
              "state": "AB"
             },
             "name": "Thirsty Bear Saloon",
             "photos": {
              "count": 0,
              "groups": []
             },
             "stats": {
              "checkinsCount": 0,
              "tipCount": 0,
              "usersCount": 0,
              "visitsCount": 0
             },
             "verified": false
            }
           }
          ],
          "name": "recommended",
          "type": "Recommended Places"
         }
        ],
        "headerFullLocation": "Waterton Park",
        "headerLocation": "Waterton Park",
        "headerLocationGranularity": "city",
        "suggestedBounds": {
         "ne": {
          "lat": 49.13019473047559,
          "lng": -113.84550332799675
         },
         "sw": {
          "lat": 49.047554631882115,
          "lng": -113.91939861837581
         }
        },
        "suggestedFilters": {
         "filters": [
          {
           "key": "openNow",
           "name": "Open now"
          }
         ],
         "header": "Tap to show:"
        },
        "totalResults": 20
       }
      },
      "text/plain": [
       "<IPython.core.display.JSON object>"
      ]
     },
     "execution_count": 73,
     "metadata": {
      "application/json": {
       "expanded": false,
       "root": "root"
      }
     },
     "output_type": "execute_result"
    }
   ],
   "source": [
    "# comparing this explore endpoint against search to see if results differ\n",
    "url = 'https://api.foursquare.com/v2/venues/explore'\n",
    "params = dict(\n",
    "client_id = foursquare_id,\n",
    "client_secret = foursquare_key,\n",
    "v='20180323',\n",
    "near='Waterton Park, AB',\n",
    "limit=50\n",
    ")\n",
    "# commented out to avoid running multiple requests\n",
    "# res = re.get(url=url, params=params)\n",
    "foursq2_json = res.json()\n",
    "JSON(foursq2_json)"
   ]
  },
  {
   "cell_type": "code",
   "execution_count": 77,
   "id": "copyrighted-vietnamese",
   "metadata": {},
   "outputs": [],
   "source": [
    "# grab the information I want into a list of lists, with first index to be column headers later\n",
    "def fsq_explore_business(data):\n",
    "    foursq_explore = [['name','business_id','latitude','longitude']]\n",
    "    for i in data['response']['groups'][0]['items']:\n",
    "        foursq_explore.append([\n",
    "            i['venue']['name'],\n",
    "            i['venue']['id'],\n",
    "            i['venue']['location']['lat'],\n",
    "            i['venue']['location']['lng']\n",
    "        ])\n",
    "    return foursq_explore"
   ]
  },
  {
   "cell_type": "code",
   "execution_count": 122,
   "id": "transsexual-birmingham",
   "metadata": {},
   "outputs": [
    {
     "data": {
      "text/html": [
       "<div>\n",
       "<style scoped>\n",
       "    .dataframe tbody tr th:only-of-type {\n",
       "        vertical-align: middle;\n",
       "    }\n",
       "\n",
       "    .dataframe tbody tr th {\n",
       "        vertical-align: top;\n",
       "    }\n",
       "\n",
       "    .dataframe thead th {\n",
       "        text-align: right;\n",
       "    }\n",
       "</style>\n",
       "<table border=\"1\" class=\"dataframe\">\n",
       "  <thead>\n",
       "    <tr style=\"text-align: right;\">\n",
       "      <th></th>\n",
       "      <th>name</th>\n",
       "      <th>business_id</th>\n",
       "      <th>latitude</th>\n",
       "      <th>longitude</th>\n",
       "      <th>ll</th>\n",
       "      <th>rating</th>\n",
       "    </tr>\n",
       "  </thead>\n",
       "  <tbody>\n",
       "    <tr>\n",
       "      <th>1</th>\n",
       "      <td>Waterton Lakes National Park</td>\n",
       "      <td>4c4600b3dd35be9a888edcd8</td>\n",
       "      <td>49.052595</td>\n",
       "      <td>-113.907303</td>\n",
       "      <td>49.052595120014175,-113.90730311169038</td>\n",
       "      <td>NaN</td>\n",
       "    </tr>\n",
       "    <tr>\n",
       "      <th>2</th>\n",
       "      <td>Wieners Of Waterton</td>\n",
       "      <td>4c929f27418ea1cd3e8ca685</td>\n",
       "      <td>49.052092</td>\n",
       "      <td>-113.907914</td>\n",
       "      <td>49.05209231850583,-113.90791448646839</td>\n",
       "      <td>NaN</td>\n",
       "    </tr>\n",
       "    <tr>\n",
       "      <th>3</th>\n",
       "      <td>Prince Of Wales Hotel</td>\n",
       "      <td>4c2ceb6c2219c92840e5a648</td>\n",
       "      <td>49.058295</td>\n",
       "      <td>-113.903918</td>\n",
       "      <td>49.058294929906424,-113.90391754319757</td>\n",
       "      <td>NaN</td>\n",
       "    </tr>\n",
       "    <tr>\n",
       "      <th>4</th>\n",
       "      <td>Bayshore Inn</td>\n",
       "      <td>4bc9fc90a276eee173386202</td>\n",
       "      <td>49.05241</td>\n",
       "      <td>-113.906445</td>\n",
       "      <td>49.05241049451198,-113.90644507395069</td>\n",
       "      <td>NaN</td>\n",
       "    </tr>\n",
       "    <tr>\n",
       "      <th>5</th>\n",
       "      <td>Trappers Mountain Grill</td>\n",
       "      <td>4e092b05d4c03ae0b9d47bf2</td>\n",
       "      <td>49.0521</td>\n",
       "      <td>-113.907097</td>\n",
       "      <td>49.052099837192216,-113.90709653694292</td>\n",
       "      <td>NaN</td>\n",
       "    </tr>\n",
       "  </tbody>\n",
       "</table>\n",
       "</div>"
      ],
      "text/plain": [
       "0                          name               business_id   latitude  \\\n",
       "1  Waterton Lakes National Park  4c4600b3dd35be9a888edcd8  49.052595   \n",
       "2           Wieners Of Waterton  4c929f27418ea1cd3e8ca685  49.052092   \n",
       "3         Prince Of Wales Hotel  4c2ceb6c2219c92840e5a648  49.058295   \n",
       "4                  Bayshore Inn  4bc9fc90a276eee173386202   49.05241   \n",
       "5       Trappers Mountain Grill  4e092b05d4c03ae0b9d47bf2    49.0521   \n",
       "\n",
       "0   longitude                                      ll  rating  \n",
       "1 -113.907303  49.052595120014175,-113.90730311169038     NaN  \n",
       "2 -113.907914   49.05209231850583,-113.90791448646839     NaN  \n",
       "3 -113.903918  49.058294929906424,-113.90391754319757     NaN  \n",
       "4 -113.906445   49.05241049451198,-113.90644507395069     NaN  \n",
       "5 -113.907097  49.052099837192216,-113.90709653694292     NaN  "
      ]
     },
     "execution_count": 122,
     "metadata": {},
     "output_type": "execute_result"
    }
   ],
   "source": [
    "fsq_explore_df = pd.DataFrame(fsq_explore_business(foursq2_json)) # get that dataframe\n",
    "fsq_explore_df.columns = fsq_explore_df.iloc[0] # make those headers\n",
    "fsq_explore_df = fsq_explore_df[1:] # don't repeat those headers\n",
    "# make a ll column which we can pull with the business id to run the for loop\n",
    "fsq_explore_df['ll'] = fsq_explore_df['latitude'].astype(str) + ',' + fsq_explore_df['longitude'].astype(str)\n",
    "fsq_explore_df['rating'] = np.nan # throwing in an empty rating column to sub in later\n",
    "\n",
    "fsq_explore_df.head()"
   ]
  },
  {
   "cell_type": "code",
   "execution_count": 79,
   "id": "private-arcade",
   "metadata": {},
   "outputs": [
    {
     "name": "stdout",
     "output_type": "stream",
     "text": [
      "Connection to SQLite DB successful\n"
     ]
    }
   ],
   "source": [
    "# create the foursq search business list database\n",
    "connection = create_connection(\"foursq_explore.sqlite\")\n",
    "# push df to sqlite database, making a table called 'businesses' in the process\n",
    "fsq_explore_df.to_sql('businesses', connection) # comment out to avoid pushing again"
   ]
  },
  {
   "cell_type": "markdown",
   "id": "conscious-meeting",
   "metadata": {},
   "source": [
    "### Venue ID ratings"
   ]
  },
  {
   "cell_type": "code",
   "execution_count": 131,
   "id": "above-lobby",
   "metadata": {},
   "outputs": [
    {
     "data": {
      "application/json": {
       "meta": {
        "code": 429,
        "errorDetail": "Quota exceeded",
        "errorType": "quota_exceeded",
        "requestId": "604ab05869f3fa7a57b9f281"
       },
       "response": {}
      },
      "text/plain": [
       "<IPython.core.display.JSON object>"
      ]
     },
     "execution_count": 131,
     "metadata": {
      "application/json": {
       "expanded": false,
       "root": "root"
      }
     },
     "output_type": "execute_result"
    }
   ],
   "source": [
    "# TEST on one business first to understand the response\n",
    "#url = 'https://api.foursquare.com/v2/venues/4e87b20dbe7bcd2a2aaf356f\t' # pearl's cafe\n",
    "params = dict(\n",
    "client_id = foursquare_id,\n",
    "client_secret = foursquare_key,\n",
    "v='20180323',\n",
    ")\n",
    "# commented out to avoid running multiple requests\n",
    "# res = re.get(url=url, params=params)\n",
    "fsqglacier_json = res.json()\n",
    "JSON(fsqglacier_json)"
   ]
  },
  {
   "cell_type": "code",
   "execution_count": 124,
   "id": "assisted-fiction",
   "metadata": {},
   "outputs": [],
   "source": [
    "# running the for loop for all businesses found via venue EXPLORE\n",
    "# don't touch this -- already run and ranked\n",
    "#for i in range(1,len(fsq_explore_df)):\n",
    "    venue_id = fsq_explore_df.loc[i,'business_id']\n",
    "    \n",
    "    url = f'https://api.foursquare.com/v2/venues/{venue_id}'\n",
    "    params = dict(\n",
    "    client_id = foursquare_id,\n",
    "    client_secret = foursquare_key,\n",
    "    v='20180323',\n",
    "    )\n",
    "    \n",
    "    # commented out to avoid running multiple requests\n",
    "    #res = re.get(url=url, params=params)\n",
    "    if res.status_code == 200: # this helps us stop naturally is quota met or connection fails \n",
    "        fsqE_json = res.json()\n",
    "        try:\n",
    "            fsq_explore_df.loc[i,'rating'] = fsqE_json['response']['venue']['rating']\n",
    "        except:\n",
    "            pass # not all venues have a rating so we don't want to error out part way\n"
   ]
  },
  {
   "cell_type": "code",
   "execution_count": 9,
   "id": "upper-insertion",
   "metadata": {},
   "outputs": [],
   "source": [
    "# running the for loop for all businesses found via venue SEARCH\n",
    "#for i in range(1,len(fsq_search_df)):\n",
    "    venue_id = fsq_search_df.loc[i,'business_id']\n",
    "    \n",
    "    url = f'https://api.foursquare.com/v2/venues/{venue_id}'\n",
    "    params = dict(\n",
    "    client_id = foursquare_id,\n",
    "    client_secret = foursquare_key,\n",
    "    v='20180323',\n",
    "    )\n",
    "    \n",
    "    # commented out to avoid running multiple requests\n",
    "    #res = re.get(url=url, params=params)\n",
    "    if res.status_code == 200: # this helps us stop naturally is quota met or connection fails \n",
    "        fsqS_json = res.json()\n",
    "        try:\n",
    "            fsq_search_df.loc[i,'rating'] = fsqS_json['response']['venue']['rating']\n",
    "        except:\n",
    "            pass # not all venues have a rating so we don't want to error out part way\n"
   ]
  },
  {
   "cell_type": "code",
   "execution_count": 125,
   "id": "satisfactory-frontier",
   "metadata": {},
   "outputs": [
    {
     "data": {
      "text/html": [
       "<div>\n",
       "<style scoped>\n",
       "    .dataframe tbody tr th:only-of-type {\n",
       "        vertical-align: middle;\n",
       "    }\n",
       "\n",
       "    .dataframe tbody tr th {\n",
       "        vertical-align: top;\n",
       "    }\n",
       "\n",
       "    .dataframe thead th {\n",
       "        text-align: right;\n",
       "    }\n",
       "</style>\n",
       "<table border=\"1\" class=\"dataframe\">\n",
       "  <thead>\n",
       "    <tr style=\"text-align: right;\">\n",
       "      <th></th>\n",
       "      <th>name</th>\n",
       "      <th>business_id</th>\n",
       "      <th>latitude</th>\n",
       "      <th>longitude</th>\n",
       "      <th>ll</th>\n",
       "      <th>rating</th>\n",
       "    </tr>\n",
       "  </thead>\n",
       "  <tbody>\n",
       "    <tr>\n",
       "      <th>1</th>\n",
       "      <td>Waterton Lakes National Park</td>\n",
       "      <td>4c4600b3dd35be9a888edcd8</td>\n",
       "      <td>49.052595</td>\n",
       "      <td>-113.907303</td>\n",
       "      <td>49.052595120014175,-113.90730311169038</td>\n",
       "      <td>8.5</td>\n",
       "    </tr>\n",
       "    <tr>\n",
       "      <th>2</th>\n",
       "      <td>Wieners Of Waterton</td>\n",
       "      <td>4c929f27418ea1cd3e8ca685</td>\n",
       "      <td>49.052092</td>\n",
       "      <td>-113.907914</td>\n",
       "      <td>49.05209231850583,-113.90791448646839</td>\n",
       "      <td>7.6</td>\n",
       "    </tr>\n",
       "    <tr>\n",
       "      <th>3</th>\n",
       "      <td>Prince Of Wales Hotel</td>\n",
       "      <td>4c2ceb6c2219c92840e5a648</td>\n",
       "      <td>49.058295</td>\n",
       "      <td>-113.903918</td>\n",
       "      <td>49.058294929906424,-113.90391754319757</td>\n",
       "      <td>7.6</td>\n",
       "    </tr>\n",
       "    <tr>\n",
       "      <th>4</th>\n",
       "      <td>Bayshore Inn</td>\n",
       "      <td>4bc9fc90a276eee173386202</td>\n",
       "      <td>49.05241</td>\n",
       "      <td>-113.906445</td>\n",
       "      <td>49.05241049451198,-113.90644507395069</td>\n",
       "      <td>7.3</td>\n",
       "    </tr>\n",
       "    <tr>\n",
       "      <th>5</th>\n",
       "      <td>Trappers Mountain Grill</td>\n",
       "      <td>4e092b05d4c03ae0b9d47bf2</td>\n",
       "      <td>49.0521</td>\n",
       "      <td>-113.907097</td>\n",
       "      <td>49.052099837192216,-113.90709653694292</td>\n",
       "      <td>7.2</td>\n",
       "    </tr>\n",
       "    <tr>\n",
       "      <th>6</th>\n",
       "      <td>Cameron Falls</td>\n",
       "      <td>4e5975dc18a8c204750cd4bf</td>\n",
       "      <td>49.051341</td>\n",
       "      <td>-113.91604</td>\n",
       "      <td>49.051340829924605,-113.9160397415404</td>\n",
       "      <td>6.9</td>\n",
       "    </tr>\n",
       "    <tr>\n",
       "      <th>7</th>\n",
       "      <td>Waterton Glacier Suites</td>\n",
       "      <td>4e4444f8aeb7d02fd0e915b0</td>\n",
       "      <td>49.053057</td>\n",
       "      <td>-113.909945</td>\n",
       "      <td>49.05305654087697,-113.9099450531108</td>\n",
       "      <td>NaN</td>\n",
       "    </tr>\n",
       "    <tr>\n",
       "      <th>8</th>\n",
       "      <td>Red Rock Canyon</td>\n",
       "      <td>520a8e1b498e62ca3523019b</td>\n",
       "      <td>49.051323</td>\n",
       "      <td>-113.881763</td>\n",
       "      <td>49.051323168841286,-113.88176344494849</td>\n",
       "      <td>NaN</td>\n",
       "    </tr>\n",
       "    <tr>\n",
       "      <th>9</th>\n",
       "      <td>Waterton Lakes Lodge</td>\n",
       "      <td>4bc8eaf9762beee13eb23d38</td>\n",
       "      <td>49.051616</td>\n",
       "      <td>-113.90928</td>\n",
       "      <td>49.05161636,-113.90928</td>\n",
       "      <td>NaN</td>\n",
       "    </tr>\n",
       "    <tr>\n",
       "      <th>10</th>\n",
       "      <td>Pizza of Waterton</td>\n",
       "      <td>4c07e7ea7e3fc928a174ef82</td>\n",
       "      <td>49.0517</td>\n",
       "      <td>-113.908529</td>\n",
       "      <td>49.051699593336814,-113.90852902804002</td>\n",
       "      <td>NaN</td>\n",
       "    </tr>\n",
       "    <tr>\n",
       "      <th>11</th>\n",
       "      <td>Pearl's Cafe</td>\n",
       "      <td>4c360fc23849c9282661bbb1</td>\n",
       "      <td>49.051602</td>\n",
       "      <td>-113.908128</td>\n",
       "      <td>49.051602272337895,-113.90812754631042</td>\n",
       "      <td>NaN</td>\n",
       "    </tr>\n",
       "    <tr>\n",
       "      <th>12</th>\n",
       "      <td>Aspen Village Inn</td>\n",
       "      <td>4e45c9d881dc766f3e3b71f1</td>\n",
       "      <td>49.052762</td>\n",
       "      <td>-113.909222</td>\n",
       "      <td>49.05276244877268,-113.9092218875885</td>\n",
       "      <td>NaN</td>\n",
       "    </tr>\n",
       "    <tr>\n",
       "      <th>13</th>\n",
       "      <td>Waterton Lakes National Park Entrance Gate</td>\n",
       "      <td>4e3acf98a809ec5544401d51</td>\n",
       "      <td>49.109612</td>\n",
       "      <td>-113.848862</td>\n",
       "      <td>49.109612437464854,-113.84886220483217</td>\n",
       "      <td>NaN</td>\n",
       "    </tr>\n",
       "    <tr>\n",
       "      <th>14</th>\n",
       "      <td>Crandell Mountain Lodge</td>\n",
       "      <td>4e45c88a81dc766f3e3b714a</td>\n",
       "      <td>49.055336</td>\n",
       "      <td>-113.911421</td>\n",
       "      <td>49.05533583441074,-113.91142129898071</td>\n",
       "      <td>NaN</td>\n",
       "    </tr>\n",
       "    <tr>\n",
       "      <th>15</th>\n",
       "      <td>Waterton Shoreline Cruise Company</td>\n",
       "      <td>4e3312d9b61cd25ad4a4d506</td>\n",
       "      <td>49.053833</td>\n",
       "      <td>-113.907308</td>\n",
       "      <td>49.053833,-113.907308</td>\n",
       "      <td>NaN</td>\n",
       "    </tr>\n",
       "    <tr>\n",
       "      <th>16</th>\n",
       "      <td>Bison Paddock</td>\n",
       "      <td>4e274d85b0fba988bb60934d</td>\n",
       "      <td>49.126438</td>\n",
       "      <td>-113.861809</td>\n",
       "      <td>49.126438362357696,-113.8618085666935</td>\n",
       "      <td>NaN</td>\n",
       "    </tr>\n",
       "    <tr>\n",
       "      <th>17</th>\n",
       "      <td>Fireside Chophouse</td>\n",
       "      <td>57a53e06498e5d0ba06b76fe</td>\n",
       "      <td>49.051944</td>\n",
       "      <td>-113.906532</td>\n",
       "      <td>49.051944,-113.906532</td>\n",
       "      <td>NaN</td>\n",
       "    </tr>\n",
       "    <tr>\n",
       "      <th>18</th>\n",
       "      <td>Prince of Wales Hotel Scenic View</td>\n",
       "      <td>4e5982d2fa76d2b00c0f5257</td>\n",
       "      <td>49.053234</td>\n",
       "      <td>-113.909379</td>\n",
       "      <td>49.053233849038584,-113.9093789739894</td>\n",
       "      <td>NaN</td>\n",
       "    </tr>\n",
       "    <tr>\n",
       "      <th>19</th>\n",
       "      <td>Zum's Eatery</td>\n",
       "      <td>4e87b20dbe7bcd2a2aaf356f</td>\n",
       "      <td>49.051311</td>\n",
       "      <td>-113.907239</td>\n",
       "      <td>49.051311,-113.907239</td>\n",
       "      <td>NaN</td>\n",
       "    </tr>\n",
       "    <tr>\n",
       "      <th>20</th>\n",
       "      <td>Thirsty Bear Saloon</td>\n",
       "      <td>4c0836c2d1329c744ee1fc07</td>\n",
       "      <td>49.051536</td>\n",
       "      <td>-113.90655</td>\n",
       "      <td>49.05153583384309,-113.90654998565267</td>\n",
       "      <td>NaN</td>\n",
       "    </tr>\n",
       "  </tbody>\n",
       "</table>\n",
       "</div>"
      ],
      "text/plain": [
       "0                                         name               business_id  \\\n",
       "1                 Waterton Lakes National Park  4c4600b3dd35be9a888edcd8   \n",
       "2                          Wieners Of Waterton  4c929f27418ea1cd3e8ca685   \n",
       "3                        Prince Of Wales Hotel  4c2ceb6c2219c92840e5a648   \n",
       "4                                 Bayshore Inn  4bc9fc90a276eee173386202   \n",
       "5                      Trappers Mountain Grill  4e092b05d4c03ae0b9d47bf2   \n",
       "6                                Cameron Falls  4e5975dc18a8c204750cd4bf   \n",
       "7                      Waterton Glacier Suites  4e4444f8aeb7d02fd0e915b0   \n",
       "8                              Red Rock Canyon  520a8e1b498e62ca3523019b   \n",
       "9                         Waterton Lakes Lodge  4bc8eaf9762beee13eb23d38   \n",
       "10                           Pizza of Waterton  4c07e7ea7e3fc928a174ef82   \n",
       "11                                Pearl's Cafe  4c360fc23849c9282661bbb1   \n",
       "12                           Aspen Village Inn  4e45c9d881dc766f3e3b71f1   \n",
       "13  Waterton Lakes National Park Entrance Gate  4e3acf98a809ec5544401d51   \n",
       "14                     Crandell Mountain Lodge  4e45c88a81dc766f3e3b714a   \n",
       "15           Waterton Shoreline Cruise Company  4e3312d9b61cd25ad4a4d506   \n",
       "16                               Bison Paddock  4e274d85b0fba988bb60934d   \n",
       "17                          Fireside Chophouse  57a53e06498e5d0ba06b76fe   \n",
       "18           Prince of Wales Hotel Scenic View  4e5982d2fa76d2b00c0f5257   \n",
       "19                                Zum's Eatery  4e87b20dbe7bcd2a2aaf356f   \n",
       "20                         Thirsty Bear Saloon  4c0836c2d1329c744ee1fc07   \n",
       "\n",
       "0    latitude   longitude                                      ll  rating  \n",
       "1   49.052595 -113.907303  49.052595120014175,-113.90730311169038     8.5  \n",
       "2   49.052092 -113.907914   49.05209231850583,-113.90791448646839     7.6  \n",
       "3   49.058295 -113.903918  49.058294929906424,-113.90391754319757     7.6  \n",
       "4    49.05241 -113.906445   49.05241049451198,-113.90644507395069     7.3  \n",
       "5     49.0521 -113.907097  49.052099837192216,-113.90709653694292     7.2  \n",
       "6   49.051341  -113.91604   49.051340829924605,-113.9160397415404     6.9  \n",
       "7   49.053057 -113.909945    49.05305654087697,-113.9099450531108     NaN  \n",
       "8   49.051323 -113.881763  49.051323168841286,-113.88176344494849     NaN  \n",
       "9   49.051616  -113.90928                  49.05161636,-113.90928     NaN  \n",
       "10    49.0517 -113.908529  49.051699593336814,-113.90852902804002     NaN  \n",
       "11  49.051602 -113.908128  49.051602272337895,-113.90812754631042     NaN  \n",
       "12  49.052762 -113.909222    49.05276244877268,-113.9092218875885     NaN  \n",
       "13  49.109612 -113.848862  49.109612437464854,-113.84886220483217     NaN  \n",
       "14  49.055336 -113.911421   49.05533583441074,-113.91142129898071     NaN  \n",
       "15  49.053833 -113.907308                   49.053833,-113.907308     NaN  \n",
       "16  49.126438 -113.861809   49.126438362357696,-113.8618085666935     NaN  \n",
       "17  49.051944 -113.906532                   49.051944,-113.906532     NaN  \n",
       "18  49.053234 -113.909379   49.053233849038584,-113.9093789739894     NaN  \n",
       "19  49.051311 -113.907239                   49.051311,-113.907239     NaN  \n",
       "20  49.051536  -113.90655   49.05153583384309,-113.90654998565267     NaN  "
      ]
     },
     "execution_count": 125,
     "metadata": {},
     "output_type": "execute_result"
    }
   ],
   "source": [
    "#fsq_explore_df # don't touch this, already ranked and run"
   ]
  },
  {
   "cell_type": "code",
   "execution_count": 12,
   "id": "hungry-comparative",
   "metadata": {},
   "outputs": [
    {
     "data": {
      "text/html": [
       "<div>\n",
       "<style scoped>\n",
       "    .dataframe tbody tr th:only-of-type {\n",
       "        vertical-align: middle;\n",
       "    }\n",
       "\n",
       "    .dataframe tbody tr th {\n",
       "        vertical-align: top;\n",
       "    }\n",
       "\n",
       "    .dataframe thead th {\n",
       "        text-align: right;\n",
       "    }\n",
       "</style>\n",
       "<table border=\"1\" class=\"dataframe\">\n",
       "  <thead>\n",
       "    <tr style=\"text-align: right;\">\n",
       "      <th></th>\n",
       "      <th>name</th>\n",
       "      <th>business_id</th>\n",
       "      <th>latitude</th>\n",
       "      <th>longitude</th>\n",
       "      <th>ll</th>\n",
       "      <th>rating</th>\n",
       "    </tr>\n",
       "  </thead>\n",
       "  <tbody>\n",
       "    <tr>\n",
       "      <th>2</th>\n",
       "      <td>Cameron Falls</td>\n",
       "      <td>4e5975dc18a8c204750cd4bf</td>\n",
       "      <td>49.051341</td>\n",
       "      <td>-113.91604</td>\n",
       "      <td>49.051340829924605,-113.9160397415404</td>\n",
       "      <td>6.9</td>\n",
       "    </tr>\n",
       "    <tr>\n",
       "      <th>12</th>\n",
       "      <td>Subway</td>\n",
       "      <td>5006fe5ce4b07575b865ff81</td>\n",
       "      <td>49.052048</td>\n",
       "      <td>-113.908235</td>\n",
       "      <td>49.0520484263999,-113.90823543534783</td>\n",
       "      <td>6.4</td>\n",
       "    </tr>\n",
       "    <tr>\n",
       "      <th>1</th>\n",
       "      <td>Northland Lodge</td>\n",
       "      <td>5d1ea01d1feae30023e1e384</td>\n",
       "      <td>49.050064</td>\n",
       "      <td>-113.91653</td>\n",
       "      <td>49.050064,-113.91653</td>\n",
       "      <td>NaN</td>\n",
       "    </tr>\n",
       "    <tr>\n",
       "      <th>3</th>\n",
       "      <td>Waterton, Alberta</td>\n",
       "      <td>4e3d79e07d8b0e961069ce63</td>\n",
       "      <td>49.052142</td>\n",
       "      <td>-113.908082</td>\n",
       "      <td>49.05214241377369,-113.90808152342375</td>\n",
       "      <td>NaN</td>\n",
       "    </tr>\n",
       "    <tr>\n",
       "      <th>4</th>\n",
       "      <td>Bertha Trailhead</td>\n",
       "      <td>503127fce4b08362164cc687</td>\n",
       "      <td>49.04531</td>\n",
       "      <td>-113.916983</td>\n",
       "      <td>49.045309697785044,-113.91698320006687</td>\n",
       "      <td>NaN</td>\n",
       "    </tr>\n",
       "    <tr>\n",
       "      <th>5</th>\n",
       "      <td>Zums Eatery</td>\n",
       "      <td>4c7d28479221236a4f4f7e3d</td>\n",
       "      <td>49.049293</td>\n",
       "      <td>-113.907389</td>\n",
       "      <td>49.04929322706642,-113.90738904697935</td>\n",
       "      <td>NaN</td>\n",
       "    </tr>\n",
       "    <tr>\n",
       "      <th>6</th>\n",
       "      <td>The Church of Jesus Christ of Latter-day Saints</td>\n",
       "      <td>4d9b8460c175dcb3a583d07b</td>\n",
       "      <td>49.052017</td>\n",
       "      <td>-113.910413</td>\n",
       "      <td>49.0520171264152,-113.91041278839111</td>\n",
       "      <td>NaN</td>\n",
       "    </tr>\n",
       "    <tr>\n",
       "      <th>7</th>\n",
       "      <td>Thirsty Bear Waterton - Kitchen &amp; Bar</td>\n",
       "      <td>5d1192878132b900231e8d08</td>\n",
       "      <td>49.052684</td>\n",
       "      <td>-113.906257</td>\n",
       "      <td>49.0526836,-113.9062574</td>\n",
       "      <td>NaN</td>\n",
       "    </tr>\n",
       "    <tr>\n",
       "      <th>8</th>\n",
       "      <td>Red Rock Canyon</td>\n",
       "      <td>4e87b3ff722e45a6b8a2f19c</td>\n",
       "      <td>49.05278</td>\n",
       "      <td>-113.912993</td>\n",
       "      <td>49.05278027180712,-113.91299328897817</td>\n",
       "      <td>NaN</td>\n",
       "    </tr>\n",
       "    <tr>\n",
       "      <th>9</th>\n",
       "      <td>The Church of Jesus Christ of Latter-day Saints</td>\n",
       "      <td>4f731f847bebc1de47d22d93</td>\n",
       "      <td>49.099464</td>\n",
       "      <td>-113.907187</td>\n",
       "      <td>49.099464087238495,-113.90718729608393</td>\n",
       "      <td>NaN</td>\n",
       "    </tr>\n",
       "    <tr>\n",
       "      <th>10</th>\n",
       "      <td>Bayshore Inn Resort &amp; Spa</td>\n",
       "      <td>561bdb5a498e1bc38eadc1aa</td>\n",
       "      <td>49.052576</td>\n",
       "      <td>-113.906041</td>\n",
       "      <td>49.052576,-113.906041</td>\n",
       "      <td>NaN</td>\n",
       "    </tr>\n",
       "    <tr>\n",
       "      <th>11</th>\n",
       "      <td>Lakeside Chophouse</td>\n",
       "      <td>5a043bfc0d8a0f6af800247a</td>\n",
       "      <td>49.051778</td>\n",
       "      <td>-113.909603</td>\n",
       "      <td>49.05177805838652,-113.90960276126862</td>\n",
       "      <td>NaN</td>\n",
       "    </tr>\n",
       "    <tr>\n",
       "      <th>13</th>\n",
       "      <td>Crandell Mountain Campground</td>\n",
       "      <td>51cc942f498efbe4dcce8729</td>\n",
       "      <td>49.098646</td>\n",
       "      <td>-113.953532</td>\n",
       "      <td>49.098646,-113.953532</td>\n",
       "      <td>NaN</td>\n",
       "    </tr>\n",
       "    <tr>\n",
       "      <th>14</th>\n",
       "      <td>Rocky Mountain General Store</td>\n",
       "      <td>57a4b765498e9c810398818f</td>\n",
       "      <td>49.051643</td>\n",
       "      <td>-113.90683</td>\n",
       "      <td>49.051643,-113.90683</td>\n",
       "      <td>NaN</td>\n",
       "    </tr>\n",
       "    <tr>\n",
       "      <th>15</th>\n",
       "      <td>Red Rock Trattoria Waterton</td>\n",
       "      <td>5d0acc85e7e5fc002382b8b0</td>\n",
       "      <td>49.052952</td>\n",
       "      <td>-113.909707</td>\n",
       "      <td>49.052952,-113.909707</td>\n",
       "      <td>NaN</td>\n",
       "    </tr>\n",
       "    <tr>\n",
       "      <th>16</th>\n",
       "      <td>Lakeside Chophouse - Bayshore Inn</td>\n",
       "      <td>51a96a0ec640178c2c50d075</td>\n",
       "      <td>49.049271</td>\n",
       "      <td>-113.907125</td>\n",
       "      <td>49.049271,-113.907125</td>\n",
       "      <td>NaN</td>\n",
       "    </tr>\n",
       "    <tr>\n",
       "      <th>17</th>\n",
       "      <td>Tamarack Outdoor Outfitters</td>\n",
       "      <td>4df29642fa76abc3d86a0310</td>\n",
       "      <td>49.053415</td>\n",
       "      <td>-113.908148</td>\n",
       "      <td>49.05341499593911,-113.90814761154765</td>\n",
       "      <td>NaN</td>\n",
       "    </tr>\n",
       "    <tr>\n",
       "      <th>18</th>\n",
       "      <td>Village Gift Shop</td>\n",
       "      <td>4e4acfc2d22d876aed1ec250</td>\n",
       "      <td>49.0528</td>\n",
       "      <td>-113.90928</td>\n",
       "      <td>49.0528,-113.90928</td>\n",
       "      <td>NaN</td>\n",
       "    </tr>\n",
       "    <tr>\n",
       "      <th>19</th>\n",
       "      <td>Red Rock Canyon</td>\n",
       "      <td>520a8e1b498e62ca3523019b</td>\n",
       "      <td>49.051323</td>\n",
       "      <td>-113.881763</td>\n",
       "      <td>49.051323168841286,-113.88176344494849</td>\n",
       "      <td>NaN</td>\n",
       "    </tr>\n",
       "    <tr>\n",
       "      <th>20</th>\n",
       "      <td>Bayshore Docks</td>\n",
       "      <td>59e74edf95a7222daba891cf</td>\n",
       "      <td>49.052258</td>\n",
       "      <td>-113.905495</td>\n",
       "      <td>49.052258,-113.905495</td>\n",
       "      <td>NaN</td>\n",
       "    </tr>\n",
       "    <tr>\n",
       "      <th>21</th>\n",
       "      <td>Waterton Lakes National Park Alberta</td>\n",
       "      <td>5c6032a59fca56002cf90662</td>\n",
       "      <td>49.079938</td>\n",
       "      <td>-113.875823</td>\n",
       "      <td>49.07993798570057,-113.87582302093506</td>\n",
       "      <td>NaN</td>\n",
       "    </tr>\n",
       "    <tr>\n",
       "      <th>22</th>\n",
       "      <td>Waterton Health Club &amp; Recreation Centre</td>\n",
       "      <td>5ac2f60bee628b7cf8e733fe</td>\n",
       "      <td>49.051178</td>\n",
       "      <td>-113.910194</td>\n",
       "      <td>49.051178,-113.910194</td>\n",
       "      <td>NaN</td>\n",
       "    </tr>\n",
       "    <tr>\n",
       "      <th>23</th>\n",
       "      <td>Canada Post</td>\n",
       "      <td>51cdbae3498ec97839bdbd7f</td>\n",
       "      <td>49.071305</td>\n",
       "      <td>-113.886515</td>\n",
       "      <td>49.071304672952905,-113.88651514984949</td>\n",
       "      <td>NaN</td>\n",
       "    </tr>\n",
       "    <tr>\n",
       "      <th>24</th>\n",
       "      <td>Gym (Fitness Centre)</td>\n",
       "      <td>5ac2fb591cf2e16c92547739</td>\n",
       "      <td>49.051308</td>\n",
       "      <td>-113.91021</td>\n",
       "      <td>49.051308,-113.91021</td>\n",
       "      <td>NaN</td>\n",
       "    </tr>\n",
       "    <tr>\n",
       "      <th>25</th>\n",
       "      <td>Waterton Townsite Camping</td>\n",
       "      <td>51fdabec498ebbf7396cfdee</td>\n",
       "      <td>49.048563</td>\n",
       "      <td>-113.910581</td>\n",
       "      <td>49.04856331931721,-113.91058096419563</td>\n",
       "      <td>NaN</td>\n",
       "    </tr>\n",
       "    <tr>\n",
       "      <th>26</th>\n",
       "      <td>United Church Of Canada</td>\n",
       "      <td>5ac2d6e1c036352329cd2cb5</td>\n",
       "      <td>49.052128</td>\n",
       "      <td>-113.91052</td>\n",
       "      <td>49.052128,-113.91052</td>\n",
       "      <td>NaN</td>\n",
       "    </tr>\n",
       "    <tr>\n",
       "      <th>27</th>\n",
       "      <td>Reception</td>\n",
       "      <td>5ac2d4d62db4a97e8c797586</td>\n",
       "      <td>49.051697</td>\n",
       "      <td>-113.91018</td>\n",
       "      <td>49.051697,-113.91018</td>\n",
       "      <td>NaN</td>\n",
       "    </tr>\n",
       "    <tr>\n",
       "      <th>28</th>\n",
       "      <td>Forest House</td>\n",
       "      <td>5ac2ca5fb3c96160ae8ae472</td>\n",
       "      <td>49.051247</td>\n",
       "      <td>-113.908844</td>\n",
       "      <td>49.051247,-113.908844</td>\n",
       "      <td>NaN</td>\n",
       "    </tr>\n",
       "    <tr>\n",
       "      <th>29</th>\n",
       "      <td>Paddle Shop</td>\n",
       "      <td>59e74ea4002f4c707b245c3a</td>\n",
       "      <td>49.05588</td>\n",
       "      <td>-113.90993</td>\n",
       "      <td>49.05588,-113.90993</td>\n",
       "      <td>NaN</td>\n",
       "    </tr>\n",
       "    <tr>\n",
       "      <th>30</th>\n",
       "      <td>Daves Apartment</td>\n",
       "      <td>59d67faf2a7ab669b2e3c84d</td>\n",
       "      <td>49.051365</td>\n",
       "      <td>-113.90961</td>\n",
       "      <td>49.051365,-113.90961</td>\n",
       "      <td>NaN</td>\n",
       "    </tr>\n",
       "    <tr>\n",
       "      <th>31</th>\n",
       "      <td>The Gift Shop</td>\n",
       "      <td>5ac2d3580e5da83bde8714a0</td>\n",
       "      <td>49.05172</td>\n",
       "      <td>-113.909996</td>\n",
       "      <td>49.05172,-113.909996</td>\n",
       "      <td>NaN</td>\n",
       "    </tr>\n",
       "    <tr>\n",
       "      <th>32</th>\n",
       "      <td>Evergreen Gifts</td>\n",
       "      <td>520ed27011d21699d856c88b</td>\n",
       "      <td>49.053608</td>\n",
       "      <td>-113.909056</td>\n",
       "      <td>49.05360790513897,-113.90905604960417</td>\n",
       "      <td>NaN</td>\n",
       "    </tr>\n",
       "    <tr>\n",
       "      <th>33</th>\n",
       "      <td>Playground</td>\n",
       "      <td>51fdab1a498e2dbf11d2182b</td>\n",
       "      <td>49.051284</td>\n",
       "      <td>-113.908822</td>\n",
       "      <td>49.05128397845582,-113.90882163162233</td>\n",
       "      <td>NaN</td>\n",
       "    </tr>\n",
       "    <tr>\n",
       "      <th>34</th>\n",
       "      <td>Fireside Lounge</td>\n",
       "      <td>4c2d0147e307d13ad6140dda</td>\n",
       "      <td>49.051992</td>\n",
       "      <td>-113.906556</td>\n",
       "      <td>49.051992,-113.906556</td>\n",
       "      <td>NaN</td>\n",
       "    </tr>\n",
       "    <tr>\n",
       "      <th>35</th>\n",
       "      <td>Waterton Heritage Centre</td>\n",
       "      <td>579e6499498ebfdb3d189c14</td>\n",
       "      <td>49.051277</td>\n",
       "      <td>-113.90697</td>\n",
       "      <td>49.051277,-113.90697</td>\n",
       "      <td>NaN</td>\n",
       "    </tr>\n",
       "    <tr>\n",
       "      <th>36</th>\n",
       "      <td>Pool</td>\n",
       "      <td>5ac2fb0967f62b75c4fa280c</td>\n",
       "      <td>49.051426</td>\n",
       "      <td>-113.910034</td>\n",
       "      <td>49.051426,-113.910034</td>\n",
       "      <td>NaN</td>\n",
       "    </tr>\n",
       "    <tr>\n",
       "      <th>37</th>\n",
       "      <td>Bear Mountain Motel</td>\n",
       "      <td>4e88670abe7bb06ed7dd278e</td>\n",
       "      <td>49.053565</td>\n",
       "      <td>-113.910049</td>\n",
       "      <td>49.05356472450937,-113.910048604752</td>\n",
       "      <td>NaN</td>\n",
       "    </tr>\n",
       "    <tr>\n",
       "      <th>38</th>\n",
       "      <td>My Sister's Room</td>\n",
       "      <td>579e641f498e051393bb981c</td>\n",
       "      <td>49.050797</td>\n",
       "      <td>-113.90837</td>\n",
       "      <td>49.050797,-113.90837</td>\n",
       "      <td>NaN</td>\n",
       "    </tr>\n",
       "    <tr>\n",
       "      <th>39</th>\n",
       "      <td>Waterton Glacier Suites</td>\n",
       "      <td>4e4444f8aeb7d02fd0e915b0</td>\n",
       "      <td>49.053057</td>\n",
       "      <td>-113.909945</td>\n",
       "      <td>49.05305654087697,-113.9099450531108</td>\n",
       "      <td>NaN</td>\n",
       "    </tr>\n",
       "    <tr>\n",
       "      <th>40</th>\n",
       "      <td>Crandel lake</td>\n",
       "      <td>4e3ef7a8aeb73139a18dcc1e</td>\n",
       "      <td>49.053478</td>\n",
       "      <td>-113.910398</td>\n",
       "      <td>49.05347820644127,-113.91039774588089</td>\n",
       "      <td>NaN</td>\n",
       "    </tr>\n",
       "    <tr>\n",
       "      <th>41</th>\n",
       "      <td>Waterton Candy Store</td>\n",
       "      <td>4e3daf792271d21e86fa0b97</td>\n",
       "      <td>49.05426</td>\n",
       "      <td>-113.91047</td>\n",
       "      <td>49.05426,-113.91047</td>\n",
       "      <td>NaN</td>\n",
       "    </tr>\n",
       "    <tr>\n",
       "      <th>42</th>\n",
       "      <td>Waterton Lake Marina</td>\n",
       "      <td>4e4ae2ea1838fe3c8180aebc</td>\n",
       "      <td>49.053476</td>\n",
       "      <td>-113.908632</td>\n",
       "      <td>49.05347583643675,-113.90863152552015</td>\n",
       "      <td>NaN</td>\n",
       "    </tr>\n",
       "    <tr>\n",
       "      <th>43</th>\n",
       "      <td>Waterton camp site \"J14\"</td>\n",
       "      <td>4e3d83ea62e19d61096f58d3</td>\n",
       "      <td>49.047305</td>\n",
       "      <td>-113.911122</td>\n",
       "      <td>49.047305225101894,-113.91112205169571</td>\n",
       "      <td>NaN</td>\n",
       "    </tr>\n",
       "    <tr>\n",
       "      <th>44</th>\n",
       "      <td>canyon church camp</td>\n",
       "      <td>4e3f0721b61cb577be8cf2c9</td>\n",
       "      <td>49.05426</td>\n",
       "      <td>-113.91047</td>\n",
       "      <td>49.05426,-113.91047</td>\n",
       "      <td>NaN</td>\n",
       "    </tr>\n",
       "    <tr>\n",
       "      <th>45</th>\n",
       "      <td>Alpine Stables</td>\n",
       "      <td>4e4c0dc91f6e2a789a8fc47b</td>\n",
       "      <td>49.050604</td>\n",
       "      <td>-113.911484</td>\n",
       "      <td>49.05060411817702,-113.9114842230586</td>\n",
       "      <td>NaN</td>\n",
       "    </tr>\n",
       "    <tr>\n",
       "      <th>46</th>\n",
       "      <td>Waterton Bagel &amp; Coffee Co.</td>\n",
       "      <td>4c067a9b517d0f47ef05f615</td>\n",
       "      <td>49.052062</td>\n",
       "      <td>-113.908016</td>\n",
       "      <td>49.05206211010543,-113.90801645709416</td>\n",
       "      <td>NaN</td>\n",
       "    </tr>\n",
       "    <tr>\n",
       "      <th>47</th>\n",
       "      <td>The Taco bar</td>\n",
       "      <td>504a5918e4b084386a608aa7</td>\n",
       "      <td>49.051055</td>\n",
       "      <td>-113.909862</td>\n",
       "      <td>49.05105540007544,-113.90986180475304</td>\n",
       "      <td>NaN</td>\n",
       "    </tr>\n",
       "    <tr>\n",
       "      <th>48</th>\n",
       "      <td>Waterton Lakes Golf Course</td>\n",
       "      <td>502feba9e4b0eed9c3cd36d6</td>\n",
       "      <td>49.075061</td>\n",
       "      <td>-113.886187</td>\n",
       "      <td>49.075061161171625,-113.88618723583754</td>\n",
       "      <td>NaN</td>\n",
       "    </tr>\n",
       "    <tr>\n",
       "      <th>49</th>\n",
       "      <td>Waterton Lake Opera House</td>\n",
       "      <td>4c070c210ed3c9285e0f797d</td>\n",
       "      <td>49.051164</td>\n",
       "      <td>-113.90826</td>\n",
       "      <td>49.05116357401885,-113.90825956305073</td>\n",
       "      <td>NaN</td>\n",
       "    </tr>\n",
       "    <tr>\n",
       "      <th>50</th>\n",
       "      <td>Upper Waterton Lake US/Canada Border</td>\n",
       "      <td>5d1e5538442332002fb25082</td>\n",
       "      <td>48.998656</td>\n",
       "      <td>-113.901556</td>\n",
       "      <td>48.998656,-113.901556</td>\n",
       "      <td>NaN</td>\n",
       "    </tr>\n",
       "  </tbody>\n",
       "</table>\n",
       "</div>"
      ],
      "text/plain": [
       "0                                              name               business_id  \\\n",
       "2                                     Cameron Falls  4e5975dc18a8c204750cd4bf   \n",
       "12                                           Subway  5006fe5ce4b07575b865ff81   \n",
       "1                                   Northland Lodge  5d1ea01d1feae30023e1e384   \n",
       "3                                 Waterton, Alberta  4e3d79e07d8b0e961069ce63   \n",
       "4                                  Bertha Trailhead  503127fce4b08362164cc687   \n",
       "5                                       Zums Eatery  4c7d28479221236a4f4f7e3d   \n",
       "6   The Church of Jesus Christ of Latter-day Saints  4d9b8460c175dcb3a583d07b   \n",
       "7             Thirsty Bear Waterton - Kitchen & Bar  5d1192878132b900231e8d08   \n",
       "8                                   Red Rock Canyon  4e87b3ff722e45a6b8a2f19c   \n",
       "9   The Church of Jesus Christ of Latter-day Saints  4f731f847bebc1de47d22d93   \n",
       "10                        Bayshore Inn Resort & Spa  561bdb5a498e1bc38eadc1aa   \n",
       "11                               Lakeside Chophouse  5a043bfc0d8a0f6af800247a   \n",
       "13                     Crandell Mountain Campground  51cc942f498efbe4dcce8729   \n",
       "14                     Rocky Mountain General Store  57a4b765498e9c810398818f   \n",
       "15                      Red Rock Trattoria Waterton  5d0acc85e7e5fc002382b8b0   \n",
       "16                Lakeside Chophouse - Bayshore Inn  51a96a0ec640178c2c50d075   \n",
       "17                      Tamarack Outdoor Outfitters  4df29642fa76abc3d86a0310   \n",
       "18                                Village Gift Shop  4e4acfc2d22d876aed1ec250   \n",
       "19                                  Red Rock Canyon  520a8e1b498e62ca3523019b   \n",
       "20                                   Bayshore Docks  59e74edf95a7222daba891cf   \n",
       "21             Waterton Lakes National Park Alberta  5c6032a59fca56002cf90662   \n",
       "22         Waterton Health Club & Recreation Centre  5ac2f60bee628b7cf8e733fe   \n",
       "23                                      Canada Post  51cdbae3498ec97839bdbd7f   \n",
       "24                             Gym (Fitness Centre)  5ac2fb591cf2e16c92547739   \n",
       "25                        Waterton Townsite Camping  51fdabec498ebbf7396cfdee   \n",
       "26                          United Church Of Canada  5ac2d6e1c036352329cd2cb5   \n",
       "27                                        Reception  5ac2d4d62db4a97e8c797586   \n",
       "28                                     Forest House  5ac2ca5fb3c96160ae8ae472   \n",
       "29                                      Paddle Shop  59e74ea4002f4c707b245c3a   \n",
       "30                                  Daves Apartment  59d67faf2a7ab669b2e3c84d   \n",
       "31                                    The Gift Shop  5ac2d3580e5da83bde8714a0   \n",
       "32                                  Evergreen Gifts  520ed27011d21699d856c88b   \n",
       "33                                       Playground  51fdab1a498e2dbf11d2182b   \n",
       "34                                  Fireside Lounge  4c2d0147e307d13ad6140dda   \n",
       "35                         Waterton Heritage Centre  579e6499498ebfdb3d189c14   \n",
       "36                                             Pool  5ac2fb0967f62b75c4fa280c   \n",
       "37                              Bear Mountain Motel  4e88670abe7bb06ed7dd278e   \n",
       "38                                 My Sister's Room  579e641f498e051393bb981c   \n",
       "39                          Waterton Glacier Suites  4e4444f8aeb7d02fd0e915b0   \n",
       "40                                     Crandel lake  4e3ef7a8aeb73139a18dcc1e   \n",
       "41                             Waterton Candy Store  4e3daf792271d21e86fa0b97   \n",
       "42                             Waterton Lake Marina  4e4ae2ea1838fe3c8180aebc   \n",
       "43                         Waterton camp site \"J14\"  4e3d83ea62e19d61096f58d3   \n",
       "44                               canyon church camp  4e3f0721b61cb577be8cf2c9   \n",
       "45                                   Alpine Stables  4e4c0dc91f6e2a789a8fc47b   \n",
       "46                      Waterton Bagel & Coffee Co.  4c067a9b517d0f47ef05f615   \n",
       "47                                     The Taco bar  504a5918e4b084386a608aa7   \n",
       "48                       Waterton Lakes Golf Course  502feba9e4b0eed9c3cd36d6   \n",
       "49                        Waterton Lake Opera House  4c070c210ed3c9285e0f797d   \n",
       "50             Upper Waterton Lake US/Canada Border  5d1e5538442332002fb25082   \n",
       "\n",
       "0    latitude   longitude                                      ll  rating  \n",
       "2   49.051341  -113.91604   49.051340829924605,-113.9160397415404     6.9  \n",
       "12  49.052048 -113.908235    49.0520484263999,-113.90823543534783     6.4  \n",
       "1   49.050064  -113.91653                    49.050064,-113.91653     NaN  \n",
       "3   49.052142 -113.908082   49.05214241377369,-113.90808152342375     NaN  \n",
       "4    49.04531 -113.916983  49.045309697785044,-113.91698320006687     NaN  \n",
       "5   49.049293 -113.907389   49.04929322706642,-113.90738904697935     NaN  \n",
       "6   49.052017 -113.910413    49.0520171264152,-113.91041278839111     NaN  \n",
       "7   49.052684 -113.906257                 49.0526836,-113.9062574     NaN  \n",
       "8    49.05278 -113.912993   49.05278027180712,-113.91299328897817     NaN  \n",
       "9   49.099464 -113.907187  49.099464087238495,-113.90718729608393     NaN  \n",
       "10  49.052576 -113.906041                   49.052576,-113.906041     NaN  \n",
       "11  49.051778 -113.909603   49.05177805838652,-113.90960276126862     NaN  \n",
       "13  49.098646 -113.953532                   49.098646,-113.953532     NaN  \n",
       "14  49.051643  -113.90683                    49.051643,-113.90683     NaN  \n",
       "15  49.052952 -113.909707                   49.052952,-113.909707     NaN  \n",
       "16  49.049271 -113.907125                   49.049271,-113.907125     NaN  \n",
       "17  49.053415 -113.908148   49.05341499593911,-113.90814761154765     NaN  \n",
       "18    49.0528  -113.90928                      49.0528,-113.90928     NaN  \n",
       "19  49.051323 -113.881763  49.051323168841286,-113.88176344494849     NaN  \n",
       "20  49.052258 -113.905495                   49.052258,-113.905495     NaN  \n",
       "21  49.079938 -113.875823   49.07993798570057,-113.87582302093506     NaN  \n",
       "22  49.051178 -113.910194                   49.051178,-113.910194     NaN  \n",
       "23  49.071305 -113.886515  49.071304672952905,-113.88651514984949     NaN  \n",
       "24  49.051308  -113.91021                    49.051308,-113.91021     NaN  \n",
       "25  49.048563 -113.910581   49.04856331931721,-113.91058096419563     NaN  \n",
       "26  49.052128  -113.91052                    49.052128,-113.91052     NaN  \n",
       "27  49.051697  -113.91018                    49.051697,-113.91018     NaN  \n",
       "28  49.051247 -113.908844                   49.051247,-113.908844     NaN  \n",
       "29   49.05588  -113.90993                     49.05588,-113.90993     NaN  \n",
       "30  49.051365  -113.90961                    49.051365,-113.90961     NaN  \n",
       "31   49.05172 -113.909996                    49.05172,-113.909996     NaN  \n",
       "32  49.053608 -113.909056   49.05360790513897,-113.90905604960417     NaN  \n",
       "33  49.051284 -113.908822   49.05128397845582,-113.90882163162233     NaN  \n",
       "34  49.051992 -113.906556                   49.051992,-113.906556     NaN  \n",
       "35  49.051277  -113.90697                    49.051277,-113.90697     NaN  \n",
       "36  49.051426 -113.910034                   49.051426,-113.910034     NaN  \n",
       "37  49.053565 -113.910049     49.05356472450937,-113.910048604752     NaN  \n",
       "38  49.050797  -113.90837                    49.050797,-113.90837     NaN  \n",
       "39  49.053057 -113.909945    49.05305654087697,-113.9099450531108     NaN  \n",
       "40  49.053478 -113.910398   49.05347820644127,-113.91039774588089     NaN  \n",
       "41   49.05426  -113.91047                     49.05426,-113.91047     NaN  \n",
       "42  49.053476 -113.908632   49.05347583643675,-113.90863152552015     NaN  \n",
       "43  49.047305 -113.911122  49.047305225101894,-113.91112205169571     NaN  \n",
       "44   49.05426  -113.91047                     49.05426,-113.91047     NaN  \n",
       "45  49.050604 -113.911484    49.05060411817702,-113.9114842230586     NaN  \n",
       "46  49.052062 -113.908016   49.05206211010543,-113.90801645709416     NaN  \n",
       "47  49.051055 -113.909862   49.05105540007544,-113.90986180475304     NaN  \n",
       "48  49.075061 -113.886187  49.075061161171625,-113.88618723583754     NaN  \n",
       "49  49.051164  -113.90826   49.05116357401885,-113.90825956305073     NaN  \n",
       "50  48.998656 -113.901556                   48.998656,-113.901556     NaN  "
      ]
     },
     "execution_count": 12,
     "metadata": {},
     "output_type": "execute_result"
    }
   ],
   "source": [
    "#fsq_search_df.sort_values('rating',ascending=False) #dont touch this"
   ]
  },
  {
   "cell_type": "code",
   "execution_count": null,
   "id": "biblical-quality",
   "metadata": {},
   "outputs": [],
   "source": []
  },
  {
   "cell_type": "code",
   "execution_count": null,
   "id": "different-description",
   "metadata": {},
   "outputs": [],
   "source": []
  },
  {
   "cell_type": "code",
   "execution_count": null,
   "id": "future-conversation",
   "metadata": {},
   "outputs": [],
   "source": []
  },
  {
   "cell_type": "markdown",
   "id": "premium-contamination",
   "metadata": {},
   "source": [
    "- (Stretch) By implementing [travelling salesman problem (TSP)](https://en.wikipedia.org/wiki/Travelling_salesman_problem), how much time would it take to visit all of these places? ([Directions API](https://developers.google.com/maps/documentation/directions/start) from google will be helpful here). We will have to find travel time between all places (top 10). We can use [ortools](https://developers.google.com/optimization/routing/tsp) from Google to effectively implement TSP. These tools are very powerful and [easy to install](https://developers.google.com/optimization/install)."
   ]
  },
  {
   "cell_type": "markdown",
   "id": "chronic-strand",
   "metadata": {},
   "source": [
    "# Google Directions API"
   ]
  },
  {
   "cell_type": "code",
   "execution_count": 10,
   "id": "fabulous-offset",
   "metadata": {},
   "outputs": [],
   "source": [
    "api_key = os.environ['directions_Key']\n",
    "#url = "
   ]
  },
  {
   "cell_type": "code",
   "execution_count": 22,
   "id": "agreed-leave",
   "metadata": {},
   "outputs": [
    {
     "data": {
      "text/plain": [
       "[['49.052073%2C-113.907795'],\n",
       " ['49.052043%2C-113.907825'],\n",
       " ['49.051845%2C-113.908287'],\n",
       " ['49.050998%2C-113.908491'],\n",
       " ['49.052962%2C-113.909972'],\n",
       " ['49.052269%2C-113.906167'],\n",
       " ['49.04829%2C-113.90767'],\n",
       " ['49.052087%2C-113.907002']]"
      ]
     },
     "execution_count": 22,
     "metadata": {},
     "output_type": "execute_result"
    }
   ],
   "source": [
    "yelp_ll\n",
    "waypoints = yelp_ll[1:9]\n",
    "waypoints"
   ]
  },
  {
   "cell_type": "code",
   "execution_count": 28,
   "id": "gentle-hearing",
   "metadata": {},
   "outputs": [
    {
     "data": {
      "application/json": {
       "geocoded_waypoints": [
        {
         "geocoder_status": "ZERO_RESULTS"
        },
        {
         "geocoder_status": "ZERO_RESULTS"
        },
        {
         "geocoder_status": "ZERO_RESULTS"
        },
        {
         "geocoder_status": "ZERO_RESULTS"
        },
        {
         "geocoder_status": "ZERO_RESULTS"
        },
        {
         "geocoder_status": "ZERO_RESULTS"
        },
        {
         "geocoder_status": "ZERO_RESULTS"
        },
        {
         "geocoder_status": "ZERO_RESULTS"
        },
        {
         "geocoder_status": "ZERO_RESULTS"
        },
        {
         "geocoder_status": "ZERO_RESULTS"
        }
       ],
       "routes": [],
       "status": "NOT_FOUND"
      },
      "text/plain": [
       "<IPython.core.display.JSON object>"
      ]
     },
     "execution_count": 28,
     "metadata": {
      "application/json": {
       "expanded": false,
       "root": "root"
      }
     },
     "output_type": "execute_result"
    }
   ],
   "source": [
    "# Directions API - YELP\n",
    "url = f'https://maps.googleapis.com/maps/api/directions/json?origin={yelp_ll[0]}&destination={yelp_ll[9]}&waypoints=optimize:true%7Cvia:{waypoints[0]}%7Cvia:{waypoints[1]}%7Cvia:{waypoints[2]}%7Cvia:{waypoints[3]}%7Cvia:{waypoints[4]}%7Cvia:{waypoints[5]}%7Cvia:{waypoints[6]}%7Cvia:{waypoints[7]}&mode=walking&key={api_key}'\n",
    "res = re.get(url)\n",
    "yelp_directions_json = res.json()\n",
    "JSON(yelp_directions_json)"
   ]
  },
  {
   "cell_type": "code",
   "execution_count": null,
   "id": "academic-headset",
   "metadata": {},
   "outputs": [],
   "source": []
  },
  {
   "cell_type": "code",
   "execution_count": null,
   "id": "wound-state",
   "metadata": {},
   "outputs": [],
   "source": []
  },
  {
   "cell_type": "code",
   "execution_count": null,
   "id": "welsh-indication",
   "metadata": {},
   "outputs": [],
   "source": []
  },
  {
   "cell_type": "code",
   "execution_count": null,
   "id": "christian-deposit",
   "metadata": {},
   "outputs": [],
   "source": []
  },
  {
   "cell_type": "code",
   "execution_count": null,
   "id": "adjustable-tiger",
   "metadata": {},
   "outputs": [],
   "source": []
  },
  {
   "cell_type": "markdown",
   "id": "joint-offense",
   "metadata": {},
   "source": [
    "# Google ORTools"
   ]
  },
  {
   "cell_type": "code",
   "execution_count": 6,
   "id": "northern-mount",
   "metadata": {},
   "outputs": [
    {
     "name": "stdout",
     "output_type": "stream",
     "text": [
      "Objective: 7293 miles\n",
      "Route for vehicle 0:\n",
      " 0 -> 7 -> 2 -> 3 -> 4 -> 12 -> 6 -> 8 -> 1 -> 11 -> 10 -> 5 -> 9 -> 0\n",
      "\n"
     ]
    }
   ],
   "source": [
    "\"\"\"Simple travelling salesman problem between cities.\"\"\"\n",
    "\n",
    "from ortools.constraint_solver import routing_enums_pb2\n",
    "from ortools.constraint_solver import pywrapcp\n",
    "\n",
    "\n",
    "def create_data_model():\n",
    "    \"\"\"Stores the data for the problem.\"\"\"\n",
    "    data = {}\n",
    "    data['distance_matrix'] = [\n",
    "        [0, 2451, 713, 1018, 1631, 1374, 2408, 213, 2571, 875, 1420, 2145, 1972],\n",
    "        [2451, 0, 1745, 1524, 831, 1240, 959, 2596, 403, 1589, 1374, 357, 579],\n",
    "        [713, 1745, 0, 355, 920, 803, 1737, 851, 1858, 262, 940, 1453, 1260],\n",
    "        [1018, 1524, 355, 0, 700, 862, 1395, 1123, 1584, 466, 1056, 1280, 987],\n",
    "        [1631, 831, 920, 700, 0, 663, 1021, 1769, 949, 796, 879, 586, 371],\n",
    "        [1374, 1240, 803, 862, 663, 0, 1681, 1551, 1765, 547, 225, 887, 999],\n",
    "        [2408, 959, 1737, 1395, 1021, 1681, 0, 2493, 678, 1724, 1891, 1114, 701],\n",
    "        [213, 2596, 851, 1123, 1769, 1551, 2493, 0, 2699, 1038, 1605, 2300, 2099],\n",
    "        [2571, 403, 1858, 1584, 949, 1765, 678, 2699, 0, 1744, 1645, 653, 600],\n",
    "        [875, 1589, 262, 466, 796, 547, 1724, 1038, 1744, 0, 679, 1272, 1162],\n",
    "        [1420, 1374, 940, 1056, 879, 225, 1891, 1605, 1645, 679, 0, 1017, 1200],\n",
    "        [2145, 357, 1453, 1280, 586, 887, 1114, 2300, 653, 1272, 1017, 0, 504],\n",
    "        [1972, 579, 1260, 987, 371, 999, 701, 2099, 600, 1162, 1200, 504, 0],\n",
    "    ]  # yapf: disable\n",
    "    data['num_vehicles'] = 1\n",
    "    data['depot'] = 0\n",
    "    return data\n",
    "\n",
    "\n",
    "def print_solution(manager, routing, solution):\n",
    "    \"\"\"Prints solution on console.\"\"\"\n",
    "    print('Objective: {} miles'.format(solution.ObjectiveValue()))\n",
    "    index = routing.Start(0)\n",
    "    plan_output = 'Route for vehicle 0:\\n'\n",
    "    route_distance = 0\n",
    "    while not routing.IsEnd(index):\n",
    "        plan_output += ' {} ->'.format(manager.IndexToNode(index))\n",
    "        previous_index = index\n",
    "        index = solution.Value(routing.NextVar(index))\n",
    "        route_distance += routing.GetArcCostForVehicle(previous_index, index, 0)\n",
    "    plan_output += ' {}\\n'.format(manager.IndexToNode(index))\n",
    "    print(plan_output)\n",
    "    plan_output += 'Route distance: {}miles\\n'.format(route_distance)\n",
    "\n",
    "\n",
    "def main():\n",
    "    \"\"\"Entry point of the program.\"\"\"\n",
    "    # Instantiate the data problem.\n",
    "    data = create_data_model()\n",
    "\n",
    "    # Create the routing index manager.\n",
    "    manager = pywrapcp.RoutingIndexManager(len(data['distance_matrix']),\n",
    "                                           data['num_vehicles'], data['depot'])\n",
    "\n",
    "    # Create Routing Model.\n",
    "    routing = pywrapcp.RoutingModel(manager)\n",
    "\n",
    "\n",
    "    def distance_callback(from_index, to_index):\n",
    "        \"\"\"Returns the distance between the two nodes.\"\"\"\n",
    "        # Convert from routing variable Index to distance matrix NodeIndex.\n",
    "        from_node = manager.IndexToNode(from_index)\n",
    "        to_node = manager.IndexToNode(to_index)\n",
    "        return data['distance_matrix'][from_node][to_node]\n",
    "\n",
    "    transit_callback_index = routing.RegisterTransitCallback(distance_callback)\n",
    "\n",
    "    # Define cost of each arc.\n",
    "    routing.SetArcCostEvaluatorOfAllVehicles(transit_callback_index)\n",
    "\n",
    "    # Setting first solution heuristic.\n",
    "    search_parameters = pywrapcp.DefaultRoutingSearchParameters()\n",
    "    search_parameters.first_solution_strategy = (\n",
    "        routing_enums_pb2.FirstSolutionStrategy.PATH_CHEAPEST_ARC)\n",
    "\n",
    "    # Solve the problem.\n",
    "    solution = routing.SolveWithParameters(search_parameters)\n",
    "\n",
    "    # Print solution on console.\n",
    "    if solution:\n",
    "        print_solution(manager, routing, solution)\n",
    "\n",
    "\n",
    "if __name__ == '__main__':\n",
    "    main()"
   ]
  },
  {
   "cell_type": "code",
   "execution_count": 3,
   "id": "mineral-peter",
   "metadata": {},
   "outputs": [],
   "source": [
    "# Create the data - Google ORTools\n",
    "def create_data_model():\n",
    "    \"\"\"Stores the data for the problem.\"\"\"\n",
    "    data = {}\n",
    "    data['distance_matrix'] = [\n",
    "        [0, 2451, 713, 1018, 1631, 1374, 2408, 213, 2571, 875, 1420, 2145, 1972],\n",
    "        [2451, 0, 1745, 1524, 831, 1240, 959, 2596, 403, 1589, 1374, 357, 579],\n",
    "        [713, 1745, 0, 355, 920, 803, 1737, 851, 1858, 262, 940, 1453, 1260],\n",
    "        [1018, 1524, 355, 0, 700, 862, 1395, 1123, 1584, 466, 1056, 1280, 987],\n",
    "        [1631, 831, 920, 700, 0, 663, 1021, 1769, 949, 796, 879, 586, 371],\n",
    "        [1374, 1240, 803, 862, 663, 0, 1681, 1551, 1765, 547, 225, 887, 999],\n",
    "        [2408, 959, 1737, 1395, 1021, 1681, 0, 2493, 678, 1724, 1891, 1114, 701],\n",
    "        [213, 2596, 851, 1123, 1769, 1551, 2493, 0, 2699, 1038, 1605, 2300, 2099],\n",
    "        [2571, 403, 1858, 1584, 949, 1765, 678, 2699, 0, 1744, 1645, 653, 600],\n",
    "        [875, 1589, 262, 466, 796, 547, 1724, 1038, 1744, 0, 679, 1272, 1162],\n",
    "        [1420, 1374, 940, 1056, 879, 225, 1891, 1605, 1645, 679, 0, 1017, 1200],\n",
    "        [2145, 357, 1453, 1280, 586, 887, 1114, 2300, 653, 1272, 1017, 0, 504],\n",
    "        [1972, 579, 1260, 987, 371, 999, 701, 2099, 600, 1162, 1200, 504, 0],\n",
    "    ]  # yapf: disable\n",
    "    data['num_vehicles'] = 1\n",
    "    data['depot'] = 0\n",
    "    return data"
   ]
  },
  {
   "cell_type": "code",
   "execution_count": 4,
   "id": "foreign-description",
   "metadata": {},
   "outputs": [
    {
     "ename": "NameError",
     "evalue": "name 'pywrapcp' is not defined",
     "output_type": "error",
     "traceback": [
      "\u001b[0;31m---------------------------------------------------------------------------\u001b[0m",
      "\u001b[0;31mNameError\u001b[0m                                 Traceback (most recent call last)",
      "\u001b[0;32m<ipython-input-4-fc1a8b66f0de>\u001b[0m in \u001b[0;36m<module>\u001b[0;34m\u001b[0m\n\u001b[1;32m      1\u001b[0m \u001b[0mdata\u001b[0m \u001b[0;34m=\u001b[0m \u001b[0mcreate_data_model\u001b[0m\u001b[0;34m(\u001b[0m\u001b[0;34m)\u001b[0m\u001b[0;34m\u001b[0m\u001b[0;34m\u001b[0m\u001b[0m\n\u001b[0;32m----> 2\u001b[0;31m manager = pywrapcp.RoutingIndexManager(len(data['distance_matrix']),\n\u001b[0m\u001b[1;32m      3\u001b[0m                                        data['num_vehicles'], data['depot'])\n\u001b[1;32m      4\u001b[0m \u001b[0mrouting\u001b[0m \u001b[0;34m=\u001b[0m \u001b[0mpywrapcp\u001b[0m\u001b[0;34m.\u001b[0m\u001b[0mRoutingModel\u001b[0m\u001b[0;34m(\u001b[0m\u001b[0mmanager\u001b[0m\u001b[0;34m)\u001b[0m\u001b[0;34m\u001b[0m\u001b[0;34m\u001b[0m\u001b[0m\n",
      "\u001b[0;31mNameError\u001b[0m: name 'pywrapcp' is not defined"
     ]
    }
   ],
   "source": [
    "# Create the routing model - Google ORToots\n",
    "data = create_data_model()\n",
    "manager = pywrapcp.RoutingIndexManager(len(data['distance_matrix']),\n",
    "                                       data['num_vehicles'], data['depot'])\n",
    "routing = pywrapcp.RoutingModel(manager)"
   ]
  },
  {
   "cell_type": "code",
   "execution_count": 5,
   "id": "taken-captain",
   "metadata": {},
   "outputs": [
    {
     "ename": "NameError",
     "evalue": "name 'routing' is not defined",
     "output_type": "error",
     "traceback": [
      "\u001b[0;31m---------------------------------------------------------------------------\u001b[0m",
      "\u001b[0;31mNameError\u001b[0m                                 Traceback (most recent call last)",
      "\u001b[0;32m<ipython-input-5-efc79196e943>\u001b[0m in \u001b[0;36m<module>\u001b[0;34m\u001b[0m\n\u001b[1;32m      7\u001b[0m     \u001b[0;32mreturn\u001b[0m \u001b[0mdata\u001b[0m\u001b[0;34m[\u001b[0m\u001b[0;34m'distance_matrix'\u001b[0m\u001b[0;34m]\u001b[0m\u001b[0;34m[\u001b[0m\u001b[0mfrom_node\u001b[0m\u001b[0;34m]\u001b[0m\u001b[0;34m[\u001b[0m\u001b[0mto_node\u001b[0m\u001b[0;34m]\u001b[0m\u001b[0;34m\u001b[0m\u001b[0;34m\u001b[0m\u001b[0m\n\u001b[1;32m      8\u001b[0m \u001b[0;34m\u001b[0m\u001b[0m\n\u001b[0;32m----> 9\u001b[0;31m \u001b[0mtransit_callback_index\u001b[0m \u001b[0;34m=\u001b[0m \u001b[0mrouting\u001b[0m\u001b[0;34m.\u001b[0m\u001b[0mRegisterTransitCallback\u001b[0m\u001b[0;34m(\u001b[0m\u001b[0mdistance_callback\u001b[0m\u001b[0;34m)\u001b[0m\u001b[0;34m\u001b[0m\u001b[0;34m\u001b[0m\u001b[0m\n\u001b[0m\u001b[1;32m     10\u001b[0m \u001b[0;34m\u001b[0m\u001b[0m\n",
      "\u001b[0;31mNameError\u001b[0m: name 'routing' is not defined"
     ]
    }
   ],
   "source": [
    "# Create the distance callback\n",
    "def distance_callback(from_index, to_index):\n",
    "    \"\"\"Returns the distance between the two nodes.\"\"\"\n",
    "    # Convert from routing variable Index to distance matrix NodeIndex.\n",
    "    from_node = manager.IndexToNode(from_index)\n",
    "    to_node = manager.IndexToNode(to_index)\n",
    "    return data['distance_matrix'][from_node][to_node]\n",
    "\n",
    "transit_callback_index = routing.RegisterTransitCallback(distance_callback)\n",
    "      "
   ]
  },
  {
   "cell_type": "code",
   "execution_count": null,
   "id": "precise-migration",
   "metadata": {},
   "outputs": [],
   "source": [
    "# Set the cost of travel\n",
    "routing.SetArcCostEvaluatorOfAllVehicles(transit_callback_index)"
   ]
  },
  {
   "cell_type": "code",
   "execution_count": null,
   "id": "original-action",
   "metadata": {},
   "outputs": [],
   "source": [
    "# Set search parameters\n",
    "search_parameters = pywrapcp.DefaultRoutingSearchParameters()\n",
    "search_parameters.first_solution_strategy = (\n",
    "    routing_enums_pb2.FirstSolutionStrategy.PATH_CHEAPEST_ARC)"
   ]
  },
  {
   "cell_type": "code",
   "execution_count": null,
   "id": "prerequisite-trauma",
   "metadata": {},
   "outputs": [],
   "source": [
    "# Add the solution printer\n",
    "def print_solution(manager, routing, solution):\n",
    "    \"\"\"Prints solution on console.\"\"\"\n",
    "    print('Objective: {} miles'.format(solution.ObjectiveValue()))\n",
    "    index = routing.Start(0)\n",
    "    plan_output = 'Route for vehicle 0:\\n'\n",
    "    route_distance = 0\n",
    "    while not routing.IsEnd(index):\n",
    "        plan_output += ' {} ->'.format(manager.IndexToNode(index))\n",
    "        previous_index = index\n",
    "        index = solution.Value(routing.NextVar(index))\n",
    "        route_distance += routing.GetArcCostForVehicle(previous_index, index, 0)\n",
    "    plan_output += ' {}\\n'.format(manager.IndexToNode(index))\n",
    "    print(plan_output)\n",
    "    plan_output += 'Route distance: {}miles\\n'.format(route_distance)"
   ]
  },
  {
   "cell_type": "code",
   "execution_count": null,
   "id": "alternate-sudan",
   "metadata": {},
   "outputs": [],
   "source": [
    "# Solve and print the solution\n",
    "solution = routing.SolveWithParameters(search_parameters)\n",
    "if solution:\n",
    "    print_solution(manager, routing, solution)"
   ]
  },
  {
   "cell_type": "code",
   "execution_count": null,
   "id": "certified-ridge",
   "metadata": {},
   "outputs": [],
   "source": [
    "# Run the programs\n"
   ]
  },
  {
   "cell_type": "code",
   "execution_count": null,
   "id": "worldwide-facing",
   "metadata": {},
   "outputs": [],
   "source": [
    "# Save routes to a list or array\n",
    "def get_routes(solution, routing, manager):\n",
    "  \"\"\"Get vehicle routes from a solution and store them in an array.\"\"\"\n",
    "  # Get vehicle routes and store them in a two dimensional array whose\n",
    "  # i,j entry is the jth location visited by vehicle i along its route.\n",
    "  routes = []\n",
    "  for route_nbr in range(routing.vehicles()):\n",
    "    index = routing.Start(route_nbr)\n",
    "    route = [manager.IndexToNode(index)]\n",
    "    while not routing.IsEnd(index):\n",
    "      index = solution.Value(routing.NextVar(index))\n",
    "      route.append(manager.IndexToNode(index))\n",
    "    routes.append(route)\n",
    "  return routes"
   ]
  },
  {
   "cell_type": "code",
   "execution_count": null,
   "id": "unknown-latter",
   "metadata": {},
   "outputs": [],
   "source": [
    "routes = get_routes(solution, routing, manager)\n",
    "# Display the routes.\n",
    "for i, route in enumerate(routes):\n",
    "  print('Route', i, route)"
   ]
  }
 ],
 "metadata": {
  "kernelspec": {
   "display_name": "LHL_Bootcamp",
   "language": "python",
   "name": "lhl_bootcamp"
  },
  "language_info": {
   "codemirror_mode": {
    "name": "ipython",
    "version": 3
   },
   "file_extension": ".py",
   "mimetype": "text/x-python",
   "name": "python",
   "nbconvert_exporter": "python",
   "pygments_lexer": "ipython3",
   "version": "3.7.10"
  }
 },
 "nbformat": 4,
 "nbformat_minor": 5
}
